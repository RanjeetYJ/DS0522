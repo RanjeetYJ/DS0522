{
 "cells": [
  {
   "cell_type": "markdown",
   "id": "77c9b126",
   "metadata": {},
   "source": [
    "### 11. Python program to find the factorial of a number."
   ]
  },
  {
   "cell_type": "code",
   "execution_count": 1,
   "id": "c8e3452c",
   "metadata": {},
   "outputs": [
    {
     "name": "stdout",
     "output_type": "stream",
     "text": [
      "Enter the number: 5\n",
      "Factorial = 120\n"
     ]
    }
   ],
   "source": [
    "i = int(input(\"Enter the number: \"))\n",
    "fac = 1\n",
    "while (i>0):\n",
    "    fac = fac*i\n",
    "    i = i-1\n",
    "print(\"Factorial =\",fac)"
   ]
  },
  {
   "cell_type": "markdown",
   "id": "f4e04119",
   "metadata": {},
   "source": [
    "### 12. Python program to find whether a number is prime or composite."
   ]
  },
  {
   "cell_type": "code",
   "execution_count": 5,
   "id": "d6ea48bf",
   "metadata": {},
   "outputs": [
    {
     "name": "stdout",
     "output_type": "stream",
     "text": [
      "Enter the number: 6\n",
      "This number is a composite number.\n"
     ]
    }
   ],
   "source": [
    "n = int(input(\"Enter the number: \"))\n",
    "count = 0\n",
    "i = 1\n",
    "while (i<=n):\n",
    "    if(n%i==0):\n",
    "        count = count+1\n",
    "    i = i+1\n",
    "if(count==2):\n",
    "    print(\"This number is a prime number.\")\n",
    "else:\n",
    "    print(\"This number is a composite number.\")"
   ]
  },
  {
   "cell_type": "markdown",
   "id": "d18c0797",
   "metadata": {},
   "source": [
    "### 13. Python program to check whether a given string is palindrome or not."
   ]
  },
  {
   "cell_type": "code",
   "execution_count": 6,
   "id": "5d822d87",
   "metadata": {},
   "outputs": [
    {
     "name": "stdout",
     "output_type": "stream",
     "text": [
      "Enter the number: 33\n",
      "The given number is a palindrome number.\n"
     ]
    }
   ],
   "source": [
    "i = int(input(\"Enter the number: \"))\n",
    "rev = 0\n",
    "x = i\n",
    "while(i>0):\n",
    "    rev = (rev*10)+i%10\n",
    "    i = i//10\n",
    "if(x==rev):\n",
    "    print(\"The given number is a palindrome number.\")\n",
    "else:\n",
    "    print(\"The given number is not a palindrome number.\")"
   ]
  },
  {
   "cell_type": "markdown",
   "id": "9eb6415c",
   "metadata": {},
   "source": [
    "### 14. Python program to get the third side of right-angled triangle from two given sides."
   ]
  },
  {
   "cell_type": "code",
   "execution_count": 11,
   "id": "da10ea61",
   "metadata": {},
   "outputs": [
    {
     "name": "stdout",
     "output_type": "stream",
     "text": [
      "Enter the value of opposite_side: 3\n",
      "Enter the value of adjacent_side: 4\n",
      "The value of hypotenuse_side (c) is: 5.0\n"
     ]
    }
   ],
   "source": [
    "# Import the necessary library.\n",
    "import math\n",
    "\n",
    "a = float(input(\"Enter the value of opposite_side: \"))\n",
    "b = float(input(\"Enter the value of adjacent_side: \"))\n",
    "c = math.sqrt(a ** 2 + b ** 2)\n",
    "\n",
    "print(f\"The value of hypotenuse_side (c) is: {c}\")"
   ]
  },
  {
   "cell_type": "markdown",
   "id": "bacb9142",
   "metadata": {},
   "source": [
    "### 15. Python program to print the frequency of each of the characters present in a given string."
   ]
  },
  {
   "cell_type": "code",
   "execution_count": 17,
   "id": "bd15050a",
   "metadata": {},
   "outputs": [
    {
     "name": "stdout",
     "output_type": "stream",
     "text": [
      "Enter the string: DATASCIENCE\n",
      "Frequency of each character in a given string is:  {'D': 1, 'A': 2, 'T': 1, 'S': 1, 'C': 2, 'I': 1, 'E': 2, 'N': 1}\n"
     ]
    }
   ],
   "source": [
    "str = input (\"Enter the string: \")\n",
    "d = dict()\n",
    "for c in str:\n",
    "    if c in d:\n",
    "        d[c] = d[c] + 1\n",
    "    else:\n",
    "        d[c] = 1\n",
    "print(\"Frequency of each character in a given string is: \",d)"
   ]
  }
 ],
 "metadata": {
  "kernelspec": {
   "display_name": "Python 3 (ipykernel)",
   "language": "python",
   "name": "python3"
  },
  "language_info": {
   "codemirror_mode": {
    "name": "ipython",
    "version": 3
   },
   "file_extension": ".py",
   "mimetype": "text/x-python",
   "name": "python",
   "nbconvert_exporter": "python",
   "pygments_lexer": "ipython3",
   "version": "3.9.12"
  }
 },
 "nbformat": 4,
 "nbformat_minor": 5
}
