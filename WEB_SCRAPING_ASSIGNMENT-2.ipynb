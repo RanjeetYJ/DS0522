{
 "cells": [
  {
   "cell_type": "code",
   "execution_count": 10,
   "metadata": {},
   "outputs": [
    {
     "name": "stdout",
     "output_type": "stream",
     "text": [
      "Requirement already satisfied: selenium in c:\\users\\admin\\anaconda3\\lib\\site-packages (4.5.0)\n",
      "Requirement already satisfied: trio~=0.17 in c:\\users\\admin\\anaconda3\\lib\\site-packages (from selenium) (0.22.0)\n",
      "Requirement already satisfied: certifi>=2021.10.8 in c:\\users\\admin\\anaconda3\\lib\\site-packages (from selenium) (2021.10.8)\n",
      "Requirement already satisfied: urllib3[socks]~=1.26 in c:\\users\\admin\\anaconda3\\lib\\site-packages (from selenium) (1.26.9)\n",
      "Requirement already satisfied: trio-websocket~=0.9 in c:\\users\\admin\\anaconda3\\lib\\site-packages (from selenium) (0.9.2)\n",
      "Requirement already satisfied: sniffio in c:\\users\\admin\\anaconda3\\lib\\site-packages (from trio~=0.17->selenium) (1.2.0)\n",
      "Requirement already satisfied: async-generator>=1.9 in c:\\users\\admin\\anaconda3\\lib\\site-packages (from trio~=0.17->selenium) (1.10)\n",
      "Requirement already satisfied: outcome in c:\\users\\admin\\anaconda3\\lib\\site-packages (from trio~=0.17->selenium) (1.2.0)\n",
      "Requirement already satisfied: exceptiongroup>=1.0.0rc9 in c:\\users\\admin\\anaconda3\\lib\\site-packages (from trio~=0.17->selenium) (1.0.0)\n",
      "Requirement already satisfied: attrs>=19.2.0 in c:\\users\\admin\\anaconda3\\lib\\site-packages (from trio~=0.17->selenium) (21.4.0)\n",
      "Requirement already satisfied: cffi>=1.14 in c:\\users\\admin\\anaconda3\\lib\\site-packages (from trio~=0.17->selenium) (1.15.0)\n",
      "Requirement already satisfied: idna in c:\\users\\admin\\anaconda3\\lib\\site-packages (from trio~=0.17->selenium) (3.3)\n",
      "Requirement already satisfied: sortedcontainers in c:\\users\\admin\\anaconda3\\lib\\site-packages (from trio~=0.17->selenium) (2.4.0)\n",
      "Requirement already satisfied: pycparser in c:\\users\\admin\\anaconda3\\lib\\site-packages (from cffi>=1.14->trio~=0.17->selenium) (2.21)\n",
      "Requirement already satisfied: wsproto>=0.14 in c:\\users\\admin\\anaconda3\\lib\\site-packages (from trio-websocket~=0.9->selenium) (1.2.0)\n",
      "Requirement already satisfied: PySocks!=1.5.7,<2.0,>=1.5.6 in c:\\users\\admin\\anaconda3\\lib\\site-packages (from urllib3[socks]~=1.26->selenium) (1.7.1)\n",
      "Requirement already satisfied: h11<1,>=0.9.0 in c:\\users\\admin\\anaconda3\\lib\\site-packages (from wsproto>=0.14->trio-websocket~=0.9->selenium) (0.14.0)\n"
     ]
    }
   ],
   "source": [
    "# Installing the selenium.\n",
    "!pip install selenium"
   ]
  },
  {
   "cell_type": "code",
   "execution_count": 11,
   "metadata": {},
   "outputs": [],
   "source": [
    "# Importing necessary libraries.\n",
    "import selenium\n",
    "import pandas as pd\n",
    "from selenium import webdriver\n",
    "import warnings\n",
    "warnings.filterwarnings('ignore')\n",
    "from selenium.common.exceptions import StaleElementReferenceException, NoSuchElementException\n",
    "from selenium.webdriver.common.by import By\n",
    "import time"
   ]
  },
  {
   "cell_type": "markdown",
   "metadata": {},
   "source": [
    "## 1. Write a python program to scrape data for “Data Analyst” Job position in “Bangalore” location. You have to scrape the job-title, job-location, company_name, experience_required. You have to scrape first 10 jobs data. This task will be done in following steps:\n",
    "\n",
    "1. First get the webpage https://www.naukri.com/\n",
    "\n",
    "2. Enter “Data Analyst” in “Skill,Designations,Companies” field and enter “Bangalore” in “enter the location” field.\n",
    "\n",
    "3. Then click the search button.\n",
    "\n",
    "4. Then scrape the data for the first 10 jobs results you get.\n",
    "\n",
    "5. Finally create a dataframe of the scraped data.\n",
    "\n",
    "Note- All of the above steps have to be done in code. No step is to be done manually."
   ]
  },
  {
   "cell_type": "code",
   "execution_count": 16,
   "metadata": {},
   "outputs": [
    {
     "data": {
      "text/plain": [
       "<selenium.webdriver.chrome.webdriver.WebDriver (session=\"ed324cb4e9e42b7d34cf9c6379882e2a\")>"
      ]
     },
     "execution_count": 16,
     "metadata": {},
     "output_type": "execute_result"
    }
   ],
   "source": [
    "# Let's first connect to web driver.\n",
    "driver=webdriver.Chrome(r\"H:\\Data_Science\\chromedriver.exe\")\n",
    "driver"
   ]
  },
  {
   "cell_type": "code",
   "execution_count": 17,
   "metadata": {},
   "outputs": [],
   "source": [
    "# Opening naukri.com\n",
    "url ='https://www.naukri.com/'\n",
    "driver.get(url)"
   ]
  },
  {
   "cell_type": "markdown",
   "metadata": {},
   "source": [
    "##### Sending Input as “Data Analyst” in “Skill,Designations,Companies” field and  “Bangalore” in “enter the location” field."
   ]
  },
  {
   "cell_type": "code",
   "execution_count": 18,
   "metadata": {},
   "outputs": [],
   "source": [
    "driver.find_element(By.XPATH,'//*[@id=\"root\"]/div[6]/div/div/div[1]/div/div/div[1]/input').send_keys('Data Analyst')\n",
    "driver.find_element(By.XPATH,'//*[@id=\"root\"]/div[6]/div/div/div[5]/div/div/div/input').send_keys('Bangalore')\n",
    "driver.find_element(By.XPATH,'//*[@id=\"root\"]/div[6]/div/div/div[6]').click()"
   ]
  },
  {
   "cell_type": "code",
   "execution_count": 19,
   "metadata": {},
   "outputs": [],
   "source": [
    "# Creating empty lists to store job title, job location, company name, experiecne require\n",
    "job_title =[]\n",
    "job_location=[]\n",
    "company =[]\n",
    "experienced=[]"
   ]
  },
  {
   "cell_type": "markdown",
   "metadata": {},
   "source": [
    "##### Scraping job title, job location, company name, experiecne require from Naukri website"
   ]
  },
  {
   "cell_type": "code",
   "execution_count": 20,
   "metadata": {},
   "outputs": [],
   "source": [
    "titles=driver.find_elements(By.XPATH,'//div[@class=\"info fleft\"]/a')[:10]\n",
    "company_title=driver.find_elements(By.XPATH,'//a[@class=\"subTitle ellipsis fleft\"]')[:10]\n",
    "company_location= driver.find_elements(By.XPATH,'//li[@class=\"fleft grey-text br2 placeHolderLi location\"]')[:10]\n",
    "experience_require=driver.find_elements(By.XPATH,\"//li[@class='fleft grey-text br2 placeHolderLi experience']/span[1]\")[0:10]"
   ]
  },
  {
   "cell_type": "markdown",
   "metadata": {},
   "source": [
    "##### appending scrap data in lists"
   ]
  },
  {
   "cell_type": "code",
   "execution_count": 21,
   "metadata": {},
   "outputs": [],
   "source": [
    "for i in titles:\n",
    "    job_title.append(i.text)\n",
    "for i in company_title:\n",
    "    company.append(i.text)\n",
    "for i in company_location:\n",
    "    job_location.append(i.text)\n",
    "for i in experience_require:\n",
    "    experience=i.text\n",
    "    experienced.append(experience)"
   ]
  },
  {
   "cell_type": "code",
   "execution_count": 22,
   "metadata": {},
   "outputs": [
    {
     "name": "stdout",
     "output_type": "stream",
     "text": [
      "/033[1mTop 10 Data Analyst Job at Bangrole :/033[0m\n"
     ]
    },
    {
     "data": {
      "text/html": [
       "<div>\n",
       "<style scoped>\n",
       "    .dataframe tbody tr th:only-of-type {\n",
       "        vertical-align: middle;\n",
       "    }\n",
       "\n",
       "    .dataframe tbody tr th {\n",
       "        vertical-align: top;\n",
       "    }\n",
       "\n",
       "    .dataframe thead th {\n",
       "        text-align: right;\n",
       "    }\n",
       "</style>\n",
       "<table border=\"1\" class=\"dataframe\">\n",
       "  <thead>\n",
       "    <tr style=\"text-align: right;\">\n",
       "      <th></th>\n",
       "      <th>JOB TITLE</th>\n",
       "      <th>COMPANY</th>\n",
       "      <th>JOB LOCATION</th>\n",
       "      <th>Experience Require</th>\n",
       "    </tr>\n",
       "  </thead>\n",
       "  <tbody>\n",
       "    <tr>\n",
       "      <th>0</th>\n",
       "      <td>Senior Data Analyst - PLM Data Migration</td>\n",
       "      <td>CGI</td>\n",
       "      <td>Bangalore/Bengaluru</td>\n",
       "      <td>3-6 Yrs</td>\n",
       "    </tr>\n",
       "    <tr>\n",
       "      <th>1</th>\n",
       "      <td>Lead Data Analyst</td>\n",
       "      <td>Mobile Premier League (MPL)</td>\n",
       "      <td>Bangalore/Bengaluru</td>\n",
       "      <td>4-7 Yrs</td>\n",
       "    </tr>\n",
       "    <tr>\n",
       "      <th>2</th>\n",
       "      <td>Contractual Hiring For Top MNC || Business Dat...</td>\n",
       "      <td>TeamLease</td>\n",
       "      <td>Bangalore/Bengaluru</td>\n",
       "      <td>5-8 Yrs</td>\n",
       "    </tr>\n",
       "    <tr>\n",
       "      <th>3</th>\n",
       "      <td>Master Data Management Business Analyst</td>\n",
       "      <td>Accenture</td>\n",
       "      <td>Bangalore/Bengaluru</td>\n",
       "      <td>6-8 Yrs</td>\n",
       "    </tr>\n",
       "    <tr>\n",
       "      <th>4</th>\n",
       "      <td>Sr. Data Analyst (SAS Data Management)</td>\n",
       "      <td>NMS Consultant</td>\n",
       "      <td>Bangalore/Bengaluru, New Delhi</td>\n",
       "      <td>5-10 Yrs</td>\n",
       "    </tr>\n",
       "    <tr>\n",
       "      <th>5</th>\n",
       "      <td>Data Analyst</td>\n",
       "      <td>IBM</td>\n",
       "      <td>Bangalore/Bengaluru</td>\n",
       "      <td>3-4 Yrs</td>\n",
       "    </tr>\n",
       "    <tr>\n",
       "      <th>6</th>\n",
       "      <td>Data Analyst 2</td>\n",
       "      <td>Zynga</td>\n",
       "      <td>Bangalore/Bengaluru</td>\n",
       "      <td>4-7 Yrs</td>\n",
       "    </tr>\n",
       "    <tr>\n",
       "      <th>7</th>\n",
       "      <td>Data Analyst</td>\n",
       "      <td>IBM</td>\n",
       "      <td>Bangalore/Bengaluru</td>\n",
       "      <td>3-4 Yrs</td>\n",
       "    </tr>\n",
       "    <tr>\n",
       "      <th>8</th>\n",
       "      <td>Senior Data Analyst</td>\n",
       "      <td>Groundtruth</td>\n",
       "      <td>Hybrid - Bangalore/Bengaluru, Gurgaon/Gurugram</td>\n",
       "      <td>5-8 Yrs</td>\n",
       "    </tr>\n",
       "    <tr>\n",
       "      <th>9</th>\n",
       "      <td>Sr Data Analyst</td>\n",
       "      <td>Mettox Laboratries</td>\n",
       "      <td>Bangalore/Bengaluru</td>\n",
       "      <td>3-8 Yrs</td>\n",
       "    </tr>\n",
       "  </tbody>\n",
       "</table>\n",
       "</div>"
      ],
      "text/plain": [
       "                                           JOB TITLE  \\\n",
       "0           Senior Data Analyst - PLM Data Migration   \n",
       "1                                  Lead Data Analyst   \n",
       "2  Contractual Hiring For Top MNC || Business Dat...   \n",
       "3            Master Data Management Business Analyst   \n",
       "4             Sr. Data Analyst (SAS Data Management)   \n",
       "5                                       Data Analyst   \n",
       "6                                     Data Analyst 2   \n",
       "7                                       Data Analyst   \n",
       "8                                Senior Data Analyst   \n",
       "9                                    Sr Data Analyst   \n",
       "\n",
       "                       COMPANY  \\\n",
       "0                          CGI   \n",
       "1  Mobile Premier League (MPL)   \n",
       "2                    TeamLease   \n",
       "3                    Accenture   \n",
       "4               NMS Consultant   \n",
       "5                          IBM   \n",
       "6                        Zynga   \n",
       "7                          IBM   \n",
       "8                  Groundtruth   \n",
       "9           Mettox Laboratries   \n",
       "\n",
       "                                     JOB LOCATION Experience Require  \n",
       "0                             Bangalore/Bengaluru            3-6 Yrs  \n",
       "1                             Bangalore/Bengaluru            4-7 Yrs  \n",
       "2                             Bangalore/Bengaluru            5-8 Yrs  \n",
       "3                             Bangalore/Bengaluru            6-8 Yrs  \n",
       "4                  Bangalore/Bengaluru, New Delhi           5-10 Yrs  \n",
       "5                             Bangalore/Bengaluru            3-4 Yrs  \n",
       "6                             Bangalore/Bengaluru            4-7 Yrs  \n",
       "7                             Bangalore/Bengaluru            3-4 Yrs  \n",
       "8  Hybrid - Bangalore/Bengaluru, Gurgaon/Gurugram            5-8 Yrs  \n",
       "9                             Bangalore/Bengaluru            3-8 Yrs  "
      ]
     },
     "execution_count": 22,
     "metadata": {},
     "output_type": "execute_result"
    }
   ],
   "source": [
    "Data_analyst=pd.DataFrame({})\n",
    "Data_analyst['JOB TITLE']=job_title\n",
    "Data_analyst['COMPANY']=company\n",
    "Data_analyst['JOB LOCATION']=job_location\n",
    "Data_analyst['Experience Require']=experienced\n",
    "print('/033[1m'+'Top 10 Data Analyst Job at Bangrole :'+'/033[0m')\n",
    "Data_analyst[:10]"
   ]
  },
  {
   "cell_type": "markdown",
   "metadata": {},
   "source": [
    "## 2. Write a python program to scrape data for “Data Scientist” Job position in “Bangalore” location. You have to scrape the job-title, job-location,company_name, full job-description. You have to scrape first 10 jobs data.\n",
    "\n",
    "This task will be done in following steps:\n",
    "\n",
    "1. first get the webpage https://www.naukri.com/\n",
    "\n",
    "2. Enter “Data Scientist” in “Skill,Designations,Companies” field and enter “Bangalore” in “enter the location” field.\n",
    "\n",
    "3. Then click the search button.\n",
    "\n",
    "4. Then scrape the data for the first 10 jobs results you get.\n",
    "\n",
    "5. Finally create a dataframe of the scraped data.\n",
    "\n",
    "Note: All of the above steps have to be done in code. No step is to be done manually."
   ]
  },
  {
   "cell_type": "code",
   "execution_count": 24,
   "metadata": {},
   "outputs": [
    {
     "data": {
      "text/plain": [
       "<selenium.webdriver.chrome.webdriver.WebDriver (session=\"df6504e18447c7d9922509a88c6ba00b\")>"
      ]
     },
     "execution_count": 24,
     "metadata": {},
     "output_type": "execute_result"
    }
   ],
   "source": [
    "# Let's first connect to web driver.\n",
    "driver=webdriver.Chrome(r\"H:\\Data_Science\\chromedriver.exe\")\n",
    "driver"
   ]
  },
  {
   "cell_type": "code",
   "execution_count": 27,
   "metadata": {},
   "outputs": [],
   "source": [
    "# Opening naukri.com\n",
    "url ='https://www.naukri.com/'\n",
    "driver.get(url)"
   ]
  },
  {
   "cell_type": "markdown",
   "metadata": {},
   "source": [
    "##### Sending Input as “Data Scientist” in “Skill,Designations,Companies” field and  “Bangalore” in “enter the location” field."
   ]
  },
  {
   "cell_type": "code",
   "execution_count": 28,
   "metadata": {},
   "outputs": [],
   "source": [
    "driver.find_element(By.XPATH,'//*[@id=\"root\"]/div[6]/div/div/div[1]/div/div/div[1]/input').send_keys('Data Scientist')\n",
    "driver.find_element(By.XPATH,'//*[@id=\"root\"]/div[6]/div/div/div[5]/div/div/div/input').send_keys('Bangalore')\n",
    "driver.find_element(By.XPATH,'//*[@id=\"root\"]/div[6]/div/div/div[6]').click()"
   ]
  },
  {
   "cell_type": "code",
   "execution_count": 29,
   "metadata": {},
   "outputs": [],
   "source": [
    "#creating the empty lists\n",
    "job_title=[]\n",
    "job_location=[]\n",
    "company_name=[]\n",
    "job_description=[]"
   ]
  },
  {
   "cell_type": "markdown",
   "metadata": {},
   "source": [
    "#### Scraping data "
   ]
  },
  {
   "cell_type": "code",
   "execution_count": 30,
   "metadata": {},
   "outputs": [],
   "source": [
    "#getting the list of url of first 10 data scientist jobs\n",
    "\n",
    "URL=[]\n",
    "job_tags=driver.find_elements(By.XPATH,\"//a[@class='title fw500 ellipsis']\")[0:10]\n",
    "for i in job_tags:\n",
    "    URL.append(i.get_attribute('href'))"
   ]
  },
  {
   "cell_type": "code",
   "execution_count": 31,
   "metadata": {},
   "outputs": [],
   "source": [
    "for i in URL:\n",
    "    driver.get(i)\n",
    "    try:\n",
    "        job_title.append((driver.find_element(By.XPATH,'//*[@id=\"root\"]/main/div[2]/div[2]/section[1]/div[1]/div[1]/header/h1')).text)\n",
    "        job_location.append((driver.find_element(By.XPATH,'//*[@id=\"root\"]/main/div[2]/div[2]/section[1]/div[1]/div[2]/div[3]/span')).text)\n",
    "        company_name.append((driver.find_element(By.XPATH,'//*[@id=\"root\"]/main/div[2]/div[2]/section[1]/div[1]/div[1]/div/a')).text)\n",
    "        job_description.append((driver.find_element(By.XPATH,'//*[@id=\"root\"]/main/div[2]/div[2]/section[2]')).text.replace(\"\\n\",\"\"))\n",
    "    except NoSuchElementException:\n",
    "        job_title.append(\"Nan\")\n",
    "        job_location.append(\"Nan\")\n",
    "        company_name.append(\"Nan\")\n",
    "        job_description.append(\"Nan\")"
   ]
  },
  {
   "cell_type": "code",
   "execution_count": 32,
   "metadata": {},
   "outputs": [],
   "source": [
    "Data_scientist=pd.DataFrame({})\n",
    "Data_scientist['job_title']=job_title\n",
    "Data_scientist['job_location']=job_location\n",
    "Data_scientist['company_name']=company_name\n",
    "Data_scientist['job_description']=job_description"
   ]
  },
  {
   "cell_type": "code",
   "execution_count": 33,
   "metadata": {},
   "outputs": [
    {
     "name": "stdout",
     "output_type": "stream",
     "text": [
      "\u001b[1mTop 10 Data Analyst Job at Bangrole :\u001b[0m\n"
     ]
    },
    {
     "data": {
      "text/html": [
       "<div>\n",
       "<style scoped>\n",
       "    .dataframe tbody tr th:only-of-type {\n",
       "        vertical-align: middle;\n",
       "    }\n",
       "\n",
       "    .dataframe tbody tr th {\n",
       "        vertical-align: top;\n",
       "    }\n",
       "\n",
       "    .dataframe thead th {\n",
       "        text-align: right;\n",
       "    }\n",
       "</style>\n",
       "<table border=\"1\" class=\"dataframe\">\n",
       "  <thead>\n",
       "    <tr style=\"text-align: right;\">\n",
       "      <th></th>\n",
       "      <th>job_title</th>\n",
       "      <th>job_location</th>\n",
       "      <th>company_name</th>\n",
       "      <th>job_description</th>\n",
       "    </tr>\n",
       "  </thead>\n",
       "  <tbody>\n",
       "    <tr>\n",
       "      <th>0</th>\n",
       "      <td>Analystics &amp; Modeling Specialist</td>\n",
       "      <td>Kolkata, Mumbai, Hyderabad/Secunderabad, Pune,...</td>\n",
       "      <td>Accenture</td>\n",
       "      <td>Job descriptionThis role will be a part of Sur...</td>\n",
       "    </tr>\n",
       "    <tr>\n",
       "      <th>1</th>\n",
       "      <td>Senior Data Scientist</td>\n",
       "      <td>Pune, Chennai, Bangalore/Bengaluru</td>\n",
       "      <td>Wipro</td>\n",
       "      <td>Job descriptionRoles and ResponsibilitiesJob D...</td>\n",
       "    </tr>\n",
       "    <tr>\n",
       "      <th>2</th>\n",
       "      <td>Nan</td>\n",
       "      <td>Nan</td>\n",
       "      <td>Nan</td>\n",
       "      <td>Nan</td>\n",
       "    </tr>\n",
       "    <tr>\n",
       "      <th>3</th>\n",
       "      <td>Assistant Manager - Data Science</td>\n",
       "      <td>Mumbai, Pune, Bangalore/Bengaluru</td>\n",
       "      <td>Citiustech</td>\n",
       "      <td>Job descriptionRoles and ResponsibilitiesAs an...</td>\n",
       "    </tr>\n",
       "    <tr>\n",
       "      <th>4</th>\n",
       "      <td>Data Scientist</td>\n",
       "      <td>Hyderabad/Secunderabad, Pune, Chennai, Bangalo...</td>\n",
       "      <td>Altair</td>\n",
       "      <td>Job descriptionThe candidate must have the uni...</td>\n",
       "    </tr>\n",
       "    <tr>\n",
       "      <th>5</th>\n",
       "      <td>Python Programming Language Data Science Pract...</td>\n",
       "      <td>Bangalore/Bengaluru</td>\n",
       "      <td>Accenture</td>\n",
       "      <td>Job descriptionKey Responsibilities : DM-369- ...</td>\n",
       "    </tr>\n",
       "    <tr>\n",
       "      <th>6</th>\n",
       "      <td>Industry X - Software Engineering</td>\n",
       "      <td>Bangalore/Bengaluru</td>\n",
       "      <td>Accenture</td>\n",
       "      <td>Job descriptionDomain - Data ScienceDemonstrat...</td>\n",
       "    </tr>\n",
       "    <tr>\n",
       "      <th>7</th>\n",
       "      <td>Data Scientist: Artificial Intelligence</td>\n",
       "      <td>Bangalore/Bengaluru</td>\n",
       "      <td>IBM</td>\n",
       "      <td>Job descriptionAs a Data Scientist at IBM, you...</td>\n",
       "    </tr>\n",
       "    <tr>\n",
       "      <th>8</th>\n",
       "      <td>ACN - Applied Intelligence - C4DI - Sustainabi...</td>\n",
       "      <td>Bangalore/Bengaluru</td>\n",
       "      <td>Accenture</td>\n",
       "      <td>Job descriptionWe are looking for a highly mot...</td>\n",
       "    </tr>\n",
       "    <tr>\n",
       "      <th>9</th>\n",
       "      <td>Data Scientist</td>\n",
       "      <td>Bangalore/Bengaluru</td>\n",
       "      <td>Applied Materials</td>\n",
       "      <td>Job descriptionProgramming skills: Python (wit...</td>\n",
       "    </tr>\n",
       "  </tbody>\n",
       "</table>\n",
       "</div>"
      ],
      "text/plain": [
       "                                           job_title  \\\n",
       "0                   Analystics & Modeling Specialist   \n",
       "1                              Senior Data Scientist   \n",
       "2                                                Nan   \n",
       "3                   Assistant Manager - Data Science   \n",
       "4                                     Data Scientist   \n",
       "5  Python Programming Language Data Science Pract...   \n",
       "6                  Industry X - Software Engineering   \n",
       "7            Data Scientist: Artificial Intelligence   \n",
       "8  ACN - Applied Intelligence - C4DI - Sustainabi...   \n",
       "9                                     Data Scientist   \n",
       "\n",
       "                                        job_location       company_name  \\\n",
       "0  Kolkata, Mumbai, Hyderabad/Secunderabad, Pune,...          Accenture   \n",
       "1                 Pune, Chennai, Bangalore/Bengaluru              Wipro   \n",
       "2                                                Nan                Nan   \n",
       "3                  Mumbai, Pune, Bangalore/Bengaluru         Citiustech   \n",
       "4  Hyderabad/Secunderabad, Pune, Chennai, Bangalo...             Altair   \n",
       "5                                Bangalore/Bengaluru          Accenture   \n",
       "6                                Bangalore/Bengaluru          Accenture   \n",
       "7                                Bangalore/Bengaluru                IBM   \n",
       "8                                Bangalore/Bengaluru          Accenture   \n",
       "9                                Bangalore/Bengaluru  Applied Materials   \n",
       "\n",
       "                                     job_description  \n",
       "0  Job descriptionThis role will be a part of Sur...  \n",
       "1  Job descriptionRoles and ResponsibilitiesJob D...  \n",
       "2                                                Nan  \n",
       "3  Job descriptionRoles and ResponsibilitiesAs an...  \n",
       "4  Job descriptionThe candidate must have the uni...  \n",
       "5  Job descriptionKey Responsibilities : DM-369- ...  \n",
       "6  Job descriptionDomain - Data ScienceDemonstrat...  \n",
       "7  Job descriptionAs a Data Scientist at IBM, you...  \n",
       "8  Job descriptionWe are looking for a highly mot...  \n",
       "9  Job descriptionProgramming skills: Python (wit...  "
      ]
     },
     "execution_count": 33,
     "metadata": {},
     "output_type": "execute_result"
    }
   ],
   "source": [
    "print('\\033[1m'+'Top 10 Data Analyst Job at Bangrole :'+'\\033[0m')\n",
    "Data_scientist"
   ]
  },
  {
   "cell_type": "markdown",
   "metadata": {},
   "source": [
    "# 3. In this question you have to scrape data using the filters available on the webpage as shown below: You have to use the location and salary filter. You have to scrape data for “Data Scientist” designation for first 10 job results. You have to scrape the job-title, job-location, company_name, experience_required. The location filter to be used is “Delhi/NCR” . The salary filter to be used is “3-6” lakhs.\n",
    "\n",
    "The task will be done as shown in the below steps:\n",
    "\n",
    "1. First get the webpage https://www.naukri.com/\n",
    "\n",
    "2. Enter “Data Scientist” in “Skill,Designations,Companies” field.\n",
    "\n",
    "3. Then click the search button.\n",
    "\n",
    "4. Then apply the location filter and salary filter by checking the respective boxes.\n",
    "\n",
    "5. Then scrape the data for the first 10 jobs results you get.\n",
    "\n",
    "6. Finally create a dataframe of the scraped data.\n",
    "\n",
    "Note: All of the above steps have to be done in code. No step is to be done manually.\n"
   ]
  },
  {
   "cell_type": "code",
   "execution_count": 19,
   "metadata": {},
   "outputs": [
    {
     "data": {
      "text/plain": [
       "<selenium.webdriver.chrome.webdriver.WebDriver (session=\"ad37719d0add70a0884dd071c4beaf33\")>"
      ]
     },
     "execution_count": 19,
     "metadata": {},
     "output_type": "execute_result"
    }
   ],
   "source": [
    "# Let's first connect to web driver.\n",
    "driver=webdriver.Chrome(r\"H:\\Data_Science\\chromedriver.exe\")\n",
    "driver"
   ]
  },
  {
   "cell_type": "code",
   "execution_count": 20,
   "metadata": {},
   "outputs": [],
   "source": [
    "# Opening naukri.com\n",
    "url ='https://www.naukri.com/'\n",
    "driver.get(url)"
   ]
  },
  {
   "cell_type": "code",
   "execution_count": 21,
   "metadata": {},
   "outputs": [],
   "source": [
    "driver.find_element(By.XPATH,'//*[@id=\"root\"]/div[6]/div/div/div[1]/div/div/div[1]/input').send_keys('Data Scientist')\n",
    "driver.find_element(By.XPATH,'//*[@id=\"root\"]/div[6]/div/div/div[5]/div/div/div/input').send_keys('Delhi/NCR')\n",
    "driver.find_element(By.XPATH,'//*[@id=\"root\"]/div[6]/div/div/div[6]').click()"
   ]
  },
  {
   "cell_type": "code",
   "execution_count": 28,
   "metadata": {},
   "outputs": [],
   "source": [
    "# Creating empty lists to store job title, job location, company name, experiecne require\n",
    "job_title =[]\n",
    "job_location=[]\n",
    "company =[]\n",
    "experienced=[]"
   ]
  },
  {
   "cell_type": "markdown",
   "metadata": {},
   "source": [
    "##### Scraping job title, job location, company name, experiecne require from Naukri website"
   ]
  },
  {
   "cell_type": "code",
   "execution_count": 29,
   "metadata": {},
   "outputs": [],
   "source": [
    "titles=driver.find_elements(By.XPATH,'//a[@class=\"title fw500 ellipsis\"]')[:10]\n",
    "company_title=driver.find_elements(By.XPATH,'//a[@class=\"subTitle ellipsis fleft\"]')[:10]\n",
    "company_location= driver.find_elements(By.XPATH,'//li[@class=\"fleft grey-text br2 placeHolderLi location\"]')[:10]\n",
    "experience_require=driver.find_elements(By.XPATH,\"//li[@class='fleft grey-text br2 placeHolderLi experience']/span[1]\")[0:10]"
   ]
  },
  {
   "cell_type": "code",
   "execution_count": 30,
   "metadata": {},
   "outputs": [],
   "source": [
    "for i in titles:\n",
    "    job_title.append(i.text)\n",
    "for i in company_title:\n",
    "    company.append(i.text)\n",
    "for i in company_location:\n",
    "    job_location.append(i.text)\n",
    "for i in experience_require:\n",
    "    experience=i.text\n",
    "    experienced.append(experience)  "
   ]
  },
  {
   "cell_type": "code",
   "execution_count": 31,
   "metadata": {},
   "outputs": [
    {
     "name": "stdout",
     "output_type": "stream",
     "text": [
      "/033[1mTop 10 Data Analyst Job at Bangrole :/033[0m\n"
     ]
    },
    {
     "data": {
      "text/html": [
       "<div>\n",
       "<style scoped>\n",
       "    .dataframe tbody tr th:only-of-type {\n",
       "        vertical-align: middle;\n",
       "    }\n",
       "\n",
       "    .dataframe tbody tr th {\n",
       "        vertical-align: top;\n",
       "    }\n",
       "\n",
       "    .dataframe thead th {\n",
       "        text-align: right;\n",
       "    }\n",
       "</style>\n",
       "<table border=\"1\" class=\"dataframe\">\n",
       "  <thead>\n",
       "    <tr style=\"text-align: right;\">\n",
       "      <th></th>\n",
       "      <th>JOB TITLE</th>\n",
       "      <th>COMPANY</th>\n",
       "      <th>JOB LOCATION</th>\n",
       "      <th>Experience Require</th>\n",
       "    </tr>\n",
       "  </thead>\n",
       "  <tbody>\n",
       "    <tr>\n",
       "      <th>0</th>\n",
       "      <td>Analystics &amp; Modeling Specialist</td>\n",
       "      <td>Accenture</td>\n",
       "      <td>Kolkata, Mumbai, Hyderabad/Secunderabad, Pune,...</td>\n",
       "      <td>6-8 Yrs</td>\n",
       "    </tr>\n",
       "    <tr>\n",
       "      <th>1</th>\n",
       "      <td>Senior Data Scientist</td>\n",
       "      <td>Wipro</td>\n",
       "      <td>Hybrid - Pune, Chennai, Bangalore/Bengaluru</td>\n",
       "      <td>6-11 Yrs</td>\n",
       "    </tr>\n",
       "    <tr>\n",
       "      <th>2</th>\n",
       "      <td>Data Scientist - Looking For Immediate Joiners</td>\n",
       "      <td>Wipro</td>\n",
       "      <td>Hybrid - Hyderabad/Secunderabad, Bangalore/Ben...</td>\n",
       "      <td>5-10 Yrs</td>\n",
       "    </tr>\n",
       "    <tr>\n",
       "      <th>3</th>\n",
       "      <td>Assistant Manager - Data Science</td>\n",
       "      <td>Citiustech</td>\n",
       "      <td>Hybrid - Mumbai, Pune, Bangalore/Bengaluru</td>\n",
       "      <td>5-9 Yrs</td>\n",
       "    </tr>\n",
       "    <tr>\n",
       "      <th>4</th>\n",
       "      <td>Data Scientist</td>\n",
       "      <td>Altair</td>\n",
       "      <td>Hyderabad/Secunderabad, Pune, Chennai, Bangalo...</td>\n",
       "      <td>2-7 Yrs</td>\n",
       "    </tr>\n",
       "    <tr>\n",
       "      <th>5</th>\n",
       "      <td>Data Scientist</td>\n",
       "      <td>Quest Global</td>\n",
       "      <td>Bangalore/Bengaluru</td>\n",
       "      <td>5-7 Yrs</td>\n",
       "    </tr>\n",
       "    <tr>\n",
       "      <th>6</th>\n",
       "      <td>ACN - Applied Intelligence - Data Scientist - 09</td>\n",
       "      <td>Accenture</td>\n",
       "      <td>Bangalore/Bengaluru</td>\n",
       "      <td>2-6 Yrs</td>\n",
       "    </tr>\n",
       "    <tr>\n",
       "      <th>7</th>\n",
       "      <td>Data Scientist - 2</td>\n",
       "      <td>24 7 ai</td>\n",
       "      <td>Bangalore/Bengaluru</td>\n",
       "      <td>1-3 Yrs</td>\n",
       "    </tr>\n",
       "    <tr>\n",
       "      <th>8</th>\n",
       "      <td>Data Scientist</td>\n",
       "      <td>HCLTech</td>\n",
       "      <td>Noida, Hyderabad/Secunderabad, Chennai, Bangal...</td>\n",
       "      <td>4-9 Yrs</td>\n",
       "    </tr>\n",
       "    <tr>\n",
       "      <th>9</th>\n",
       "      <td>Data Scientist</td>\n",
       "      <td>Infinics Global Solutions Pvt Ltd</td>\n",
       "      <td>Kolkata, Hyderabad/Secunderabad, Pune, Ahmedab...</td>\n",
       "      <td>7-12 Yrs</td>\n",
       "    </tr>\n",
       "  </tbody>\n",
       "</table>\n",
       "</div>"
      ],
      "text/plain": [
       "                                          JOB TITLE  \\\n",
       "0                  Analystics & Modeling Specialist   \n",
       "1                             Senior Data Scientist   \n",
       "2    Data Scientist - Looking For Immediate Joiners   \n",
       "3                  Assistant Manager - Data Science   \n",
       "4                                    Data Scientist   \n",
       "5                                    Data Scientist   \n",
       "6  ACN - Applied Intelligence - Data Scientist - 09   \n",
       "7                                Data Scientist - 2   \n",
       "8                                    Data Scientist   \n",
       "9                                    Data Scientist   \n",
       "\n",
       "                             COMPANY  \\\n",
       "0                          Accenture   \n",
       "1                              Wipro   \n",
       "2                              Wipro   \n",
       "3                         Citiustech   \n",
       "4                             Altair   \n",
       "5                       Quest Global   \n",
       "6                          Accenture   \n",
       "7                            24 7 ai   \n",
       "8                            HCLTech   \n",
       "9  Infinics Global Solutions Pvt Ltd   \n",
       "\n",
       "                                        JOB LOCATION Experience Require  \n",
       "0  Kolkata, Mumbai, Hyderabad/Secunderabad, Pune,...            6-8 Yrs  \n",
       "1        Hybrid - Pune, Chennai, Bangalore/Bengaluru           6-11 Yrs  \n",
       "2  Hybrid - Hyderabad/Secunderabad, Bangalore/Ben...           5-10 Yrs  \n",
       "3         Hybrid - Mumbai, Pune, Bangalore/Bengaluru            5-9 Yrs  \n",
       "4  Hyderabad/Secunderabad, Pune, Chennai, Bangalo...            2-7 Yrs  \n",
       "5                                Bangalore/Bengaluru            5-7 Yrs  \n",
       "6                                Bangalore/Bengaluru            2-6 Yrs  \n",
       "7                                Bangalore/Bengaluru            1-3 Yrs  \n",
       "8  Noida, Hyderabad/Secunderabad, Chennai, Bangal...            4-9 Yrs  \n",
       "9  Kolkata, Hyderabad/Secunderabad, Pune, Ahmedab...           7-12 Yrs  "
      ]
     },
     "execution_count": 31,
     "metadata": {},
     "output_type": "execute_result"
    }
   ],
   "source": [
    "Data_scientist=pd.DataFrame({})\n",
    "Data_scientist['JOB TITLE']=job_title\n",
    "Data_scientist['COMPANY']=company\n",
    "Data_scientist['JOB LOCATION']=job_location\n",
    "Data_scientist['Experience Require']=experienced\n",
    "print('/033[1m'+'Top 10 Data Analyst Job at Bangrole :'+'/033[0m')\n",
    "Data_scientist"
   ]
  },
  {
   "cell_type": "markdown",
   "metadata": {},
   "source": [
    "# 4. Scrape data of first 100 sunglasses listings on flipkart.com. You have to scrape four attributes:\n",
    "\n",
    "1. Brand\n",
    "2. Product Description\n",
    "3. Price\n",
    "\n",
    "The attributes which you have to scrape is ticked marked in the below image.\n",
    "\n",
    "To scrape the data you have to go through following steps:\n",
    "\n",
    "1. Go to flipkart webpage by url https://www.flipkart.com/\n",
    "\n",
    "2. Enter “sunglasses” in the search field where “search for products, brands and more” is written and click the search icon\n",
    "\n",
    "3. After that you will reach to a webpage having a lot of sunglasses. From this page you can scrap the required data as usual.\n",
    "\n",
    "4. After scraping data from the first page, go to the “Next” Button at the bottom of the page , then click on it.\n",
    "\n",
    "5. Now scrape data from this page as usual\n",
    "\n",
    "6. Repeat this until you get data for 100 sunglasses.\n",
    "\n",
    "Note: That all of the above steps have to be done by coding only and not manually.\n"
   ]
  },
  {
   "cell_type": "code",
   "execution_count": 25,
   "metadata": {},
   "outputs": [
    {
     "data": {
      "text/plain": [
       "<selenium.webdriver.chrome.webdriver.WebDriver (session=\"c5e52a69464ca356c39f6f28687059f3\")>"
      ]
     },
     "execution_count": 25,
     "metadata": {},
     "output_type": "execute_result"
    }
   ],
   "source": [
    "# Let's first connect to web driver.\n",
    "driver=webdriver.Chrome(r\"H:\\Data_Science\\chromedriver.exe\")\n",
    "driver"
   ]
  },
  {
   "cell_type": "code",
   "execution_count": 26,
   "metadata": {},
   "outputs": [],
   "source": [
    "# Opening naukri.com\n",
    "url ='https://www.flipkart.com/'\n",
    "driver.get(url)"
   ]
  },
  {
   "cell_type": "markdown",
   "metadata": {},
   "source": [
    "##### Sending Input as 'Sunglasses' in search field field."
   ]
  },
  {
   "cell_type": "code",
   "execution_count": 27,
   "metadata": {},
   "outputs": [],
   "source": [
    "driver.find_element(By.XPATH,'//*[@id=\"container\"]/div/div[1]/div[1]/div[2]/div[2]/form/div/div/input').send_keys('sunglasses')\n",
    "driver.find_element(By.XPATH,'//*[@id=\"container\"]/div/div[1]/div[1]/div[2]/div[2]/form/div/button').click()"
   ]
  },
  {
   "cell_type": "code",
   "execution_count": 28,
   "metadata": {},
   "outputs": [],
   "source": [
    "# Creating the empty lists\n",
    "name=[]\n",
    "des=[]\n",
    "price=[]\n",
    "dis=[]"
   ]
  },
  {
   "cell_type": "code",
   "execution_count": 29,
   "metadata": {},
   "outputs": [],
   "source": [
    "# Scraping URl of 100 Sunglasses\n",
    "URL=[]\n",
    "for i in range(0,3):\n",
    "    S_g_url=driver.find_elements(By.XPATH,\"//nav[@class='yFHi8N']//a\")\n",
    "    for i in S_g_url:\n",
    "        URL.append(i.get_attribute('href'))\n",
    "    # Clicking on NEXT button at end of page\n",
    "    driver.find_element(By.XPATH,'//a[@class=\"_1LKTO3\"]').click()\n",
    "    time.sleep(4)"
   ]
  },
  {
   "cell_type": "code",
   "execution_count": 30,
   "metadata": {},
   "outputs": [
    {
     "data": {
      "text/plain": [
       "['https://www.flipkart.com/search?q=sunglasses&otracker=search&otracker1=search&marketplace=FLIPKART&as-show=off&as=off&page=1',\n",
       " 'https://www.flipkart.com/search?q=sunglasses&otracker=search&otracker1=search&marketplace=FLIPKART&as-show=off&as=off&page=2',\n",
       " 'https://www.flipkart.com/search?q=sunglasses&otracker=search&otracker1=search&marketplace=FLIPKART&as-show=off&as=off&page=3']"
      ]
     },
     "execution_count": 30,
     "metadata": {},
     "output_type": "execute_result"
    }
   ],
   "source": [
    "URL[:3]"
   ]
  },
  {
   "cell_type": "code",
   "execution_count": 31,
   "metadata": {},
   "outputs": [],
   "source": [
    "for i in URL[:3]:\n",
    "    driver.get(i)\n",
    "    title=driver.find_elements(By.CLASS_NAME,\"_2WkVRV\")\n",
    "    for i in title:\n",
    "         name.append(i.text)\n",
    "            \n",
    "    desc=driver.find_elements(By.CLASS_NAME,'IRpwTa')\n",
    "    for i in desc:\n",
    "        des.append(i.text)\n",
    "        \n",
    "    amount=driver.find_elements(By.CLASS_NAME,'_30jeq3')\n",
    "    for i in amount:\n",
    "        price.append(i.text)\n",
    "        \n",
    "    less=driver.find_elements(By.XPATH,'//div[@class=\"_3Ay6Sb\"]')\n",
    "    for i in less:\n",
    "        dis.append(i.text) "
   ]
  },
  {
   "cell_type": "markdown",
   "metadata": {},
   "source": [
    "#### 100 Sunglasses from Flipkart"
   ]
  },
  {
   "cell_type": "code",
   "execution_count": 32,
   "metadata": {},
   "outputs": [],
   "source": [
    "Sunglasses=pd.DataFrame({})\n",
    "Sunglasses['Brand']=name[:100]\n",
    "Sunglasses['Product_Description']=des[:100]\n",
    "Sunglasses['Price']=price[:100]\n",
    "Sunglasses['Discount']=dis[:100]"
   ]
  },
  {
   "cell_type": "code",
   "execution_count": 33,
   "metadata": {},
   "outputs": [
    {
     "data": {
      "text/html": [
       "<div>\n",
       "<style scoped>\n",
       "    .dataframe tbody tr th:only-of-type {\n",
       "        vertical-align: middle;\n",
       "    }\n",
       "\n",
       "    .dataframe tbody tr th {\n",
       "        vertical-align: top;\n",
       "    }\n",
       "\n",
       "    .dataframe thead th {\n",
       "        text-align: right;\n",
       "    }\n",
       "</style>\n",
       "<table border=\"1\" class=\"dataframe\">\n",
       "  <thead>\n",
       "    <tr style=\"text-align: right;\">\n",
       "      <th></th>\n",
       "      <th>Brand</th>\n",
       "      <th>Product_Description</th>\n",
       "      <th>Price</th>\n",
       "      <th>Discount</th>\n",
       "    </tr>\n",
       "  </thead>\n",
       "  <tbody>\n",
       "    <tr>\n",
       "      <th>0</th>\n",
       "      <td>Abreena</td>\n",
       "      <td>UV Protection Retro Square Sunglasses (55)</td>\n",
       "      <td>₹399</td>\n",
       "      <td>63% off</td>\n",
       "    </tr>\n",
       "    <tr>\n",
       "      <th>1</th>\n",
       "      <td>Abreena</td>\n",
       "      <td>UV Protection, Others Spectacle Sunglasses (55)</td>\n",
       "      <td>₹129</td>\n",
       "      <td>87% off</td>\n",
       "    </tr>\n",
       "    <tr>\n",
       "      <th>2</th>\n",
       "      <td>Fastrack</td>\n",
       "      <td>UV Protection Wayfarer Sunglasses (Free Size)</td>\n",
       "      <td>₹649</td>\n",
       "      <td>35% off</td>\n",
       "    </tr>\n",
       "    <tr>\n",
       "      <th>3</th>\n",
       "      <td>Fastrack</td>\n",
       "      <td>UV Protection Rectangular Sunglasses (Free Size)</td>\n",
       "      <td>₹519</td>\n",
       "      <td>35% off</td>\n",
       "    </tr>\n",
       "    <tr>\n",
       "      <th>4</th>\n",
       "      <td>PIRASO</td>\n",
       "      <td>UV Protection Rectangular Sunglasses (52)</td>\n",
       "      <td>₹199</td>\n",
       "      <td>87% off</td>\n",
       "    </tr>\n",
       "    <tr>\n",
       "      <th>...</th>\n",
       "      <td>...</td>\n",
       "      <td>...</td>\n",
       "      <td>...</td>\n",
       "      <td>...</td>\n",
       "    </tr>\n",
       "    <tr>\n",
       "      <th>95</th>\n",
       "      <td>Lee Topper</td>\n",
       "      <td>Riding Glasses Wrap-around Sunglasses (Free Size)</td>\n",
       "      <td>₹179</td>\n",
       "      <td>88% off</td>\n",
       "    </tr>\n",
       "    <tr>\n",
       "      <th>96</th>\n",
       "      <td>DEIXELS</td>\n",
       "      <td>UV Protection Sports Sunglasses (Free Size)</td>\n",
       "      <td>₹149</td>\n",
       "      <td>50% off</td>\n",
       "    </tr>\n",
       "    <tr>\n",
       "      <th>97</th>\n",
       "      <td>ROYAL SON</td>\n",
       "      <td>UV Protection Retro Square Sunglasses (60)</td>\n",
       "      <td>₹379</td>\n",
       "      <td>66% off</td>\n",
       "    </tr>\n",
       "    <tr>\n",
       "      <th>98</th>\n",
       "      <td>AISLIN</td>\n",
       "      <td>UV Protection, Gradient Round, Cat-eye Sunglas...</td>\n",
       "      <td>₹999</td>\n",
       "      <td>70% off</td>\n",
       "    </tr>\n",
       "    <tr>\n",
       "      <th>99</th>\n",
       "      <td>ROZZETTA CRAFT</td>\n",
       "      <td>Polarized, Night Vision, Riding Glasses Sports...</td>\n",
       "      <td>₹399</td>\n",
       "      <td>76% off</td>\n",
       "    </tr>\n",
       "  </tbody>\n",
       "</table>\n",
       "<p>100 rows × 4 columns</p>\n",
       "</div>"
      ],
      "text/plain": [
       "             Brand                                Product_Description Price  \\\n",
       "0          Abreena         UV Protection Retro Square Sunglasses (55)  ₹399   \n",
       "1          Abreena    UV Protection, Others Spectacle Sunglasses (55)  ₹129   \n",
       "2         Fastrack      UV Protection Wayfarer Sunglasses (Free Size)  ₹649   \n",
       "3         Fastrack   UV Protection Rectangular Sunglasses (Free Size)  ₹519   \n",
       "4           PIRASO          UV Protection Rectangular Sunglasses (52)  ₹199   \n",
       "..             ...                                                ...   ...   \n",
       "95      Lee Topper  Riding Glasses Wrap-around Sunglasses (Free Size)  ₹179   \n",
       "96         DEIXELS        UV Protection Sports Sunglasses (Free Size)  ₹149   \n",
       "97       ROYAL SON         UV Protection Retro Square Sunglasses (60)  ₹379   \n",
       "98          AISLIN  UV Protection, Gradient Round, Cat-eye Sunglas...  ₹999   \n",
       "99  ROZZETTA CRAFT  Polarized, Night Vision, Riding Glasses Sports...  ₹399   \n",
       "\n",
       "   Discount  \n",
       "0   63% off  \n",
       "1   87% off  \n",
       "2   35% off  \n",
       "3   35% off  \n",
       "4   87% off  \n",
       "..      ...  \n",
       "95  88% off  \n",
       "96  50% off  \n",
       "97  66% off  \n",
       "98  70% off  \n",
       "99  76% off  \n",
       "\n",
       "[100 rows x 4 columns]"
      ]
     },
     "execution_count": 33,
     "metadata": {},
     "output_type": "execute_result"
    }
   ],
   "source": [
    "Sunglasses"
   ]
  },
  {
   "cell_type": "markdown",
   "metadata": {},
   "source": [
    "## Q5: Scrape 100 reviews data from flipkart.com for iphone11 phone. \n",
    "You have to go the link: https://www.flipkart.com/apple-iphone-11-white-128-gb/p/itme32df47ea6742?pid=MOBFWQ6B7KKRXDDS&lid=LSTMOBFWQ6B7KKRXDDSUPVRTR&marketplace=FLIPKART&q=iphone+11&store=tyy%2F4io&srno=s_1_1&otracker=AS_QueryStore_OrganicAutoSuggest_1_6_na_na_na&otracker1=AS_QueryStore_OrganicAutoSuggest_1_6_na_na_na&fm=organic&iid=8b9325df-98b3-498d-89de-d1a10f8f8a58.MOBFWQ6B7KKRXDDS.SEARCH&ppt=hp&ppn=homepage&ssid=o0ppn9bno00000001664723071893&qH=f6cdfdaa9f3c23f3\n",
    "\n",
    "When you will open the above link you will reach to the below shown webpage. As shown in the above page you have to scrape the tick marked attributes.\n",
    "These are\n",
    "1. Rating\n",
    "2. Review_summary\n",
    "3. Full review\n",
    "4. You have to scrape this data for first 100 reviews.\n",
    "\n",
    "Note: All the steps required during scraping should be done through code only and not manually."
   ]
  },
  {
   "cell_type": "code",
   "execution_count": 12,
   "metadata": {},
   "outputs": [
    {
     "data": {
      "text/plain": [
       "<selenium.webdriver.chrome.webdriver.WebDriver (session=\"dc51e47f0195b7edf3dc19fda72d4674\")>"
      ]
     },
     "execution_count": 12,
     "metadata": {},
     "output_type": "execute_result"
    }
   ],
   "source": [
    "# Let's first connect to web driver.\n",
    "driver=webdriver.Chrome(r\"H:\\Data_Science\\chromedriver.exe\")\n",
    "driver"
   ]
  },
  {
   "cell_type": "code",
   "execution_count": 15,
   "metadata": {},
   "outputs": [],
   "source": [
    "# Opening naukri.com\n",
    "url ='https://www.flipkart.com/apple-iphone-11-black-64-gb/product-reviews/itm4e5041ba101fd?pid=MOBFWQ6BXGJCEYNY&lid=LSTMOBFWQ6BXGJCEYNYZXSHRJ&marketplace=FLIPKART'\n",
    "driver.get(url)"
   ]
  },
  {
   "cell_type": "code",
   "execution_count": 16,
   "metadata": {},
   "outputs": [],
   "source": [
    "driver.find_element(By.XPATH,'//*[@id=\"container\"]/div/div[1]/div[1]/div[2]/div[2]/form/div/button').click()"
   ]
  },
  {
   "cell_type": "markdown",
   "metadata": {},
   "source": [
    "#### Scraping Data"
   ]
  },
  {
   "cell_type": "code",
   "execution_count": 17,
   "metadata": {},
   "outputs": [
    {
     "data": {
      "text/plain": [
       "11"
      ]
     },
     "execution_count": 17,
     "metadata": {},
     "output_type": "execute_result"
    }
   ],
   "source": [
    "from selenium.common.exceptions import StaleElementReferenceException\n",
    "page_url = [] # a list containg url's of every page\n",
    "url = driver.find_elements(By.XPATH,\"//nav[@class='yFHi8N']//a\")\n",
    "for i in url:\n",
    "    page_url.append(i.get_attribute('href'))\n",
    "len(page_url)"
   ]
  },
  {
   "cell_type": "code",
   "execution_count": 18,
   "metadata": {},
   "outputs": [
    {
     "ename": "AttributeError",
     "evalue": "'WebDriver' object has no attribute 'find_elements_by_xpath'",
     "output_type": "error",
     "traceback": [
      "\u001b[1;31m---------------------------------------------------------------------------\u001b[0m",
      "\u001b[1;31mAttributeError\u001b[0m                            Traceback (most recent call last)",
      "Input \u001b[1;32mIn [18]\u001b[0m, in \u001b[0;36m<cell line: 4>\u001b[1;34m()\u001b[0m\n\u001b[0;32m      4\u001b[0m \u001b[38;5;28;01mfor\u001b[39;00m i \u001b[38;5;129;01min\u001b[39;00m page_url:\n\u001b[0;32m      5\u001b[0m     driver\u001b[38;5;241m.\u001b[39mget(i)\n\u001b[1;32m----> 6\u001b[0m     rate\u001b[38;5;241m=\u001b[39m\u001b[43mdriver\u001b[49m\u001b[38;5;241;43m.\u001b[39;49m\u001b[43mfind_elements_by_xpath\u001b[49m(\u001b[38;5;124m'\u001b[39m\u001b[38;5;124m//div[@class=\u001b[39m\u001b[38;5;124m\"\u001b[39m\u001b[38;5;124m_3LWZlK _1BLPMq\u001b[39m\u001b[38;5;124m\"\u001b[39m\u001b[38;5;124m]\u001b[39m\u001b[38;5;124m'\u001b[39m)\n\u001b[0;32m      7\u001b[0m     \u001b[38;5;28;01mfor\u001b[39;00m i \u001b[38;5;129;01min\u001b[39;00m rate:\n\u001b[0;32m      8\u001b[0m         rating\u001b[38;5;241m.\u001b[39mappend(i\u001b[38;5;241m.\u001b[39mtext)\n",
      "\u001b[1;31mAttributeError\u001b[0m: 'WebDriver' object has no attribute 'find_elements_by_xpath'"
     ]
    }
   ],
   "source": [
    "rating=[]\n",
    "review=[]\n",
    "fullre=[]\n",
    "for i in page_url:\n",
    "    driver.get(i)\n",
    "    rate=driver.find_elements_by_xpath('//div[@class=\"_3LWZlK _1BLPMq\"]')\n",
    "    for i in rate:\n",
    "        rating.append(i.text)\n",
    "    rev=driver.find_elements_by_class_name(\"_2-N8zT\")\n",
    "    for i in rev:\n",
    "        review.append(i.text)\n",
    "    fr=driver.find_elements_by_class_name(\"t-ZTKy\")\n",
    "    for i in fr:\n",
    "        fullre.append(i.text)"
   ]
  },
  {
   "cell_type": "code",
   "execution_count": 19,
   "metadata": {},
   "outputs": [
    {
     "name": "stdout",
     "output_type": "stream",
     "text": [
      "\u001b[1mIphone 11 Reviews from Flipkart :\u001b[0m\n"
     ]
    }
   ],
   "source": [
    "print('\\033[1m'+'Iphone 11 Reviews from Flipkart :'+'\\033[0m')"
   ]
  },
  {
   "cell_type": "code",
   "execution_count": 20,
   "metadata": {},
   "outputs": [
    {
     "ename": "NameError",
     "evalue": "name 'Rating' is not defined",
     "output_type": "error",
     "traceback": [
      "\u001b[1;31m---------------------------------------------------------------------------\u001b[0m",
      "\u001b[1;31mNameError\u001b[0m                                 Traceback (most recent call last)",
      "Input \u001b[1;32mIn [20]\u001b[0m, in \u001b[0;36m<cell line: 2>\u001b[1;34m()\u001b[0m\n\u001b[0;32m      1\u001b[0m Review_Iphone11\u001b[38;5;241m=\u001b[39m pd\u001b[38;5;241m.\u001b[39mDataFrame({})\n\u001b[1;32m----> 2\u001b[0m Review_Iphone11[\u001b[38;5;124m'\u001b[39m\u001b[38;5;124mRating\u001b[39m\u001b[38;5;124m'\u001b[39m] \u001b[38;5;241m=\u001b[39m \u001b[43mRating\u001b[49m[:\u001b[38;5;241m100\u001b[39m]\n\u001b[0;32m      3\u001b[0m Review_Iphone11[\u001b[38;5;124m'\u001b[39m\u001b[38;5;124mReview Summary\u001b[39m\u001b[38;5;124m'\u001b[39m] \u001b[38;5;241m=\u001b[39m Review_Summary[:\u001b[38;5;241m100\u001b[39m] \n\u001b[0;32m      4\u001b[0m Review_Iphone11[\u001b[38;5;124m'\u001b[39m\u001b[38;5;124mFull Review\u001b[39m\u001b[38;5;124m'\u001b[39m] \u001b[38;5;241m=\u001b[39m Full_Review[:\u001b[38;5;241m100\u001b[39m]\n",
      "\u001b[1;31mNameError\u001b[0m: name 'Rating' is not defined"
     ]
    }
   ],
   "source": [
    "Review_Iphone11= pd.DataFrame({})\n",
    "Review_Iphone11['Rating'] = Rating[:100]\n",
    "Review_Iphone11['Review Summary'] = Review_Summary[:100] \n",
    "Review_Iphone11['Full Review'] = Full_Review[:100]\n",
    "Review_Iphone11.tail()"
   ]
  },
  {
   "cell_type": "markdown",
   "metadata": {},
   "source": [
    "## Q6: Scrape data for first 100 sneakers you find when you visit flipkart.com and search for “sneakers” in the search field.\n",
    "You have to scrape 4 attributes of each sneaker :\n",
    "\n",
    "1. Brand\n",
    "2. Product Description\n",
    "3. Price\n",
    "4. Discount %\n",
    "\n",
    "As shown in the below image, you have to scrape the tick marked attributes.\n",
    "\n",
    "Note: Also note that all the steps required during scraping should be done through code only and not manually."
   ]
  },
  {
   "cell_type": "code",
   "execution_count": 94,
   "metadata": {},
   "outputs": [
    {
     "data": {
      "text/plain": [
       "<selenium.webdriver.chrome.webdriver.WebDriver (session=\"c56989d237b2a471405e37f6353156a4\")>"
      ]
     },
     "execution_count": 94,
     "metadata": {},
     "output_type": "execute_result"
    }
   ],
   "source": [
    "# Let's first connect to web driver.\n",
    "driver=webdriver.Chrome(r\"H:\\Data_Science\\chromedriver.exe\")\n",
    "driver"
   ]
  },
  {
   "cell_type": "code",
   "execution_count": 95,
   "metadata": {},
   "outputs": [],
   "source": [
    "# Opening naukri.com\n",
    "url ='https://www.flipkart.com/'\n",
    "driver.get(url)"
   ]
  },
  {
   "cell_type": "code",
   "execution_count": 96,
   "metadata": {},
   "outputs": [],
   "source": [
    "driver.find_element(By.XPATH,'//*[@id=\"container\"]/div/div[1]/div[1]/div[2]/div[2]/form/div/div/input').send_keys('sneakers')\n",
    "driver.find_element(By.XPATH,'//*[@id=\"container\"]/div/div[1]/div[1]/div[2]/div[2]/form/div/button').click()"
   ]
  },
  {
   "cell_type": "code",
   "execution_count": 97,
   "metadata": {},
   "outputs": [],
   "source": [
    "#creating the empty lists\n",
    "Brand=[]\n",
    "Product_Description=[]\n",
    "Price=[]\n",
    "Discount=[]"
   ]
  },
  {
   "cell_type": "code",
   "execution_count": 98,
   "metadata": {},
   "outputs": [],
   "source": [
    "#getting the list of url of first 100 sneakers\n",
    "URL=[]\n",
    "for i in range(0,4):\n",
    "    sneakers=driver.find_elements(By.XPATH,\"//a[@class='IRpwTa']\")\n",
    "    for i in sneakers:\n",
    "        URL.append(i.get_attribute('href'))\n",
    "    driver.find_element(By.XPATH,'//a[@class=\"ge-49M\"]').click()\n",
    "    time.sleep(3)"
   ]
  },
  {
   "cell_type": "code",
   "execution_count": 99,
   "metadata": {},
   "outputs": [
    {
     "data": {
      "text/plain": [
       "['https://www.flipkart.com/warmfeet-fancy-sneakers-men/p/itm8f1603bb4e79a?pid=SHOGAFSKCKFPCGQR&lid=LSTSHOGAFSKCKFPCGQRSOUGR3&marketplace=FLIPKART&q=sneakers&store=osp&srno=s_1_1&otracker=search&otracker1=search&fm=organic&iid=en_F4J0nwt6y0fGpzhkgJNDjDANaYH6Tg4%2BNQWxwaKkWWjUjQHEFGSDj5o4xhNAnXFSvuWFRO6mMRcrUHFv1XRn%2FA%3D%3D&ppt=hp&ppn=homepage&ssid=xomibv08k00000001667588005573&qH=a1743c0d39461290',\n",
       " 'https://www.flipkart.com/warmfeet-fancy-sneakers-men/p/itm752d05d6e497a?pid=SHOGAFSKMUTG6WUR&lid=LSTSHOGAFSKMUTG6WURKWJHSE&marketplace=FLIPKART&q=sneakers&store=osp&srno=s_1_2&otracker=search&otracker1=search&fm=organic&iid=en_F4J0nwt6y0fGpzhkgJNDjDANaYH6Tg4%2BNQWxwaKkWWhNq%2FuqSwnjXBNFGiXW%2FVDzHp%2FfnLlABCkR7d8sszhOZA%3D%3D&ppt=hp&ppn=homepage&ssid=xomibv08k00000001667588005573&qH=a1743c0d39461290',\n",
       " 'https://www.flipkart.com/red-tape-sneakers-men/p/itm24ac0b970f222?pid=SHOGBVNZ6KWHJTJJ&lid=LSTSHOGBVNZ6KWHJTJJLKU1I0&marketplace=FLIPKART&q=sneakers&store=osp&srno=s_1_3&otracker=search&otracker1=search&fm=organic&iid=f09593a1-d24f-4af9-9840-63731eb4a57c.SHOGBVNZ6KWHJTJJ.SEARCH&ppt=hp&ppn=homepage&ssid=xomibv08k00000001667588005573&qH=a1743c0d39461290',\n",
       " 'https://www.flipkart.com/red-tape-sneakers-men/p/itmd7f89d08f2d96?pid=SHOGFY9QWZQGUCAF&lid=LSTSHOGFY9QWZQGUCAFXJFHXZ&marketplace=FLIPKART&q=sneakers&store=osp&srno=s_1_4&otracker=search&otracker1=search&fm=organic&iid=f09593a1-d24f-4af9-9840-63731eb4a57c.SHOGFY9QWZQGUCAF.SEARCH&ppt=hp&ppn=homepage&ssid=xomibv08k00000001667588005573&qH=a1743c0d39461290',\n",
       " 'https://www.flipkart.com/labbin-sneakers-men/p/itm22551963c0809?pid=SHOG497GM6AVWCEU&lid=LSTSHOG497GM6AVWCEUBBOTEM&marketplace=FLIPKART&q=sneakers&store=osp&srno=s_1_5&otracker=search&otracker1=search&fm=organic&iid=f09593a1-d24f-4af9-9840-63731eb4a57c.SHOG497GM6AVWCEU.SEARCH&ppt=hp&ppn=homepage&ssid=xomibv08k00000001667588005573&qH=a1743c0d39461290',\n",
       " 'https://www.flipkart.com/tr-casual-sneakers-men/p/itmc6ea472a250a7?pid=SHOGEQ7AYCZY8C3R&lid=LSTSHOGEQ7AYCZY8C3RJP0XMH&marketplace=FLIPKART&q=sneakers&store=osp&srno=s_1_6&otracker=search&otracker1=search&fm=organic&iid=f09593a1-d24f-4af9-9840-63731eb4a57c.SHOGEQ7AYCZY8C3R.SEARCH&ppt=hp&ppn=homepage&ssid=xomibv08k00000001667588005573&qH=a1743c0d39461290',\n",
       " 'https://www.flipkart.com/tr-sneakers-men/p/itme2fda2cd5f2ff?pid=SHOGAB52GZ37Q5PD&lid=LSTSHOGAB52GZ37Q5PDBLWTII&marketplace=FLIPKART&q=sneakers&store=osp&srno=s_1_7&otracker=search&otracker1=search&fm=organic&iid=f09593a1-d24f-4af9-9840-63731eb4a57c.SHOGAB52GZ37Q5PD.SEARCH&ppt=hp&ppn=homepage&ssid=xomibv08k00000001667588005573&qH=a1743c0d39461290',\n",
       " 'https://www.flipkart.com/robbie-jones-casual-sneakers-canvas-shoes-men/p/itm23c3922bcb1db?pid=SHOG73SM3AA3QYZX&lid=LSTSHOG73SM3AA3QYZXAOTINQ&marketplace=FLIPKART&q=sneakers&store=osp&srno=s_1_9&otracker=search&otracker1=search&fm=organic&iid=f09593a1-d24f-4af9-9840-63731eb4a57c.SHOG73SM3AA3QYZX.SEARCH&ppt=hp&ppn=homepage&ssid=xomibv08k00000001667588005573&qH=a1743c0d39461290',\n",
       " 'https://www.flipkart.com/kraasa-casuals-canvas-partywear-sneakers-men/p/itm3b6ebb856eb64?pid=SHOFGGF7PYRB4DVE&lid=LSTSHOFGGF7PYRB4DVERLXV6O&marketplace=FLIPKART&q=sneakers&store=osp&srno=s_1_10&otracker=search&otracker1=search&fm=organic&iid=f09593a1-d24f-4af9-9840-63731eb4a57c.SHOFGGF7PYRB4DVE.SEARCH&ppt=hp&ppn=homepage&ssid=xomibv08k00000001667588005573&qH=a1743c0d39461290',\n",
       " 'https://www.flipkart.com/eeken-sneakers-men/p/itm74cc932ba280d?pid=SHOFZFDKY6AFR4GJ&lid=LSTSHOFZFDKY6AFR4GJAFVTED&marketplace=FLIPKART&q=sneakers&store=osp&srno=s_1_11&otracker=search&otracker1=search&fm=organic&iid=en_F4J0nwt6y0fGpzhkgJNDjDANaYH6Tg4%2BNQWxwaKkWWgQABxjwqDplKwF4iKHhswiWxvrGdiVdnHa7ZV%2F22Y%2BpQ%3D%3D&ppt=hp&ppn=homepage&ssid=xomibv08k00000001667588005573&qH=a1743c0d39461290',\n",
       " 'https://www.flipkart.com/layasa-sneakers-women/p/itmb1526f2eea72d?pid=SHOGGHEG9GFKTWRW&lid=LSTSHOGGHEG9GFKTWRWS5OKEJ&marketplace=FLIPKART&q=sneakers&store=osp&srno=s_1_12&otracker=search&otracker1=search&fm=organic&iid=en_F4J0nwt6y0fGpzhkgJNDjDANaYH6Tg4%2BNQWxwaKkWWgcWne57xop%2FVieJbaPULW%2FXu2CfCoink5rCwx14W6mjw%3D%3D&ppt=hp&ppn=homepage&ssid=xomibv08k00000001667588005573&qH=a1743c0d39461290',\n",
       " 'https://www.flipkart.com/puma-trinity-sneakers-men/p/itm8ca41052c50bf?pid=SHOFNU2W6YA5HUTY&lid=LSTSHOFNU2W6YA5HUTYINXGEX&marketplace=FLIPKART&q=sneakers&store=osp&srno=s_1_13&otracker=search&otracker1=search&fm=organic&iid=f09593a1-d24f-4af9-9840-63731eb4a57c.SHOFNU2W6YA5HUTY.SEARCH&ppt=hp&ppn=homepage&ssid=xomibv08k00000001667588005573&qH=a1743c0d39461290',\n",
       " 'https://www.flipkart.com/birde-premium-sports-shoes-men-sneakers/p/itm0e5e0bd9d5e1d?pid=SHOFZEWUHPRTRX7G&lid=LSTSHOFZEWUHPRTRX7G0A53QI&marketplace=FLIPKART&q=sneakers&store=osp&srno=s_1_14&otracker=search&otracker1=search&fm=organic&iid=f09593a1-d24f-4af9-9840-63731eb4a57c.SHOFZEWUHPRTRX7G.SEARCH&ppt=hp&ppn=homepage&ssid=xomibv08k00000001667588005573&qH=a1743c0d39461290',\n",
       " 'https://www.flipkart.com/magnolia-sneakers-men/p/itm5160316c9ee0f?pid=SHOG69HDHGHVUDKD&lid=LSTSHOG69HDHGHVUDKDKQRVJN&marketplace=FLIPKART&q=sneakers&store=osp&srno=s_1_15&otracker=search&otracker1=search&fm=organic&iid=f09593a1-d24f-4af9-9840-63731eb4a57c.SHOG69HDHGHVUDKD.SEARCH&ppt=hp&ppn=homepage&ssid=xomibv08k00000001667588005573&qH=a1743c0d39461290',\n",
       " 'https://www.flipkart.com/robbie-jones-sneakers-men/p/itmed5242b75c69f?pid=SHOG5Y5AKNTT8DPC&lid=LSTSHOG5Y5AKNTT8DPCNVIEV5&marketplace=FLIPKART&q=sneakers&store=osp&srno=s_1_16&otracker=search&otracker1=search&fm=organic&iid=f09593a1-d24f-4af9-9840-63731eb4a57c.SHOG5Y5AKNTT8DPC.SEARCH&ppt=hp&ppn=homepage&ssid=xomibv08k00000001667588005573&qH=a1743c0d39461290',\n",
       " 'https://www.flipkart.com/skechers-neo-casual-creswell-sneakers-men/p/itmc13e3eb8fe4e6?pid=SHOGGHSYAJBBUHVM&lid=LSTSHOGGHSYAJBBUHVMBKM0FE&marketplace=FLIPKART&q=sneakers&store=osp&srno=s_1_17&otracker=search&otracker1=search&fm=organic&iid=en_F4J0nwt6y0fGpzhkgJNDjDANaYH6Tg4%2BNQWxwaKkWWh0jM01xDK2jV3vjMjA2TMtgshbZO1oFSKUclpxqC6NUw%3D%3D&ppt=hp&ppn=homepage&ssid=xomibv08k00000001667588005573&qH=a1743c0d39461290',\n",
       " 'https://www.flipkart.com/layasa-casual-sneakers-white-shoes-girls-women/p/itm04098ecd0de13?pid=SHOGHMJ4GRAYZSVQ&lid=LSTSHOGHMJ4GRAYZSVQHHTD2B&marketplace=FLIPKART&q=sneakers&store=osp&srno=s_1_18&otracker=search&otracker1=search&fm=organic&iid=en_F4J0nwt6y0fGpzhkgJNDjDANaYH6Tg4%2BNQWxwaKkWWgyeajXTLEKxxvNK9OfP7ACveO9Benxwd4QGgQlQOtKtQ%3D%3D&ppt=hp&ppn=homepage&ssid=xomibv08k00000001667588005573&qH=a1743c0d39461290',\n",
       " 'https://www.flipkart.com/bruton-lightweight-pack-1-trendy-sneakers-men/p/itm7064e7c206751?pid=SHOFVKFGSB6DSQXX&lid=LSTSHOFVKFGSB6DSQXXO0MZK3&marketplace=FLIPKART&q=sneakers&store=osp&srno=s_1_19&otracker=search&otracker1=search&fm=organic&iid=f09593a1-d24f-4af9-9840-63731eb4a57c.SHOFVKFGSB6DSQXX.SEARCH&ppt=hp&ppn=homepage&ssid=xomibv08k00000001667588005573&qH=a1743c0d39461290',\n",
       " 'https://www.flipkart.com/deals4you-sneakers-women/p/itmd1241f2f24eb8?pid=SHOG7PJ6CBYM4AVD&lid=LSTSHOG7PJ6CBYM4AVDGU3MZK&marketplace=FLIPKART&q=sneakers&store=osp&srno=s_1_20&otracker=search&otracker1=search&fm=organic&iid=f09593a1-d24f-4af9-9840-63731eb4a57c.SHOG7PJ6CBYM4AVD.SEARCH&ppt=hp&ppn=homepage&ssid=xomibv08k00000001667588005573&qH=a1743c0d39461290',\n",
       " 'https://www.flipkart.com/cresswell-black-multicolor-lifestyle-casual-sports-training-sneakers-men/p/itm3944d341c3415?pid=SHOGE6BYDSYNS4GZ&lid=LSTSHOGE6BYDSYNS4GZN7EYTR&marketplace=FLIPKART&q=sneakers&store=osp&srno=s_1_21&otracker=search&otracker1=search&fm=organic&iid=en_F4J0nwt6y0fGpzhkgJNDjDANaYH6Tg4%2BNQWxwaKkWWiudwMs3YrrFKcAaKUg9I8dqgirqSaUjdrnCtSVUdqWHw%3D%3D&ppt=hp&ppn=homepage&ssid=xomibv08k00000001667588005573&qH=a1743c0d39461290',\n",
       " 'https://www.flipkart.com/skechers-go-walk-5-warwick-sneakers-men/p/itm6adad6c351fe5?pid=SHOGFHWZAYGSSAGP&lid=LSTSHOGFHWZAYGSSAGPGPI9XS&marketplace=FLIPKART&q=sneakers&store=osp&srno=s_1_22&otracker=search&otracker1=search&fm=organic&iid=en_F4J0nwt6y0fGpzhkgJNDjDANaYH6Tg4%2BNQWxwaKkWWjwRzWe%2FvUrXoKkHtFXPGt77Si8zL10JHlp0wneI7QM4Q%3D%3D&ppt=hp&ppn=homepage&ssid=xomibv08k00000001667588005573&qH=a1743c0d39461290',\n",
       " 'https://www.flipkart.com/rapidbox-sneakers-men/p/itm13dd1209e585b?pid=SHOG7H6QFZZ8ENHB&lid=LSTSHOG7H6QFZZ8ENHBDW2KSN&marketplace=FLIPKART&q=sneakers&store=osp&srno=s_1_23&otracker=search&otracker1=search&fm=organic&iid=f09593a1-d24f-4af9-9840-63731eb4a57c.SHOG7H6QFZZ8ENHB.SEARCH&ppt=hp&ppn=homepage&ssid=xomibv08k00000001667588005573&qH=a1743c0d39461290',\n",
       " 'https://www.flipkart.com/bruton-canvas-shoes-men-sneakers/p/itm6036f913ec47f?pid=SHOG293HGHQFJHMP&lid=LSTSHOG293HGHQFJHMPZVTGRE&marketplace=FLIPKART&q=sneakers&store=osp&srno=s_1_24&otracker=search&otracker1=search&fm=organic&iid=f09593a1-d24f-4af9-9840-63731eb4a57c.SHOG293HGHQFJHMP.SEARCH&ppt=hp&ppn=homepage&ssid=xomibv08k00000001667588005573&qH=a1743c0d39461290',\n",
       " 'https://www.flipkart.com/scatchite-sneakers-men/p/itmc13680b1d9604?pid=SHOFUDSUHXHE67UG&lid=LSTSHOFUDSUHXHE67UGSXKTQ1&marketplace=FLIPKART&q=sneakers&store=osp&srno=s_1_25&otracker=search&otracker1=search&fm=organic&iid=f09593a1-d24f-4af9-9840-63731eb4a57c.SHOFUDSUHXHE67UG.SEARCH&ppt=hp&ppn=homepage&ssid=xomibv08k00000001667588005573&qH=a1743c0d39461290',\n",
       " 'https://www.flipkart.com/bruton-2-combo-sneaker-shoes-sneakers-men/p/itm108ab66174980?pid=SHOGGBMP4F9FGYXG&lid=LSTSHOGGBMP4F9FGYXG2JIIRD&marketplace=FLIPKART&q=sneakers&store=osp&srno=s_1_26&otracker=search&otracker1=search&fm=organic&iid=f09593a1-d24f-4af9-9840-63731eb4a57c.SHOGGBMP4F9FGYXG.SEARCH&ppt=hp&ppn=homepage&ssid=xomibv08k00000001667588005573&qH=a1743c0d39461290',\n",
       " 'https://www.flipkart.com/eeken-monday-house-paragon-sneakers-men/p/itm6afa4ae75cd46?pid=SHOFWYZCAEM4ZFFX&lid=LSTSHOFWYZCAEM4ZFFX3MMCQ0&marketplace=FLIPKART&q=sneakers&store=osp&srno=s_1_27&otracker=search&otracker1=search&fm=organic&iid=en_F4J0nwt6y0fGpzhkgJNDjDANaYH6Tg4%2BNQWxwaKkWWjAqaCwbISiJGmljNNVLLWSY9p9TdCAJkC6yMWjkvEl1w%3D%3D&ppt=hp&ppn=homepage&ssid=xomibv08k00000001667588005573&qH=a1743c0d39461290',\n",
       " 'https://www.flipkart.com/eeken-martes-house-paragon-sneakers-men/p/itmca2819305cfc8?pid=SHOFWYZBCV4NQ9GZ&lid=LSTSHOFWYZBCV4NQ9GZJ5N93H&marketplace=FLIPKART&q=sneakers&store=osp&srno=s_1_28&otracker=search&otracker1=search&fm=organic&iid=en_F4J0nwt6y0fGpzhkgJNDjDANaYH6Tg4%2BNQWxwaKkWWjFJ6gZsHWSyJaL%2BMppQ4ck%2FGC%2BfnZgrrIsZyeODliXkA%3D%3D&ppt=hp&ppn=homepage&ssid=xomibv08k00000001667588005573&qH=a1743c0d39461290',\n",
       " 'https://www.flipkart.com/world-wear-footwear-exclusive-affordable-collection-trendy-stylish-casual-sneakers-shoes-men/p/itmf1f2267bb145c?pid=SHOGFDGV4QFBFYSF&lid=LSTSHOGFDGV4QFBFYSFNKK6BN&marketplace=FLIPKART&q=sneakers&store=osp&srno=s_1_29&otracker=search&otracker1=search&fm=organic&iid=f09593a1-d24f-4af9-9840-63731eb4a57c.SHOGFDGV4QFBFYSF.SEARCH&ppt=hp&ppn=homepage&ssid=xomibv08k00000001667588005573&qH=a1743c0d39461290',\n",
       " 'https://www.flipkart.com/asteroid-luxury-branded-fashionable-men-s-casual-walking-partywear-sneakers-running-white-shoes-men/p/itmadb9562baf1cd?pid=SHOG3F72F86X8NUZ&lid=LSTSHOG3F72F86X8NUZ83SNSO&marketplace=FLIPKART&q=sneakers&store=osp&srno=s_1_30&otracker=search&otracker1=search&fm=organic&iid=f09593a1-d24f-4af9-9840-63731eb4a57c.SHOG3F72F86X8NUZ.SEARCH&ppt=hp&ppn=homepage&ssid=xomibv08k00000001667588005573&qH=a1743c0d39461290',\n",
       " 'https://www.flipkart.com/asian-jasper-02-navy-casuals-walking-training-running-stylish-sneakers-men/p/itm02248b5874f92?pid=SHOGJ44WGSBECGFH&lid=LSTSHOGJ44WGSBECGFHCQG2YI&marketplace=FLIPKART&q=sneakers&store=osp&srno=s_1_31&otracker=search&otracker1=search&fm=organic&iid=en_F4J0nwt6y0fGpzhkgJNDjDANaYH6Tg4%2BNQWxwaKkWWguIr1uJnrtjZzT%2ForGEddUEaxCJJWyQbfjhSF9WT0jkw%3D%3D&ppt=hp&ppn=homepage&ssid=xomibv08k00000001667588005573&qH=a1743c0d39461290',\n",
       " 'https://www.flipkart.com/furo-sneakers-men/p/itm15b9f61a40678?pid=SHOGGBWJQRB96YNR&lid=LSTSHOGGBWJQRB96YNRLKDSFL&marketplace=FLIPKART&q=sneakers&store=osp&srno=s_1_32&otracker=search&otracker1=search&fm=organic&iid=en_F4J0nwt6y0fGpzhkgJNDjDANaYH6Tg4%2BNQWxwaKkWWjHfeYi6Z1WquWQoI%2Bi0F8BR04Cz0P204sRDfovaESSdg%3D%3D&ppt=hp&ppn=homepage&ssid=xomibv08k00000001667588005573&qH=a1743c0d39461290',\n",
       " 'https://www.flipkart.com/hotstyle-sneakers-men/p/itm071be697faf47?pid=SHOG4KJFJZTNGJ67&lid=LSTSHOG4KJFJZTNGJ67AUMQBB&marketplace=FLIPKART&q=sneakers&store=osp&srno=s_1_33&otracker=search&otracker1=search&fm=organic&iid=f09593a1-d24f-4af9-9840-63731eb4a57c.SHOG4KJFJZTNGJ67.SEARCH&ppt=hp&ppn=homepage&ssid=xomibv08k00000001667588005573&qH=a1743c0d39461290',\n",
       " 'https://www.flipkart.com/t-rock-stylish-white-casual-sneakers-shoes-men-boys/p/itma28870c36515e?pid=SHOGBNQB9JTQR5BU&lid=LSTSHOGBNQB9JTQR5BUQEYGDT&marketplace=FLIPKART&q=sneakers&store=osp&srno=s_1_34&otracker=search&otracker1=search&fm=organic&iid=f09593a1-d24f-4af9-9840-63731eb4a57c.SHOGBNQB9JTQR5BU.SEARCH&ppt=hp&ppn=homepage&ssid=xomibv08k00000001667588005573&qH=a1743c0d39461290',\n",
       " 'https://www.flipkart.com/bruton-exclusive-sneaker-shoes-sneakers-men/p/itm76ca41c3599dc?pid=SHOGFMDYQ769DUFK&lid=LSTSHOGFMDYQ769DUFK5CHZ6Q&marketplace=FLIPKART&q=sneakers&store=osp&srno=s_1_35&otracker=search&otracker1=search&fm=organic&iid=f09593a1-d24f-4af9-9840-63731eb4a57c.SHOGFMDYQ769DUFK.SEARCH&ppt=hp&ppn=homepage&ssid=xomibv08k00000001667588005573&qH=a1743c0d39461290',\n",
       " 'https://www.flipkart.com/bruton-lightweight-pack-1-trendy-sneakers-men/p/itm6b204a060e6f0?pid=SHOFVH664E3R8GFT&lid=LSTSHOFVH664E3R8GFTHMPHM6&marketplace=FLIPKART&q=sneakers&store=osp&srno=s_1_36&otracker=search&otracker1=search&fm=organic&iid=f09593a1-d24f-4af9-9840-63731eb4a57c.SHOFVH664E3R8GFT.SEARCH&ppt=hp&ppn=homepage&ssid=xomibv08k00000001667588005573&qH=a1743c0d39461290',\n",
       " 'https://www.flipkart.com/puma-pint-sneakers-men/p/itm80c7fa2fba7f6?pid=SHOGAK4CTFHKJK7P&lid=LSTSHOGAK4CTFHKJK7PJWNOJI&marketplace=FLIPKART&q=sneakers&store=osp&srno=s_1_37&otracker=search&otracker1=search&fm=organic&iid=en_F4J0nwt6y0fGpzhkgJNDjDANaYH6Tg4%2BNQWxwaKkWWg6gE3wTifH2eRX5sk2Qrd7MaZiy5oO9rP5Ec1Y%2FapZFA%3D%3D&ppt=hp&ppn=homepage&ssid=xomibv08k00000001667588005573&qH=a1743c0d39461290',\n",
       " 'https://www.flipkart.com/furo-sneakers-men/p/itm6f5c9d7de58df?pid=SHOGGBWJASJGEFW8&lid=LSTSHOGGBWJASJGEFW8IGIX0D&marketplace=FLIPKART&q=sneakers&store=osp&srno=s_1_38&otracker=search&otracker1=search&fm=organic&iid=en_F4J0nwt6y0fGpzhkgJNDjDANaYH6Tg4%2BNQWxwaKkWWgp0SUwkGPK5Y7CUef7X9rwraM2MPxwTmLghGydzvTG8Q%3D%3D&ppt=hp&ppn=homepage&ssid=xomibv08k00000001667588005573&qH=a1743c0d39461290',\n",
       " 'https://www.flipkart.com/sparx-sm-671-sneakers-men/p/itmf02a258f60662?pid=SHOGC2VPJ2GD3ZHG&lid=LSTSHOGC2VPJ2GD3ZHGBVSSQU&marketplace=FLIPKART&q=sneakers&store=osp&srno=s_1_39&otracker=search&otracker1=search&fm=organic&iid=f09593a1-d24f-4af9-9840-63731eb4a57c.SHOGC2VPJ2GD3ZHG.SEARCH&ppt=hp&ppn=homepage&ssid=xomibv08k00000001667588005573&qH=a1743c0d39461290',\n",
       " 'https://www.flipkart.com/gvr-sneakers-men/p/itmd3506c2a43727?pid=SHOGHBEABHPZFZXN&lid=LSTSHOGHBEABHPZFZXNAB13RI&marketplace=FLIPKART&q=sneakers&store=osp&srno=s_1_40&otracker=search&otracker1=search&fm=organic&iid=f09593a1-d24f-4af9-9840-63731eb4a57c.SHOGHBEABHPZFZXN.SEARCH&ppt=hp&ppn=homepage&ssid=xomibv08k00000001667588005573&qH=a1743c0d39461290',\n",
       " 'https://www.flipkart.com/eeken-lightweight-shoes-sneakers-men/p/itm525aea8c7fb7f?pid=SHOG7XTFVEUJYPDW&lid=LSTSHOG7XTFVEUJYPDWFV6HZT&marketplace=FLIPKART&q=sneakers&store=osp&srno=s_2_42&otracker=search&otracker1=search&fm=Search&iid=en_N5bvJ87txIvjzdL5MSorJOioNKXoqLBqy0aLRFrJD7G2mjgOpab4VATgjq%2FK9lLm1M%2F%2Fn15YJEoM5ANxV5UKsA%3D%3D&ppt=sp&ppn=sp&ssid=xomibv08k00000001667588005573&qH=a1743c0d39461290',\n",
       " 'https://www.flipkart.com/rindas-perfect-stylish-casual-shoes-girls-women-s-casuals-sneakers-women/p/itm0274d0a9ae60e?pid=SHOFZGQB3Y8CU3JZ&lid=LSTSHOFZGQB3Y8CU3JZGYS5OQ&marketplace=FLIPKART&q=sneakers&store=osp&srno=s_2_43&otracker=search&otracker1=search&fm=Search&iid=18fb3691-a99b-4bcd-be30-861b9109e105.SHOFZGQB3Y8CU3JZ.SEARCH&ppt=sp&ppn=sp&ssid=xomibv08k00000001667588005573&qH=a1743c0d39461290',\n",
       " 'https://www.flipkart.com/aadi-mesh-ultralightweight-comfortable-breathable-walking-outdoor-daily-use-sneakers-men/p/itma442bf9226209?pid=SHOGDZZEMFJN8GUB&lid=LSTSHOGDZZEMFJN8GUBOEIC66&marketplace=FLIPKART&q=sneakers&store=osp&srno=s_2_44&otracker=search&otracker1=search&fm=Search&iid=18fb3691-a99b-4bcd-be30-861b9109e105.SHOGDZZEMFJN8GUB.SEARCH&ppt=sp&ppn=sp&ssid=xomibv08k00000001667588005573&qH=a1743c0d39461290',\n",
       " 'https://www.flipkart.com/ducati-sneakers-men/p/itmc2fdecbb24472?pid=SHOGBMM2CMNYHHGT&lid=LSTSHOGBMM2CMNYHHGTDE2VEX&marketplace=FLIPKART&q=sneakers&store=osp&srno=s_2_45&otracker=search&otracker1=search&fm=Search&iid=18fb3691-a99b-4bcd-be30-861b9109e105.SHOGBMM2CMNYHHGT.SEARCH&ppt=sp&ppn=sp&ssid=xomibv08k00000001667588005573&qH=a1743c0d39461290',\n",
       " 'https://www.flipkart.com/bruton-modern-trendy-sneakers-shoes-men/p/itme173631234332?pid=SHOGEDRUJEEGEXKS&lid=LSTSHOGEDRUJEEGEXKS5UPOWW&marketplace=FLIPKART&q=sneakers&store=osp&srno=s_2_46&otracker=search&otracker1=search&fm=Search&iid=18fb3691-a99b-4bcd-be30-861b9109e105.SHOGEDRUJEEGEXKS.SEARCH&ppt=sp&ppn=sp&ssid=xomibv08k00000001667588005573&qH=a1743c0d39461290',\n",
       " 'https://www.flipkart.com/k-footlance-fashion-stylish-soft-ultralight-lace-up-sneakers-causal-shoes-men/p/itm52b68a1f08855?pid=SHOFYYA5QZCSTRMG&lid=LSTSHOFYYA5QZCSTRMGHXSW70&marketplace=FLIPKART&q=sneakers&store=osp&srno=s_2_48&otracker=search&otracker1=search&fm=Search&iid=en_N5bvJ87txIvjzdL5MSorJOioNKXoqLBqy0aLRFrJD7ElaWx0kKHWDaQ6uv%2Bt92qVu3nSZJrJj%2Be7uHFmOGAJ2w%3D%3D&ppt=sp&ppn=sp&ssid=xomibv08k00000001667588005573&qH=a1743c0d39461290',\n",
       " 'https://www.flipkart.com/asics-fuzor-b-sneakers-men/p/itm9856fc8598be6?pid=SHOG3CDCHK7DYHB4&lid=LSTSHOG3CDCHK7DYHB4FR8UZG&marketplace=FLIPKART&q=sneakers&store=osp&srno=s_2_49&otracker=search&otracker1=search&fm=Search&iid=18fb3691-a99b-4bcd-be30-861b9109e105.SHOG3CDCHK7DYHB4.SEARCH&ppt=sp&ppn=sp&ssid=xomibv08k00000001667588005573&qH=a1743c0d39461290',\n",
       " 'https://www.flipkart.com/magnolia-sneakers-men/p/itmb42a681797f2d?pid=SHOGYAAFUZKMR64D&lid=LSTSHOGYAAFUZKMR64DI8THYW&marketplace=FLIPKART&q=sneakers&store=osp&srno=s_2_50&otracker=search&otracker1=search&fm=Search&iid=18fb3691-a99b-4bcd-be30-861b9109e105.SHOGYAAFUZKMR64D.SEARCH&ppt=sp&ppn=sp&ssid=xomibv08k00000001667588005573&qH=a1743c0d39461290',\n",
       " 'https://www.flipkart.com/juddee-comfortable-casual-shoe-s-men-s-sneakers-men/p/itm2c9b12c285de8?pid=SHOGGBYUSSGVRDAZ&lid=LSTSHOGGBYUSSGVRDAZMM3OR1&marketplace=FLIPKART&q=sneakers&store=osp&srno=s_2_52&otracker=search&otracker1=search&fm=Search&iid=en_N5bvJ87txIvjzdL5MSorJOioNKXoqLBqy0aLRFrJD7GpVaR3gGTjl697yZqPwEWB0qlaCEMWANeM4eF5uOAcGw%3D%3D&ppt=sp&ppn=sp&ssid=xomibv08k00000001667588005573&qH=a1743c0d39461290',\n",
       " 'https://www.flipkart.com/puma-acrux-sneakers-men/p/itmfhusvk5zadcuz?pid=SHOFHUR6CPSQVXZH&lid=LSTSHOFHUR6CPSQVXZHRLFSAS&marketplace=FLIPKART&q=sneakers&store=osp&srno=s_2_53&otracker=search&otracker1=search&fm=Search&iid=18fb3691-a99b-4bcd-be30-861b9109e105.SHOFHUR6CPSQVXZH.SEARCH&ppt=sp&ppn=sp&ssid=xomibv08k00000001667588005573&qH=a1743c0d39461290',\n",
       " 'https://www.flipkart.com/kzaara-sneakers-men/p/itm540d765c42d7d?pid=SHOG8YYWH4M2BRNR&lid=LSTSHOG8YYWH4M2BRNRGYQ959&marketplace=FLIPKART&q=sneakers&store=osp&srno=s_2_54&otracker=search&otracker1=search&fm=Search&iid=18fb3691-a99b-4bcd-be30-861b9109e105.SHOG8YYWH4M2BRNR.SEARCH&ppt=sp&ppn=sp&ssid=xomibv08k00000001667588005573&qH=a1743c0d39461290',\n",
       " 'https://www.flipkart.com/birde-premium-casual-shoes-men-sneakers/p/itm0ed98df82629e?pid=SHOGBHEVBY5NDTXM&lid=LSTSHOGBHEVBY5NDTXMW5NJRB&marketplace=FLIPKART&q=sneakers&store=osp&srno=s_2_55&otracker=search&otracker1=search&fm=Search&iid=18fb3691-a99b-4bcd-be30-861b9109e105.SHOGBHEVBY5NDTXM.SEARCH&ppt=sp&ppn=sp&ssid=xomibv08k00000001667588005573&qH=a1743c0d39461290',\n",
       " 'https://www.flipkart.com/amico-sneakers-men/p/itm7a78923de9876?pid=SHOG5Y6YSGFNYZFF&lid=LSTSHOG5Y6YSGFNYZFFOW5J7X&marketplace=FLIPKART&q=sneakers&store=osp&srno=s_2_56&otracker=search&otracker1=search&fm=Search&iid=18fb3691-a99b-4bcd-be30-861b9109e105.SHOG5Y6YSGFNYZFF.SEARCH&ppt=sp&ppn=sp&ssid=xomibv08k00000001667588005573&qH=a1743c0d39461290',\n",
       " 'https://www.flipkart.com/skechers-cityblock-hatton-sneakers-men/p/itmf525f2db96af8?pid=SHOGGHSYZYUUGSPB&lid=LSTSHOGGHSYZYUUGSPBLBLQ3X&marketplace=FLIPKART&q=sneakers&store=osp&srno=s_2_58&otracker=search&otracker1=search&fm=Search&iid=en_N5bvJ87txIvjzdL5MSorJOioNKXoqLBqy0aLRFrJD7GLJelHKFQDBmvplskdqlE7UeVhg1MdJMm9tzBORkk4BA%3D%3D&ppt=sp&ppn=sp&ssid=xomibv08k00000001667588005573&qH=a1743c0d39461290',\n",
       " 'https://www.flipkart.com/asteroid-original-luxury-branded-fashionable-men-s-casual-walking-partywear-sneakers-running-white-black-shoes-men-white-black/p/itm65cb76d7ae24b?pid=SHOG2ZXGNXRC2GNW&lid=LSTSHOG2ZXGNXRC2GNWGOGPL1&marketplace=FLIPKART&q=sneakers&store=osp&srno=s_2_59&otracker=search&otracker1=search&fm=Search&iid=18fb3691-a99b-4bcd-be30-861b9109e105.SHOG2ZXGNXRC2GNW.SEARCH&ppt=sp&ppn=sp&ssid=xomibv08k00000001667588005573&qH=a1743c0d39461290',\n",
       " 'https://www.flipkart.com/robbie-jones-sneakers-men/p/itme831dc6090a19?pid=SHOG5FA5JGDKDR9Q&lid=LSTSHOG5FA5JGDKDR9QB0X6C9&marketplace=FLIPKART&q=sneakers&store=osp&srno=s_2_60&otracker=search&otracker1=search&fm=Search&iid=18fb3691-a99b-4bcd-be30-861b9109e105.SHOG5FA5JGDKDR9Q.SEARCH&ppt=sp&ppn=sp&ssid=xomibv08k00000001667588005573&qH=a1743c0d39461290',\n",
       " 'https://www.flipkart.com/skechers-razor-buckeye-sneakers-men/p/itmea9318a7f70b2?pid=SHOGGHSZJ2YBXQFC&lid=LSTSHOGGHSZJ2YBXQFCBUMDVP&marketplace=FLIPKART&q=sneakers&store=osp&srno=s_2_61&otracker=search&otracker1=search&fm=Search&iid=en_N5bvJ87txIvjzdL5MSorJOioNKXoqLBqy0aLRFrJD7EM74VhNtZrRamoVClKpolIantQ6eFIZyp8QS2doN5yrg%3D%3D&ppt=sp&ppn=sp&ssid=xomibv08k00000001667588005573&qH=a1743c0d39461290',\n",
       " 'https://www.flipkart.com/eeken-sneakers-women/p/itm8e194c9e10b97?pid=SHOFZFDKNUUY7JHN&lid=LSTSHOFZFDKNUUY7JHNTUTHAS&marketplace=FLIPKART&q=sneakers&store=osp&srno=s_2_62&otracker=search&otracker1=search&fm=Search&iid=en_N5bvJ87txIvjzdL5MSorJOioNKXoqLBqy0aLRFrJD7FkTwxJzMzu1FGxfNj50v4AvwFdKMUrjCNrS4MZnpLugw%3D%3D&ppt=sp&ppn=sp&ssid=xomibv08k00000001667588005573&qH=a1743c0d39461290',\n",
       " 'https://www.flipkart.com/buxberry-outdoor-trendy-lightweight-casual-canvas-stylish-partywear-sneakers-shoes-boys-men/p/itm3d362cbfd4a41?pid=SHOGG2PCUGEMZBMC&lid=LSTSHOGG2PCUGEMZBMCIV3OBH&marketplace=FLIPKART&q=sneakers&store=osp&srno=s_2_63&otracker=search&otracker1=search&fm=Search&iid=18fb3691-a99b-4bcd-be30-861b9109e105.SHOGG2PCUGEMZBMC.SEARCH&ppt=sp&ppn=sp&ssid=xomibv08k00000001667588005573&qH=a1743c0d39461290',\n",
       " 'https://www.flipkart.com/lnt-fashion-sneakers-men/p/itm6195f2c4cc3e2?pid=SHOFWXZ3GWHQKMW7&lid=LSTSHOFWXZ3GWHQKMW7SUZFRY&marketplace=FLIPKART&q=sneakers&store=osp&srno=s_2_64&otracker=search&otracker1=search&fm=Search&iid=18fb3691-a99b-4bcd-be30-861b9109e105.SHOFWXZ3GWHQKMW7.SEARCH&ppt=sp&ppn=sp&ssid=xomibv08k00000001667588005573&qH=a1743c0d39461290',\n",
       " 'https://www.flipkart.com/aadi-sneakers-men/p/itmca7cc562deb1a?pid=SHOGAYVWDJQPBZAS&lid=LSTSHOGAYVWDJQPBZASU5KEWS&marketplace=FLIPKART&q=sneakers&store=osp&srno=s_2_65&otracker=search&otracker1=search&fm=Search&iid=18fb3691-a99b-4bcd-be30-861b9109e105.SHOGAYVWDJQPBZAS.SEARCH&ppt=sp&ppn=sp&ssid=xomibv08k00000001667588005573&qH=a1743c0d39461290',\n",
       " 'https://www.flipkart.com/kardam-sons-fashionable-canvas-casual-partywear-outdoor-sneakers-white-shoes-men/p/itmbc0d599fa52be?pid=SHOGJYGTMWUSMWHH&lid=LSTSHOGJYGTMWUSMWHHLPKUKL&marketplace=FLIPKART&q=sneakers&store=osp&srno=s_2_66&otracker=search&otracker1=search&fm=Search&iid=18fb3691-a99b-4bcd-be30-861b9109e105.SHOGJYGTMWUSMWHH.SEARCH&ppt=sp&ppn=sp&ssid=xomibv08k00000001667588005573&qH=a1743c0d39461290',\n",
       " 'https://www.flipkart.com/asian-jasper-04-red-sneakers-casuals-loafers-sneakers-men/p/itm1464c538e691e?pid=SHOGJ6EURS5294DH&lid=LSTSHOGJ6EURS5294DH8HMK5U&marketplace=FLIPKART&q=sneakers&store=osp&srno=s_2_67&otracker=search&otracker1=search&fm=Search&iid=en_N5bvJ87txIvjzdL5MSorJOioNKXoqLBqy0aLRFrJD7Eu1kMbjTdSafqUOFaDXKhM%2FDteubeCd8M7ZCfYi%2Flj8Q%3D%3D&ppt=sp&ppn=sp&ssid=xomibv08k00000001667588005573&qH=a1743c0d39461290',\n",
       " 'https://www.flipkart.com/skechers-bounder-mirkle-sneakers-men/p/itm2482677934433?pid=SHOG2TAZBE8MMFDK&lid=LSTSHOG2TAZBE8MMFDKKGNCDT&marketplace=FLIPKART&q=sneakers&store=osp&srno=s_2_68&otracker=search&otracker1=search&fm=Search&iid=en_N5bvJ87txIvjzdL5MSorJOioNKXoqLBqy0aLRFrJD7Fu0HAMULvTf6FvmbnoL1u5XebNzm%2BRKXHcPQNTdbzfrg%3D%3D&ppt=sp&ppn=sp&ssid=xomibv08k00000001667588005573&qH=a1743c0d39461290',\n",
       " 'https://www.flipkart.com/shozie-stylish-sneakers-shoes-men/p/itm8d6c6c70e2967?pid=SHOGHRX4ZJQZYSY5&lid=LSTSHOGHRX4ZJQZYSY54ZTGJ4&marketplace=FLIPKART&q=sneakers&store=osp&srno=s_2_69&otracker=search&otracker1=search&fm=Search&iid=18fb3691-a99b-4bcd-be30-861b9109e105.SHOGHRX4ZJQZYSY5.SEARCH&ppt=sp&ppn=sp&ssid=xomibv08k00000001667588005573&qH=a1743c0d39461290',\n",
       " 'https://www.flipkart.com/rapidbox-sneakers-men/p/itm3e9655a4a9be5?pid=SHOG9MZF4CJJH3HE&lid=LSTSHOG9MZF4CJJH3HEIJOMMW&marketplace=FLIPKART&q=sneakers&store=osp&srno=s_2_70&otracker=search&otracker1=search&fm=Search&iid=18fb3691-a99b-4bcd-be30-861b9109e105.SHOG9MZF4CJJH3HE.SEARCH&ppt=sp&ppn=sp&ssid=xomibv08k00000001667588005573&qH=a1743c0d39461290',\n",
       " 'https://www.flipkart.com/skechers-arcade-3-0-sneakers-men/p/itm3c64e6121e16f?pid=SHOGFHWZGN9EA8TJ&lid=LSTSHOGFHWZGN9EA8TJGQJH3T&marketplace=FLIPKART&q=sneakers&store=osp&srno=s_2_71&otracker=search&otracker1=search&fm=Search&iid=en_N5bvJ87txIvjzdL5MSorJOioNKXoqLBqy0aLRFrJD7GlHvqoStViFjKyw6h3RerieGOGc7I7vITJWLLx7JeXiw%3D%3D&ppt=sp&ppn=sp&ssid=xomibv08k00000001667588005573&qH=a1743c0d39461290',\n",
       " 'https://www.flipkart.com/skechers-arcade-3-0-sneakers-men/p/itm030b52116ed56?pid=SHOGFHWZWXJHUXTV&lid=LSTSHOGFHWZWXJHUXTV6HIQ04&marketplace=FLIPKART&q=sneakers&store=osp&srno=s_2_72&otracker=search&otracker1=search&fm=Search&iid=en_N5bvJ87txIvjzdL5MSorJOioNKXoqLBqy0aLRFrJD7Hn7s3gYYTwTVnSiYo2Ov00viCpThNR4x9hDTpgWh469w%3D%3D&ppt=sp&ppn=sp&ssid=xomibv08k00000001667588005573&qH=a1743c0d39461290',\n",
       " 'https://www.flipkart.com/numenzo-white-sneaker-men-sneakers/p/itm3ffb692d4132c?pid=SHOG4K76QZAYNNZP&lid=LSTSHOG4K76QZAYNNZPRWHVET&marketplace=FLIPKART&q=sneakers&store=osp&srno=s_2_73&otracker=search&otracker1=search&fm=Search&iid=18fb3691-a99b-4bcd-be30-861b9109e105.SHOG4K76QZAYNNZP.SEARCH&ppt=sp&ppn=sp&ssid=xomibv08k00000001667588005573&qH=a1743c0d39461290',\n",
       " 'https://www.flipkart.com/bruton-lattest-sneakers-shoe-men/p/itm42e4e64429e8b?pid=SHOG293HTPDYNKHB&lid=LSTSHOG293HTPDYNKHBHNNWZD&marketplace=FLIPKART&q=sneakers&store=osp&srno=s_2_74&otracker=search&otracker1=search&fm=Search&iid=18fb3691-a99b-4bcd-be30-861b9109e105.SHOG293HTPDYNKHB.SEARCH&ppt=sp&ppn=sp&ssid=xomibv08k00000001667588005573&qH=a1743c0d39461290',\n",
       " 'https://www.flipkart.com/deals4you-sneakers-men/p/itmc3b74768ead4d?pid=SHOGHRUUSS8XKVFE&lid=LSTSHOGHRUUSS8XKVFEVYVIJI&marketplace=FLIPKART&q=sneakers&store=osp&srno=s_2_75&otracker=search&otracker1=search&fm=Search&iid=18fb3691-a99b-4bcd-be30-861b9109e105.SHOGHRUUSS8XKVFE.SEARCH&ppt=sp&ppn=sp&ssid=xomibv08k00000001667588005573&qH=a1743c0d39461290',\n",
       " 'https://www.flipkart.com/ducati-sneakers-men/p/itm1ceea84595fff?pid=SHOGARPKEHSXMKVP&lid=LSTSHOGARPKEHSXMKVPYKDXSK&marketplace=FLIPKART&q=sneakers&store=osp&srno=s_2_76&otracker=search&otracker1=search&fm=Search&iid=18fb3691-a99b-4bcd-be30-861b9109e105.SHOGARPKEHSXMKVP.SEARCH&ppt=sp&ppn=sp&ssid=xomibv08k00000001667588005573&qH=a1743c0d39461290',\n",
       " 'https://www.flipkart.com/asian-jasper-01-grey-casual-walking-sneakers-loafers-stylish-sneakers-men/p/itmc4459bbd9f327?pid=SHOGJ8HHGED3DKVD&lid=LSTSHOGJ8HHGED3DKVDLFXWY2&marketplace=FLIPKART&q=sneakers&store=osp&srno=s_2_77&otracker=search&otracker1=search&fm=Search&iid=en_N5bvJ87txIvjzdL5MSorJOioNKXoqLBqy0aLRFrJD7FzVHpxvYt9ebeWzYd1TuB6CZdNrkmo5JNXFJejS72i%2Bg%3D%3D&ppt=sp&ppn=sp&ssid=xomibv08k00000001667588005573&qH=a1743c0d39461290',\n",
       " 'https://www.flipkart.com/world-wear-footwear-5011-latest-collection-stylish-trendy-casual-sneakers-shoes-men/p/itm01930e5430e12?pid=SHOFMY6N68KNNSFW&lid=LSTSHOFMY6N68KNNSFWLRS72C&marketplace=FLIPKART&q=sneakers&store=osp&srno=s_2_79&otracker=search&otracker1=search&fm=Search&iid=18fb3691-a99b-4bcd-be30-861b9109e105.SHOFMY6N68KNNSFW.SEARCH&ppt=sp&ppn=sp&ssid=xomibv08k00000001667588005573&qH=a1743c0d39461290',\n",
       " 'https://www.flipkart.com/rapidbox-men-shoes-sneakers/p/itm468d674aa76eb?pid=SHOG7CHPEXGUD43T&lid=LSTSHOG7CHPEXGUD43TJPJJZH&marketplace=FLIPKART&q=sneakers&store=osp&srno=s_2_80&otracker=search&otracker1=search&fm=Search&iid=18fb3691-a99b-4bcd-be30-861b9109e105.SHOG7CHPEXGUD43T.SEARCH&ppt=sp&ppn=sp&ssid=xomibv08k00000001667588005573&qH=a1743c0d39461290',\n",
       " 'https://www.flipkart.com/warmfeet-fancy-sneakers-men/p/itm8f1603bb4e79a?pid=SHOGAFSKCKFPCGQR&lid=LSTSHOGAFSKCKFPCGQRSOUGR3&marketplace=FLIPKART&q=sneakers&store=osp&srno=s_1_2&otracker=search&otracker1=search&fm=Search&iid=en_BursfxZYgH6%2BK4jJaML5epXa380rAJ7wRoB43HBroHEnESdhXx%2F4yIK5JGEbK4RPvuWFRO6mMRcrUHFv1XRn%2FA%3D%3D&ppt=sp&ppn=sp&ssid=xomibv08k00000001667588005573&qH=a1743c0d39461290',\n",
       " 'https://www.flipkart.com/red-tape-sneakers-men/p/itm24ac0b970f222?pid=SHOGBVNZ6KWHJTJJ&lid=LSTSHOGBVNZ6KWHJTJJLKU1I0&marketplace=FLIPKART&q=sneakers&store=osp&srno=s_1_3&otracker=search&otracker1=search&fm=Search&iid=1ac88b16-0225-4240-a1d7-f10a3ed14055.SHOGBVNZ6KWHJTJJ.SEARCH&ppt=sp&ppn=sp&ssid=xomibv08k00000001667588005573&qH=a1743c0d39461290',\n",
       " 'https://www.flipkart.com/red-tape-sneakers-men/p/itmd7f89d08f2d96?pid=SHOGFY9QWZQGUCAF&lid=LSTSHOGFY9QWZQGUCAFXJFHXZ&marketplace=FLIPKART&q=sneakers&store=osp&srno=s_1_4&otracker=search&otracker1=search&fm=Search&iid=1ac88b16-0225-4240-a1d7-f10a3ed14055.SHOGFY9QWZQGUCAF.SEARCH&ppt=sp&ppn=sp&ssid=xomibv08k00000001667588005573&qH=a1743c0d39461290',\n",
       " 'https://www.flipkart.com/labbin-sneakers-men/p/itm22551963c0809?pid=SHOG497GM6AVWCEU&lid=LSTSHOG497GM6AVWCEUBBOTEM&marketplace=FLIPKART&q=sneakers&store=osp&srno=s_1_5&otracker=search&otracker1=search&fm=Search&iid=1ac88b16-0225-4240-a1d7-f10a3ed14055.SHOG497GM6AVWCEU.SEARCH&ppt=sp&ppn=sp&ssid=xomibv08k00000001667588005573&qH=a1743c0d39461290',\n",
       " 'https://www.flipkart.com/tr-casual-sneakers-men/p/itmc6ea472a250a7?pid=SHOGEQ7AYCZY8C3R&lid=LSTSHOGEQ7AYCZY8C3RJP0XMH&marketplace=FLIPKART&q=sneakers&store=osp&srno=s_1_6&otracker=search&otracker1=search&fm=Search&iid=1ac88b16-0225-4240-a1d7-f10a3ed14055.SHOGEQ7AYCZY8C3R.SEARCH&ppt=sp&ppn=sp&ssid=xomibv08k00000001667588005573&qH=a1743c0d39461290',\n",
       " 'https://www.flipkart.com/tr-sneakers-men/p/itme2fda2cd5f2ff?pid=SHOGAB52GZ37Q5PD&lid=LSTSHOGAB52GZ37Q5PDBLWTII&marketplace=FLIPKART&q=sneakers&store=osp&srno=s_1_7&otracker=search&otracker1=search&fm=Search&iid=1ac88b16-0225-4240-a1d7-f10a3ed14055.SHOGAB52GZ37Q5PD.SEARCH&ppt=sp&ppn=sp&ssid=xomibv08k00000001667588005573&qH=a1743c0d39461290',\n",
       " 'https://www.flipkart.com/warmfeet-fancy-sneakers-men/p/itm752d05d6e497a?pid=SHOGAFSKMUTG6WUR&lid=LSTSHOGAFSKMUTG6WURKWJHSE&marketplace=FLIPKART&q=sneakers&store=osp&srno=s_1_8&otracker=search&otracker1=search&fm=Search&iid=en_BursfxZYgH6%2BK4jJaML5epXa380rAJ7wRoB43HBroHEfOHxpCLPEH19FBK8bWZkMrvD5hgDsMJ6Gnd9hJQmvcw%3D%3D&ppt=sp&ppn=sp&ssid=xomibv08k00000001667588005573&qH=a1743c0d39461290',\n",
       " 'https://www.flipkart.com/robbie-jones-casual-sneakers-canvas-shoes-men/p/itm23c3922bcb1db?pid=SHOG73SM3AA3QYZX&lid=LSTSHOG73SM3AA3QYZXAOTINQ&marketplace=FLIPKART&q=sneakers&store=osp&srno=s_1_9&otracker=search&otracker1=search&fm=Search&iid=1ac88b16-0225-4240-a1d7-f10a3ed14055.SHOG73SM3AA3QYZX.SEARCH&ppt=sp&ppn=sp&ssid=xomibv08k00000001667588005573&qH=a1743c0d39461290',\n",
       " 'https://www.flipkart.com/kraasa-casuals-canvas-partywear-sneakers-men/p/itm3b6ebb856eb64?pid=SHOFGGF7PYRB4DVE&lid=LSTSHOFGGF7PYRB4DVERLXV6O&marketplace=FLIPKART&q=sneakers&store=osp&srno=s_1_10&otracker=search&otracker1=search&fm=Search&iid=1ac88b16-0225-4240-a1d7-f10a3ed14055.SHOFGGF7PYRB4DVE.SEARCH&ppt=sp&ppn=sp&ssid=xomibv08k00000001667588005573&qH=a1743c0d39461290',\n",
       " 'https://www.flipkart.com/layasa-sneakers-women/p/itmb1526f2eea72d?pid=SHOGGHEG9GFKTWRW&lid=LSTSHOGGHEG9GFKTWRWS5OKEJ&marketplace=FLIPKART&q=sneakers&store=osp&srno=s_1_11&otracker=search&otracker1=search&fm=Search&iid=en_BursfxZYgH6%2BK4jJaML5epXa380rAJ7wRoB43HBroHHuWI2QgeGoTUAaPD1jcJEpXu2CfCoink5rCwx14W6mjw%3D%3D&ppt=sp&ppn=sp&ssid=xomibv08k00000001667588005573&qH=a1743c0d39461290',\n",
       " 'https://www.flipkart.com/eeken-sneakers-men/p/itm94e032ce799e8?pid=SHOG7XTE5QQZVMDQ&lid=LSTSHOG7XTE5QQZVMDQ1WPMIM&marketplace=FLIPKART&q=sneakers&store=osp&srno=s_1_12&otracker=search&otracker1=search&fm=Search&iid=en_BursfxZYgH6%2BK4jJaML5epXa380rAJ7wRoB43HBroHEOj2CfWcgL68wxFA6%2FidE24yuJ8ngINPlF1oP59GlpvQ%3D%3D&ppt=sp&ppn=sp&ssid=xomibv08k00000001667588005573&qH=a1743c0d39461290',\n",
       " 'https://www.flipkart.com/bruton-lightweight-pack-1-trendy-sneakers-men/p/itm7064e7c206751?pid=SHOFVKFGSB6DSQXX&lid=LSTSHOFVKFGSB6DSQXXO0MZK3&marketplace=FLIPKART&q=sneakers&store=osp&srno=s_1_13&otracker=search&otracker1=search&fm=Search&iid=1ac88b16-0225-4240-a1d7-f10a3ed14055.SHOFVKFGSB6DSQXX.SEARCH&ppt=sp&ppn=sp&ssid=xomibv08k00000001667588005573&qH=a1743c0d39461290',\n",
       " 'https://www.flipkart.com/puma-trinity-sneakers-men/p/itm8ca41052c50bf?pid=SHOFNU2W6YA5HUTY&lid=LSTSHOFNU2W6YA5HUTYINXGEX&marketplace=FLIPKART&q=sneakers&store=osp&srno=s_1_14&otracker=search&otracker1=search&fm=Search&iid=1ac88b16-0225-4240-a1d7-f10a3ed14055.SHOFNU2W6YA5HUTY.SEARCH&ppt=sp&ppn=sp&ssid=xomibv08k00000001667588005573&qH=a1743c0d39461290',\n",
       " 'https://www.flipkart.com/birde-premium-sports-shoes-men-sneakers/p/itm0e5e0bd9d5e1d?pid=SHOFZEWUHPRTRX7G&lid=LSTSHOFZEWUHPRTRX7G0A53QI&marketplace=FLIPKART&q=sneakers&store=osp&srno=s_1_15&otracker=search&otracker1=search&fm=Search&iid=1ac88b16-0225-4240-a1d7-f10a3ed14055.SHOFZEWUHPRTRX7G.SEARCH&ppt=sp&ppn=sp&ssid=xomibv08k00000001667588005573&qH=a1743c0d39461290',\n",
       " 'https://www.flipkart.com/magnolia-sneakers-men/p/itm5160316c9ee0f?pid=SHOG69HDHGHVUDKD&lid=LSTSHOG69HDHGHVUDKDKQRVJN&marketplace=FLIPKART&q=sneakers&store=osp&srno=s_1_16&otracker=search&otracker1=search&fm=Search&iid=1ac88b16-0225-4240-a1d7-f10a3ed14055.SHOG69HDHGHVUDKD.SEARCH&ppt=sp&ppn=sp&ssid=xomibv08k00000001667588005573&qH=a1743c0d39461290',\n",
       " 'https://www.flipkart.com/skechers-neo-casual-creswell-sneakers-men/p/itmc13e3eb8fe4e6?pid=SHOGGHSYAJBBUHVM&lid=LSTSHOGGHSYAJBBUHVMBKM0FE&marketplace=FLIPKART&q=sneakers&store=osp&srno=s_1_17&otracker=search&otracker1=search&fm=Search&iid=en_BursfxZYgH6%2BK4jJaML5epXa380rAJ7wRoB43HBroHFNwKqebjrn%2FjS3xlmeBYBqgshbZO1oFSKUclpxqC6NUw%3D%3D&ppt=sp&ppn=sp&ssid=xomibv08k00000001667588005573&qH=a1743c0d39461290',\n",
       " 'https://www.flipkart.com/layasa-casual-sneakers-white-shoes-girls-women/p/itm04098ecd0de13?pid=SHOGHMJ4GRAYZSVQ&lid=LSTSHOGHMJ4GRAYZSVQHHTD2B&marketplace=FLIPKART&q=sneakers&store=osp&srno=s_1_18&otracker=search&otracker1=search&fm=Search&iid=en_BursfxZYgH6%2BK4jJaML5epXa380rAJ7wRoB43HBroHFhLhJsGqv6Z6A67f9vZGrdveO9Benxwd4QGgQlQOtKtQ%3D%3D&ppt=sp&ppn=sp&ssid=xomibv08k00000001667588005573&qH=a1743c0d39461290',\n",
       " 'https://www.flipkart.com/robbie-jones-sneakers-men/p/itmed5242b75c69f?pid=SHOG5Y5AKNTT8DPC&lid=LSTSHOG5Y5AKNTT8DPCNVIEV5&marketplace=FLIPKART&q=sneakers&store=osp&srno=s_1_19&otracker=search&otracker1=search&fm=Search&iid=1ac88b16-0225-4240-a1d7-f10a3ed14055.SHOG5Y5AKNTT8DPC.SEARCH&ppt=sp&ppn=sp&ssid=xomibv08k00000001667588005573&qH=a1743c0d39461290',\n",
       " 'https://www.flipkart.com/deals4you-sneakers-women/p/itmd1241f2f24eb8?pid=SHOG7PJ6CBYM4AVD&lid=LSTSHOG7PJ6CBYM4AVDGU3MZK&marketplace=FLIPKART&q=sneakers&store=osp&srno=s_1_20&otracker=search&otracker1=search&fm=Search&iid=1ac88b16-0225-4240-a1d7-f10a3ed14055.SHOG7PJ6CBYM4AVD.SEARCH&ppt=sp&ppn=sp&ssid=xomibv08k00000001667588005573&qH=a1743c0d39461290',\n",
       " 'https://www.flipkart.com/cresswell-black-multicolor-lifestyle-casual-sports-training-sneakers-men/p/itm3944d341c3415?pid=SHOGE6BYDSYNS4GZ&lid=LSTSHOGE6BYDSYNS4GZN7EYTR&marketplace=FLIPKART&q=sneakers&store=osp&srno=s_1_21&otracker=search&otracker1=search&fm=Search&iid=en_BursfxZYgH6%2BK4jJaML5epXa380rAJ7wRoB43HBroHGah%2BY6cYRyysH0Iv9OGOO4qgirqSaUjdrnCtSVUdqWHw%3D%3D&ppt=sp&ppn=sp&ssid=xomibv08k00000001667588005573&qH=a1743c0d39461290',\n",
       " 'https://www.flipkart.com/skechers-go-walk-5-warwick-sneakers-men/p/itm6adad6c351fe5?pid=SHOGFHWZAYGSSAGP&lid=LSTSHOGFHWZAYGSSAGPGPI9XS&marketplace=FLIPKART&q=sneakers&store=osp&srno=s_1_22&otracker=search&otracker1=search&fm=Search&iid=en_BursfxZYgH6%2BK4jJaML5epXa380rAJ7wRoB43HBroHEDn6KqMYzT1Dise9bIvgSp7Si8zL10JHlp0wneI7QM4Q%3D%3D&ppt=sp&ppn=sp&ssid=xomibv08k00000001667588005573&qH=a1743c0d39461290',\n",
       " 'https://www.flipkart.com/rapidbox-sneakers-men/p/itm13dd1209e585b?pid=SHOG7H6QFZZ8ENHB&lid=LSTSHOG7H6QFZZ8ENHBDW2KSN&marketplace=FLIPKART&q=sneakers&store=osp&srno=s_1_23&otracker=search&otracker1=search&fm=Search&iid=1ac88b16-0225-4240-a1d7-f10a3ed14055.SHOG7H6QFZZ8ENHB.SEARCH&ppt=sp&ppn=sp&ssid=xomibv08k00000001667588005573&qH=a1743c0d39461290',\n",
       " 'https://www.flipkart.com/scatchite-sneakers-men/p/itmc13680b1d9604?pid=SHOFUDSUHXHE67UG&lid=LSTSHOFUDSUHXHE67UGSXKTQ1&marketplace=FLIPKART&q=sneakers&store=osp&srno=s_1_24&otracker=search&otracker1=search&fm=Search&iid=1ac88b16-0225-4240-a1d7-f10a3ed14055.SHOFUDSUHXHE67UG.SEARCH&ppt=sp&ppn=sp&ssid=xomibv08k00000001667588005573&qH=a1743c0d39461290',\n",
       " 'https://www.flipkart.com/bruton-canvas-shoes-men-sneakers/p/itm6036f913ec47f?pid=SHOG293HGHQFJHMP&lid=LSTSHOG293HGHQFJHMPZVTGRE&marketplace=FLIPKART&q=sneakers&store=osp&srno=s_1_25&otracker=search&otracker1=search&fm=Search&iid=1ac88b16-0225-4240-a1d7-f10a3ed14055.SHOG293HGHQFJHMP.SEARCH&ppt=sp&ppn=sp&ssid=xomibv08k00000001667588005573&qH=a1743c0d39461290',\n",
       " 'https://www.flipkart.com/bruton-2-combo-sneaker-shoes-sneakers-men/p/itm108ab66174980?pid=SHOGGBMP4F9FGYXG&lid=LSTSHOGGBMP4F9FGYXG2JIIRD&marketplace=FLIPKART&q=sneakers&store=osp&srno=s_1_26&otracker=search&otracker1=search&fm=Search&iid=1ac88b16-0225-4240-a1d7-f10a3ed14055.SHOGGBMP4F9FGYXG.SEARCH&ppt=sp&ppn=sp&ssid=xomibv08k00000001667588005573&qH=a1743c0d39461290',\n",
       " 'https://www.flipkart.com/eeken-monday-house-paragon-sneakers-men/p/itm6afa4ae75cd46?pid=SHOFWYZCAEM4ZFFX&lid=LSTSHOFWYZCAEM4ZFFX3MMCQ0&marketplace=FLIPKART&q=sneakers&store=osp&srno=s_1_27&otracker=search&otracker1=search&fm=Search&iid=en_BursfxZYgH6%2BK4jJaML5epXa380rAJ7wRoB43HBroHFBCEvl4w1D2sGU5e3VWjH3Y9p9TdCAJkC6yMWjkvEl1w%3D%3D&ppt=sp&ppn=sp&ssid=xomibv08k00000001667588005573&qH=a1743c0d39461290',\n",
       " 'https://www.flipkart.com/eeken-martes-house-paragon-sneakers-men/p/itmca2819305cfc8?pid=SHOFWYZBCV4NQ9GZ&lid=LSTSHOFWYZBCV4NQ9GZJ5N93H&marketplace=FLIPKART&q=sneakers&store=osp&srno=s_1_28&otracker=search&otracker1=search&fm=Search&iid=en_BursfxZYgH6%2BK4jJaML5epXa380rAJ7wRoB43HBroHEQwuPIEy7ogKe%2BiUgMiyoc%2FGC%2BfnZgrrIsZyeODliXkA%3D%3D&ppt=sp&ppn=sp&ssid=xomibv08k00000001667588005573&qH=a1743c0d39461290',\n",
       " 'https://www.flipkart.com/world-wear-footwear-exclusive-affordable-collection-trendy-stylish-casual-sneakers-shoes-men/p/itmf1f2267bb145c?pid=SHOGFDGV4QFBFYSF&lid=LSTSHOGFDGV4QFBFYSFNKK6BN&marketplace=FLIPKART&q=sneakers&store=osp&srno=s_1_29&otracker=search&otracker1=search&fm=Search&iid=1ac88b16-0225-4240-a1d7-f10a3ed14055.SHOGFDGV4QFBFYSF.SEARCH&ppt=sp&ppn=sp&ssid=xomibv08k00000001667588005573&qH=a1743c0d39461290',\n",
       " 'https://www.flipkart.com/asteroid-luxury-branded-fashionable-men-s-casual-walking-partywear-sneakers-running-white-shoes-men/p/itmadb9562baf1cd?pid=SHOG3F72F86X8NUZ&lid=LSTSHOG3F72F86X8NUZ83SNSO&marketplace=FLIPKART&q=sneakers&store=osp&srno=s_1_30&otracker=search&otracker1=search&fm=Search&iid=1ac88b16-0225-4240-a1d7-f10a3ed14055.SHOG3F72F86X8NUZ.SEARCH&ppt=sp&ppn=sp&ssid=xomibv08k00000001667588005573&qH=a1743c0d39461290',\n",
       " 'https://www.flipkart.com/asian-jasper-02-navy-casuals-walking-training-running-stylish-sneakers-men/p/itm02248b5874f92?pid=SHOGJ44WGSBECGFH&lid=LSTSHOGJ44WGSBECGFHCQG2YI&marketplace=FLIPKART&q=sneakers&store=osp&srno=s_1_31&otracker=search&otracker1=search&fm=Search&iid=en_BursfxZYgH6%2BK4jJaML5epXa380rAJ7wRoB43HBroHFguKtdQPNm2pOiydfaGqfyEaxCJJWyQbfjhSF9WT0jkw%3D%3D&ppt=sp&ppn=sp&ssid=xomibv08k00000001667588005573&qH=a1743c0d39461290',\n",
       " 'https://www.flipkart.com/furo-sneakers-men/p/itm15b9f61a40678?pid=SHOGGBWJQRB96YNR&lid=LSTSHOGGBWJQRB96YNRLKDSFL&marketplace=FLIPKART&q=sneakers&store=osp&srno=s_1_32&otracker=search&otracker1=search&fm=Search&iid=en_BursfxZYgH6%2BK4jJaML5epXa380rAJ7wRoB43HBroHFRTfan7pgQyDUyYOQQX87mR04Cz0P204sRDfovaESSdg%3D%3D&ppt=sp&ppn=sp&ssid=xomibv08k00000001667588005573&qH=a1743c0d39461290',\n",
       " 'https://www.flipkart.com/t-rock-stylish-white-casual-sneakers-shoes-men-boys/p/itma28870c36515e?pid=SHOGBNQB9JTQR5BU&lid=LSTSHOGBNQB9JTQR5BUQEYGDT&marketplace=FLIPKART&q=sneakers&store=osp&srno=s_1_33&otracker=search&otracker1=search&fm=Search&iid=1ac88b16-0225-4240-a1d7-f10a3ed14055.SHOGBNQB9JTQR5BU.SEARCH&ppt=sp&ppn=sp&ssid=xomibv08k00000001667588005573&qH=a1743c0d39461290',\n",
       " 'https://www.flipkart.com/bruton-exclusive-sneaker-shoes-sneakers-men/p/itm76ca41c3599dc?pid=SHOGFMDYQ769DUFK&lid=LSTSHOGFMDYQ769DUFK5CHZ6Q&marketplace=FLIPKART&q=sneakers&store=osp&srno=s_1_34&otracker=search&otracker1=search&fm=Search&iid=1ac88b16-0225-4240-a1d7-f10a3ed14055.SHOGFMDYQ769DUFK.SEARCH&ppt=sp&ppn=sp&ssid=xomibv08k00000001667588005573&qH=a1743c0d39461290',\n",
       " 'https://www.flipkart.com/sparx-sm-671-sneakers-men/p/itmf02a258f60662?pid=SHOGC2VPJ2GD3ZHG&lid=LSTSHOGC2VPJ2GD3ZHGBVSSQU&marketplace=FLIPKART&q=sneakers&store=osp&srno=s_1_35&otracker=search&otracker1=search&fm=Search&iid=1ac88b16-0225-4240-a1d7-f10a3ed14055.SHOGC2VPJ2GD3ZHG.SEARCH&ppt=sp&ppn=sp&ssid=xomibv08k00000001667588005573&qH=a1743c0d39461290',\n",
       " 'https://www.flipkart.com/bruton-lightweight-pack-1-trendy-sneakers-men/p/itm6b204a060e6f0?pid=SHOFVH664E3R8GFT&lid=LSTSHOFVH664E3R8GFTHMPHM6&marketplace=FLIPKART&q=sneakers&store=osp&srno=s_1_36&otracker=search&otracker1=search&fm=Search&iid=1ac88b16-0225-4240-a1d7-f10a3ed14055.SHOFVH664E3R8GFT.SEARCH&ppt=sp&ppn=sp&ssid=xomibv08k00000001667588005573&qH=a1743c0d39461290',\n",
       " 'https://www.flipkart.com/puma-pint-sneakers-men/p/itm80c7fa2fba7f6?pid=SHOGAK4CTFHKJK7P&lid=LSTSHOGAK4CTFHKJK7PJWNOJI&marketplace=FLIPKART&q=sneakers&store=osp&srno=s_1_37&otracker=search&otracker1=search&fm=Search&iid=en_BursfxZYgH6%2BK4jJaML5epXa380rAJ7wRoB43HBroHE%2F02u9siz0qRJWjFV%2FU8UqMaZiy5oO9rP5Ec1Y%2FapZFA%3D%3D&ppt=sp&ppn=sp&ssid=xomibv08k00000001667588005573&qH=a1743c0d39461290',\n",
       " 'https://www.flipkart.com/furo-sneakers-men/p/itm6f5c9d7de58df?pid=SHOGGBWJASJGEFW8&lid=LSTSHOGGBWJASJGEFW8IGIX0D&marketplace=FLIPKART&q=sneakers&store=osp&srno=s_1_38&otracker=search&otracker1=search&fm=Search&iid=en_BursfxZYgH6%2BK4jJaML5epXa380rAJ7wRoB43HBroHG49X6K3fJKLFWE3AF1lD9iraM2MPxwTmLghGydzvTG8Q%3D%3D&ppt=sp&ppn=sp&ssid=xomibv08k00000001667588005573&qH=a1743c0d39461290',\n",
       " 'https://www.flipkart.com/gvr-sneakers-men/p/itmd3506c2a43727?pid=SHOGHBEABHPZFZXN&lid=LSTSHOGHBEABHPZFZXNAB13RI&marketplace=FLIPKART&q=sneakers&store=osp&srno=s_1_39&otracker=search&otracker1=search&fm=Search&iid=1ac88b16-0225-4240-a1d7-f10a3ed14055.SHOGHBEABHPZFZXN.SEARCH&ppt=sp&ppn=sp&ssid=xomibv08k00000001667588005573&qH=a1743c0d39461290',\n",
       " 'https://www.flipkart.com/hotstyle-sneakers-men/p/itm071be697faf47?pid=SHOG4KJFJZTNGJ67&lid=LSTSHOG4KJFJZTNGJ67AUMQBB&marketplace=FLIPKART&q=sneakers&store=osp&srno=s_1_40&otracker=search&otracker1=search&fm=Search&iid=1ac88b16-0225-4240-a1d7-f10a3ed14055.SHOG4KJFJZTNGJ67.SEARCH&ppt=sp&ppn=sp&ssid=xomibv08k00000001667588005573&qH=a1743c0d39461290',\n",
       " 'https://www.flipkart.com/warmfeet-fancy-sneakers-men/p/itm752d05d6e497a?pid=SHOGAFSKMUTG6WUR&lid=LSTSHOGAFSKMUTG6WURKWJHSE&marketplace=FLIPKART&q=sneakers&store=osp&srno=s_2_41&otracker=search&otracker1=search&fm=Search&iid=en_rrIGwaNEvUEHwVOKFAkUyg%2Bg9idpvjIPh9o54Go8BTCYpMeCW45zczpuwaV9y4DCHp%2FfnLlABCkR7d8sszhOZA%3D%3D&ppt=sp&ppn=sp&ssid=xomibv08k00000001667588005573&qH=a1743c0d39461290',\n",
       " 'https://www.flipkart.com/rindas-perfect-stylish-casual-shoes-girls-women-s-casuals-sneakers-women/p/itm0274d0a9ae60e?pid=SHOFZGQB3Y8CU3JZ&lid=LSTSHOFZGQB3Y8CU3JZGYS5OQ&marketplace=FLIPKART&q=sneakers&store=osp&srno=s_2_43&otracker=search&otracker1=search&fm=Search&iid=b482474a-86f3-4a97-bffb-c434432409ca.SHOFZGQB3Y8CU3JZ.SEARCH&ppt=sp&ppn=sp&ssid=xomibv08k00000001667588005573&qH=a1743c0d39461290',\n",
       " 'https://www.flipkart.com/aadi-mesh-ultralightweight-comfortable-breathable-walking-outdoor-daily-use-sneakers-men/p/itma442bf9226209?pid=SHOGDZZEMFJN8GUB&lid=LSTSHOGDZZEMFJN8GUBOEIC66&marketplace=FLIPKART&q=sneakers&store=osp&srno=s_2_44&otracker=search&otracker1=search&fm=Search&iid=b482474a-86f3-4a97-bffb-c434432409ca.SHOGDZZEMFJN8GUB.SEARCH&ppt=sp&ppn=sp&ssid=xomibv08k00000001667588005573&qH=a1743c0d39461290',\n",
       " 'https://www.flipkart.com/ducati-sneakers-men/p/itmc2fdecbb24472?pid=SHOGBMM2CMNYHHGT&lid=LSTSHOGBMM2CMNYHHGTDE2VEX&marketplace=FLIPKART&q=sneakers&store=osp&srno=s_2_45&otracker=search&otracker1=search&fm=Search&iid=b482474a-86f3-4a97-bffb-c434432409ca.SHOGBMM2CMNYHHGT.SEARCH&ppt=sp&ppn=sp&ssid=xomibv08k00000001667588005573&qH=a1743c0d39461290',\n",
       " 'https://www.flipkart.com/bruton-modern-trendy-sneakers-shoes-men/p/itme173631234332?pid=SHOGEDRUJEEGEXKS&lid=LSTSHOGEDRUJEEGEXKS5UPOWW&marketplace=FLIPKART&q=sneakers&store=osp&srno=s_2_46&otracker=search&otracker1=search&fm=Search&iid=b482474a-86f3-4a97-bffb-c434432409ca.SHOGEDRUJEEGEXKS.SEARCH&ppt=sp&ppn=sp&ssid=xomibv08k00000001667588005573&qH=a1743c0d39461290',\n",
       " 'https://www.flipkart.com/eeken-sneakers-men/p/itm74cc932ba280d?pid=SHOFZFDKY6AFR4GJ&lid=LSTSHOFZFDKY6AFR4GJAFVTED&marketplace=FLIPKART&q=sneakers&store=osp&srno=s_2_47&otracker=search&otracker1=search&fm=Search&iid=en_rrIGwaNEvUEHwVOKFAkUyg%2Bg9idpvjIPh9o54Go8BTD%2Fun8fAvlOhEwZUzn45Ejq1vd5SHVFJgUoNJLCMqCAKQ%3D%3D&ppt=sp&ppn=sp&ssid=xomibv08k00000001667588005573&qH=a1743c0d39461290',\n",
       " 'https://www.flipkart.com/layasa-sneakers-women/p/itmb1526f2eea72d?pid=SHOGGHEG9GFKTWRW&lid=LSTSHOGGHEG9GFKTWRWS5OKEJ&marketplace=FLIPKART&q=sneakers&store=osp&srno=s_2_48&otracker=search&otracker1=search&fm=Search&iid=en_rrIGwaNEvUEHwVOKFAkUyg%2Bg9idpvjIPh9o54Go8BTC0uJnD2Vjbgam1LK%2BZd24PUKOY3vgXrRr6%2F3SIoem6kw%3D%3D&ppt=sp&ppn=sp&ssid=xomibv08k00000001667588005573&qH=a1743c0d39461290',\n",
       " 'https://www.flipkart.com/asics-fuzor-b-sneakers-men/p/itm9856fc8598be6?pid=SHOG3CDCHK7DYHB4&lid=LSTSHOG3CDCHK7DYHB4FR8UZG&marketplace=FLIPKART&q=sneakers&store=osp&srno=s_2_49&otracker=search&otracker1=search&fm=Search&iid=b482474a-86f3-4a97-bffb-c434432409ca.SHOG3CDCHK7DYHB4.SEARCH&ppt=sp&ppn=sp&ssid=xomibv08k00000001667588005573&qH=a1743c0d39461290',\n",
       " 'https://www.flipkart.com/magnolia-sneakers-men/p/itmb42a681797f2d?pid=SHOGYAAFUZKMR64D&lid=LSTSHOGYAAFUZKMR64DI8THYW&marketplace=FLIPKART&q=sneakers&store=osp&srno=s_2_50&otracker=search&otracker1=search&fm=Search&iid=b482474a-86f3-4a97-bffb-c434432409ca.SHOGYAAFUZKMR64D.SEARCH&ppt=sp&ppn=sp&ssid=xomibv08k00000001667588005573&qH=a1743c0d39461290',\n",
       " 'https://www.flipkart.com/skechers-neo-casual-creswell-sneakers-men/p/itmc13e3eb8fe4e6?pid=SHOGGHSYAJBBUHVM&lid=LSTSHOGGHSYAJBBUHVMBKM0FE&marketplace=FLIPKART&q=sneakers&store=osp&srno=s_2_51&otracker=search&otracker1=search&fm=Search&iid=en_rrIGwaNEvUEHwVOKFAkUyg%2Bg9idpvjIPh9o54Go8BTCirWqlYGt4uli78%2B0ZJxQaimj59FX88%2Bk6A06%2FBWr0BQ%3D%3D&ppt=sp&ppn=sp&ssid=xomibv08k00000001667588005573&qH=a1743c0d39461290',\n",
       " 'https://www.flipkart.com/layasa-casual-sneakers-white-shoes-girls-women/p/itm04098ecd0de13?pid=SHOGHMJ4GRAYZSVQ&lid=LSTSHOGHMJ4GRAYZSVQHHTD2B&marketplace=FLIPKART&q=sneakers&store=osp&srno=s_2_52&otracker=search&otracker1=search&fm=Search&iid=en_rrIGwaNEvUEHwVOKFAkUyg%2Bg9idpvjIPh9o54Go8BTB1FdYv%2FIs4AmEhDiMHC7IOr6RtuWTG4V4A%2FKbU40VCyg%3D%3D&ppt=sp&ppn=sp&ssid=xomibv08k00000001667588005573&qH=a1743c0d39461290',\n",
       " 'https://www.flipkart.com/puma-acrux-sneakers-men/p/itmfhusvk5zadcuz?pid=SHOFHUR6CPSQVXZH&lid=LSTSHOFHUR6CPSQVXZHRLFSAS&marketplace=FLIPKART&q=sneakers&store=osp&srno=s_2_53&otracker=search&otracker1=search&fm=Search&iid=b482474a-86f3-4a97-bffb-c434432409ca.SHOFHUR6CPSQVXZH.SEARCH&ppt=sp&ppn=sp&ssid=xomibv08k00000001667588005573&qH=a1743c0d39461290',\n",
       " 'https://www.flipkart.com/kzaara-sneakers-men/p/itm540d765c42d7d?pid=SHOG8YYWH4M2BRNR&lid=LSTSHOG8YYWH4M2BRNRGYQ959&marketplace=FLIPKART&q=sneakers&store=osp&srno=s_2_54&otracker=search&otracker1=search&fm=Search&iid=b482474a-86f3-4a97-bffb-c434432409ca.SHOG8YYWH4M2BRNR.SEARCH&ppt=sp&ppn=sp&ssid=xomibv08k00000001667588005573&qH=a1743c0d39461290',\n",
       " 'https://www.flipkart.com/birde-premium-casual-shoes-men-sneakers/p/itm0ed98df82629e?pid=SHOGBHEVBY5NDTXM&lid=LSTSHOGBHEVBY5NDTXMW5NJRB&marketplace=FLIPKART&q=sneakers&store=osp&srno=s_2_55&otracker=search&otracker1=search&fm=Search&iid=b482474a-86f3-4a97-bffb-c434432409ca.SHOGBHEVBY5NDTXM.SEARCH&ppt=sp&ppn=sp&ssid=xomibv08k00000001667588005573&qH=a1743c0d39461290',\n",
       " 'https://www.flipkart.com/amico-sneakers-men/p/itm7a78923de9876?pid=SHOG5Y6YSGFNYZFF&lid=LSTSHOG5Y6YSGFNYZFFOW5J7X&marketplace=FLIPKART&q=sneakers&store=osp&srno=s_2_56&otracker=search&otracker1=search&fm=Search&iid=b482474a-86f3-4a97-bffb-c434432409ca.SHOG5Y6YSGFNYZFF.SEARCH&ppt=sp&ppn=sp&ssid=xomibv08k00000001667588005573&qH=a1743c0d39461290',\n",
       " 'https://www.flipkart.com/cresswell-black-multicolor-lifestyle-casual-sports-training-sneakers-men/p/itm3944d341c3415?pid=SHOGE6BYDSYNS4GZ&lid=LSTSHOGE6BYDSYNS4GZN7EYTR&marketplace=FLIPKART&q=sneakers&store=osp&srno=s_2_57&otracker=search&otracker1=search&fm=Search&iid=en_rrIGwaNEvUEHwVOKFAkUyg%2Bg9idpvjIPh9o54Go8BTApA5JgHEH9wGLAHzuw%2FkDmc1ZEIS8HKPIl%2FdwzHYd7KQ%3D%3D&ppt=sp&ppn=sp&ssid=xomibv08k00000001667588005573&qH=a1743c0d39461290',\n",
       " 'https://www.flipkart.com/skechers-go-walk-5-warwick-sneakers-men/p/itm6adad6c351fe5?pid=SHOGFHWZAYGSSAGP&lid=LSTSHOGFHWZAYGSSAGPGPI9XS&marketplace=FLIPKART&q=sneakers&store=osp&srno=s_2_58&otracker=search&otracker1=search&fm=Search&iid=en_rrIGwaNEvUEHwVOKFAkUyg%2Bg9idpvjIPh9o54Go8BTDyv2iK1%2FAOcjXpAbUzPyDyPLeD3QM3lz2NzLgMAWXQMA%3D%3D&ppt=sp&ppn=sp&ssid=xomibv08k00000001667588005573&qH=a1743c0d39461290',\n",
       " 'https://www.flipkart.com/asteroid-original-luxury-branded-fashionable-men-s-casual-walking-partywear-sneakers-running-white-black-shoes-men-white-black/p/itm65cb76d7ae24b?pid=SHOG2ZXGNXRC2GNW&lid=LSTSHOG2ZXGNXRC2GNWGOGPL1&marketplace=FLIPKART&q=sneakers&store=osp&srno=s_2_59&otracker=search&otracker1=search&fm=Search&iid=b482474a-86f3-4a97-bffb-c434432409ca.SHOG2ZXGNXRC2GNW.SEARCH&ppt=sp&ppn=sp&ssid=xomibv08k00000001667588005573&qH=a1743c0d39461290',\n",
       " 'https://www.flipkart.com/robbie-jones-sneakers-men/p/itme831dc6090a19?pid=SHOG5FA5JGDKDR9Q&lid=LSTSHOG5FA5JGDKDR9QB0X6C9&marketplace=FLIPKART&q=sneakers&store=osp&srno=s_2_60&otracker=search&otracker1=search&fm=Search&iid=b482474a-86f3-4a97-bffb-c434432409ca.SHOG5FA5JGDKDR9Q.SEARCH&ppt=sp&ppn=sp&ssid=xomibv08k00000001667588005573&qH=a1743c0d39461290',\n",
       " 'https://www.flipkart.com/eeken-monday-house-paragon-sneakers-men/p/itm6afa4ae75cd46?pid=SHOFWYZCAEM4ZFFX&lid=LSTSHOFWYZCAEM4ZFFX3MMCQ0&marketplace=FLIPKART&q=sneakers&store=osp&srno=s_2_61&otracker=search&otracker1=search&fm=Search&iid=en_rrIGwaNEvUEHwVOKFAkUyg%2Bg9idpvjIPh9o54Go8BTDItDcJUmm8XzdIQuzsLtwbfUTNI1ouoXRyVlixf2N4vA%3D%3D&ppt=sp&ppn=sp&ssid=xomibv08k00000001667588005573&qH=a1743c0d39461290',\n",
       " 'https://www.flipkart.com/eeken-martes-house-paragon-sneakers-men/p/itmca2819305cfc8?pid=SHOFWYZBCV4NQ9GZ&lid=LSTSHOFWYZBCV4NQ9GZJ5N93H&marketplace=FLIPKART&q=sneakers&store=osp&srno=s_2_62&otracker=search&otracker1=search&fm=Search&iid=en_rrIGwaNEvUEHwVOKFAkUyg%2Bg9idpvjIPh9o54Go8BTCz2qxpPntuJAKUkNtmLO2V%2FGC%2BfnZgrrIsZyeODliXkA%3D%3D&ppt=sp&ppn=sp&ssid=xomibv08k00000001667588005573&qH=a1743c0d39461290',\n",
       " 'https://www.flipkart.com/buxberry-outdoor-trendy-lightweight-casual-canvas-stylish-partywear-sneakers-shoes-boys-men/p/itm3d362cbfd4a41?pid=SHOGG2PCUGEMZBMC&lid=LSTSHOGG2PCUGEMZBMCIV3OBH&marketplace=FLIPKART&q=sneakers&store=osp&srno=s_2_63&otracker=search&otracker1=search&fm=Search&iid=b482474a-86f3-4a97-bffb-c434432409ca.SHOGG2PCUGEMZBMC.SEARCH&ppt=sp&ppn=sp&ssid=xomibv08k00000001667588005573&qH=a1743c0d39461290',\n",
       " 'https://www.flipkart.com/lnt-fashion-sneakers-men/p/itm6195f2c4cc3e2?pid=SHOFWXZ3GWHQKMW7&lid=LSTSHOFWXZ3GWHQKMW7SUZFRY&marketplace=FLIPKART&q=sneakers&store=osp&srno=s_2_64&otracker=search&otracker1=search&fm=Search&iid=b482474a-86f3-4a97-bffb-c434432409ca.SHOFWXZ3GWHQKMW7.SEARCH&ppt=sp&ppn=sp&ssid=xomibv08k00000001667588005573&qH=a1743c0d39461290',\n",
       " 'https://www.flipkart.com/aadi-sneakers-men/p/itmca7cc562deb1a?pid=SHOGAYVWDJQPBZAS&lid=LSTSHOGAYVWDJQPBZASU5KEWS&marketplace=FLIPKART&q=sneakers&store=osp&srno=s_2_65&otracker=search&otracker1=search&fm=Search&iid=b482474a-86f3-4a97-bffb-c434432409ca.SHOGAYVWDJQPBZAS.SEARCH&ppt=sp&ppn=sp&ssid=xomibv08k00000001667588005573&qH=a1743c0d39461290',\n",
       " 'https://www.flipkart.com/kardam-sons-fashionable-canvas-casual-partywear-outdoor-sneakers-white-shoes-men/p/itmbc0d599fa52be?pid=SHOGJYGTMWUSMWHH&lid=LSTSHOGJYGTMWUSMWHHLPKUKL&marketplace=FLIPKART&q=sneakers&store=osp&srno=s_2_66&otracker=search&otracker1=search&fm=Search&iid=b482474a-86f3-4a97-bffb-c434432409ca.SHOGJYGTMWUSMWHH.SEARCH&ppt=sp&ppn=sp&ssid=xomibv08k00000001667588005573&qH=a1743c0d39461290',\n",
       " 'https://www.flipkart.com/eeken-lightweight-shoes-sneakers-men/p/itm525aea8c7fb7f?pid=SHOG7XTFVEUJYPDW&lid=LSTSHOG7XTFVEUJYPDWFV6HZT&marketplace=FLIPKART&q=sneakers&store=osp&srno=s_2_67&otracker=search&otracker1=search&fm=Search&iid=en_rrIGwaNEvUEHwVOKFAkUyg%2Bg9idpvjIPh9o54Go8BTDC7lrh2hVofUTbZcYzHEgvs5Jsl6HU2UfH5tJKXa4ZCA%3D%3D&ppt=sp&ppn=sp&ssid=xomibv08k00000001667588005573&qH=a1743c0d39461290',\n",
       " 'https://www.flipkart.com/asian-jasper-02-navy-casuals-walking-training-running-stylish-sneakers-men/p/itm02248b5874f92?pid=SHOGJ44WGSBECGFH&lid=LSTSHOGJ44WGSBECGFHCQG2YI&marketplace=FLIPKART&q=sneakers&store=osp&srno=s_2_68&otracker=search&otracker1=search&fm=Search&iid=en_rrIGwaNEvUEHwVOKFAkUyg%2Bg9idpvjIPh9o54Go8BTACEeo8yZ7rGc6xIT66bgTLEaxCJJWyQbfjhSF9WT0jkw%3D%3D&ppt=sp&ppn=sp&ssid=xomibv08k00000001667588005573&qH=a1743c0d39461290',\n",
       " 'https://www.flipkart.com/shozie-stylish-sneakers-shoes-men/p/itm8d6c6c70e2967?pid=SHOGHRX4ZJQZYSY5&lid=LSTSHOGHRX4ZJQZYSY54ZTGJ4&marketplace=FLIPKART&q=sneakers&store=osp&srno=s_2_69&otracker=search&otracker1=search&fm=Search&iid=b482474a-86f3-4a97-bffb-c434432409ca.SHOGHRX4ZJQZYSY5.SEARCH&ppt=sp&ppn=sp&ssid=xomibv08k00000001667588005573&qH=a1743c0d39461290',\n",
       " 'https://www.flipkart.com/rapidbox-sneakers-men/p/itm3e9655a4a9be5?pid=SHOG9MZF4CJJH3HE&lid=LSTSHOG9MZF4CJJH3HEIJOMMW&marketplace=FLIPKART&q=sneakers&store=osp&srno=s_2_70&otracker=search&otracker1=search&fm=Search&iid=b482474a-86f3-4a97-bffb-c434432409ca.SHOG9MZF4CJJH3HE.SEARCH&ppt=sp&ppn=sp&ssid=xomibv08k00000001667588005573&qH=a1743c0d39461290',\n",
       " 'https://www.flipkart.com/furo-sneakers-men/p/itm15b9f61a40678?pid=SHOGGBWJQRB96YNR&lid=LSTSHOGGBWJQRB96YNRLKDSFL&marketplace=FLIPKART&q=sneakers&store=osp&srno=s_2_71&otracker=search&otracker1=search&fm=Search&iid=en_rrIGwaNEvUEHwVOKFAkUyg%2Bg9idpvjIPh9o54Go8BTC9T35%2BJzf7%2FKor0zu6KNmBR04Cz0P204sRDfovaESSdg%3D%3D&ppt=sp&ppn=sp&ssid=xomibv08k00000001667588005573&qH=a1743c0d39461290',\n",
       " 'https://www.flipkart.com/puma-pint-sneakers-men/p/itm80c7fa2fba7f6?pid=SHOGAK4CTFHKJK7P&lid=LSTSHOGAK4CTFHKJK7PJWNOJI&marketplace=FLIPKART&q=sneakers&store=osp&srno=s_2_72&otracker=search&otracker1=search&fm=Search&iid=en_rrIGwaNEvUEHwVOKFAkUyg%2Bg9idpvjIPh9o54Go8BTCrTo3bS3yvi%2FhW8L9G9Fa%2BMaZiy5oO9rP5Ec1Y%2FapZFA%3D%3D&ppt=sp&ppn=sp&ssid=xomibv08k00000001667588005573&qH=a1743c0d39461290',\n",
       " 'https://www.flipkart.com/numenzo-white-sneaker-men-sneakers/p/itm3ffb692d4132c?pid=SHOG4K76QZAYNNZP&lid=LSTSHOG4K76QZAYNNZPRWHVET&marketplace=FLIPKART&q=sneakers&store=osp&srno=s_2_73&otracker=search&otracker1=search&fm=Search&iid=b482474a-86f3-4a97-bffb-c434432409ca.SHOG4K76QZAYNNZP.SEARCH&ppt=sp&ppn=sp&ssid=xomibv08k00000001667588005573&qH=a1743c0d39461290',\n",
       " 'https://www.flipkart.com/bruton-lattest-sneakers-shoe-men/p/itm42e4e64429e8b?pid=SHOG293HTPDYNKHB&lid=LSTSHOG293HTPDYNKHBHNNWZD&marketplace=FLIPKART&q=sneakers&store=osp&srno=s_2_74&otracker=search&otracker1=search&fm=Search&iid=b482474a-86f3-4a97-bffb-c434432409ca.SHOG293HTPDYNKHB.SEARCH&ppt=sp&ppn=sp&ssid=xomibv08k00000001667588005573&qH=a1743c0d39461290',\n",
       " 'https://www.flipkart.com/deals4you-sneakers-men/p/itmc3b74768ead4d?pid=SHOGHRUUSS8XKVFE&lid=LSTSHOGHRUUSS8XKVFEVYVIJI&marketplace=FLIPKART&q=sneakers&store=osp&srno=s_2_75&otracker=search&otracker1=search&fm=Search&iid=b482474a-86f3-4a97-bffb-c434432409ca.SHOGHRUUSS8XKVFE.SEARCH&ppt=sp&ppn=sp&ssid=xomibv08k00000001667588005573&qH=a1743c0d39461290',\n",
       " 'https://www.flipkart.com/ducati-sneakers-men/p/itm1ceea84595fff?pid=SHOGARPKEHSXMKVP&lid=LSTSHOGARPKEHSXMKVPYKDXSK&marketplace=FLIPKART&q=sneakers&store=osp&srno=s_2_76&otracker=search&otracker1=search&fm=Search&iid=b482474a-86f3-4a97-bffb-c434432409ca.SHOGARPKEHSXMKVP.SEARCH&ppt=sp&ppn=sp&ssid=xomibv08k00000001667588005573&qH=a1743c0d39461290',\n",
       " 'https://www.flipkart.com/k-footlance-fashion-stylish-soft-ultralight-lace-up-sneakers-causal-shoes-men/p/itm52b68a1f08855?pid=SHOFYYA5QZCSTRMG&lid=LSTSHOFYYA5QZCSTRMGHXSW70&marketplace=FLIPKART&q=sneakers&store=osp&srno=s_2_77&otracker=search&otracker1=search&fm=Search&iid=en_rrIGwaNEvUEHwVOKFAkUyg%2Bg9idpvjIPh9o54Go8BTADEqHooEQKlyIEKphbOpu%2FZNcyNG2YojHps%2Fm7wqY7Yg%3D%3D&ppt=sp&ppn=sp&ssid=xomibv08k00000001667588005573&qH=a1743c0d39461290',\n",
       " 'https://www.flipkart.com/furo-sneakers-men/p/itm6f5c9d7de58df?pid=SHOGGBWJASJGEFW8&lid=LSTSHOGGBWJASJGEFW8IGIX0D&marketplace=FLIPKART&q=sneakers&store=osp&srno=s_2_78&otracker=search&otracker1=search&fm=Search&iid=en_rrIGwaNEvUEHwVOKFAkUyg%2Bg9idpvjIPh9o54Go8BTAriOXJsqSefLOZ89AlepfyraM2MPxwTmLghGydzvTG8Q%3D%3D&ppt=sp&ppn=sp&ssid=xomibv08k00000001667588005573&qH=a1743c0d39461290',\n",
       " 'https://www.flipkart.com/world-wear-footwear-5011-latest-collection-stylish-trendy-casual-sneakers-shoes-men/p/itm01930e5430e12?pid=SHOFMY6N68KNNSFW&lid=LSTSHOFMY6N68KNNSFWLRS72C&marketplace=FLIPKART&q=sneakers&store=osp&srno=s_2_79&otracker=search&otracker1=search&fm=Search&iid=b482474a-86f3-4a97-bffb-c434432409ca.SHOFMY6N68KNNSFW.SEARCH&ppt=sp&ppn=sp&ssid=xomibv08k00000001667588005573&qH=a1743c0d39461290',\n",
       " 'https://www.flipkart.com/rapidbox-men-shoes-sneakers/p/itm468d674aa76eb?pid=SHOG7CHPEXGUD43T&lid=LSTSHOG7CHPEXGUD43TJPJJZH&marketplace=FLIPKART&q=sneakers&store=osp&srno=s_2_80&otracker=search&otracker1=search&fm=Search&iid=b482474a-86f3-4a97-bffb-c434432409ca.SHOG7CHPEXGUD43T.SEARCH&ppt=sp&ppn=sp&ssid=xomibv08k00000001667588005573&qH=a1743c0d39461290']"
      ]
     },
     "execution_count": 99,
     "metadata": {},
     "output_type": "execute_result"
    }
   ],
   "source": [
    "URL"
   ]
  },
  {
   "cell_type": "code",
   "execution_count": 100,
   "metadata": {},
   "outputs": [],
   "source": [
    "list_of_url=URL[0:100]"
   ]
  },
  {
   "cell_type": "code",
   "execution_count": 101,
   "metadata": {},
   "outputs": [
    {
     "name": "stderr",
     "output_type": "stream",
     "text": [
      "100%|████████████████████████████████████████████████████████████████████████████████| 100/100 [16:49<00:00, 10.09s/it]\n"
     ]
    }
   ],
   "source": [
    "#running a loop to extract all the required information from the list_of_url\n",
    "from tqdm import tqdm\n",
    "for i in tqdm(list_of_url):\n",
    "    driver.get(i)\n",
    "    try:\n",
    "        brand=driver.find_element(By.XPATH,\"//span[@class='G6XhRU']\").text\n",
    "        Brand.append(brand)\n",
    "        description=driver.find_element(By.XPATH,\"//span[@class='B_NuCI']\").text\n",
    "        Product_Description.append(description)\n",
    "        price=driver.find_element(By.XPATH,\"//div[@class='_30jeq3 _16Jk6d']\").text\n",
    "        Price.append(price)\n",
    "        discount=driver.find_element(By.XPATH,\"//div[@class='_3Ay6Sb _31Dcoz pZkvcx']/span\").text\n",
    "        Discount.append(discount)\n",
    "    except NoSuchElementException:\n",
    "        Brand.append(\"Null\")\n",
    "        Product_Description.append(\"Null\")\n",
    "        Price.append(\"Null\")\n",
    "        Discount.append('Null')\n",
    "    time.sleep(3)"
   ]
  },
  {
   "cell_type": "code",
   "execution_count": 102,
   "metadata": {},
   "outputs": [
    {
     "name": "stdout",
     "output_type": "stream",
     "text": [
      "103 103 103 100\n"
     ]
    }
   ],
   "source": [
    "print(len(Brand),len(Product_Description),len(Price),len(Discount))"
   ]
  },
  {
   "cell_type": "code",
   "execution_count": 103,
   "metadata": {},
   "outputs": [
    {
     "data": {
      "text/html": [
       "<div>\n",
       "<style scoped>\n",
       "    .dataframe tbody tr th:only-of-type {\n",
       "        vertical-align: middle;\n",
       "    }\n",
       "\n",
       "    .dataframe tbody tr th {\n",
       "        vertical-align: top;\n",
       "    }\n",
       "\n",
       "    .dataframe thead th {\n",
       "        text-align: right;\n",
       "    }\n",
       "</style>\n",
       "<table border=\"1\" class=\"dataframe\">\n",
       "  <thead>\n",
       "    <tr style=\"text-align: right;\">\n",
       "      <th></th>\n",
       "      <th>Brand</th>\n",
       "      <th>Product_Description</th>\n",
       "      <th>Price</th>\n",
       "      <th>Discount</th>\n",
       "    </tr>\n",
       "  </thead>\n",
       "  <tbody>\n",
       "    <tr>\n",
       "      <th>0</th>\n",
       "      <td>WARMFEET</td>\n",
       "      <td>Fancy Sneakers For Men  (Green)</td>\n",
       "      <td>₹616</td>\n",
       "      <td>52% off</td>\n",
       "    </tr>\n",
       "    <tr>\n",
       "      <th>1</th>\n",
       "      <td>WARMFEET</td>\n",
       "      <td>Fancy Sneakers For Men  (Black)</td>\n",
       "      <td>₹616</td>\n",
       "      <td>43% off</td>\n",
       "    </tr>\n",
       "    <tr>\n",
       "      <th>2</th>\n",
       "      <td>RED TAPE</td>\n",
       "      <td>Sneakers For Men  (White)</td>\n",
       "      <td>₹1,249</td>\n",
       "      <td>75% off</td>\n",
       "    </tr>\n",
       "    <tr>\n",
       "      <th>3</th>\n",
       "      <td>RED TAPE</td>\n",
       "      <td>Sneakers For Men  (Black)</td>\n",
       "      <td>₹1,349</td>\n",
       "      <td>75% off</td>\n",
       "    </tr>\n",
       "    <tr>\n",
       "      <th>4</th>\n",
       "      <td>Labbin</td>\n",
       "      <td>Sneakers For Men  (White)</td>\n",
       "      <td>₹395</td>\n",
       "      <td>60% off</td>\n",
       "    </tr>\n",
       "    <tr>\n",
       "      <th>...</th>\n",
       "      <td>...</td>\n",
       "      <td>...</td>\n",
       "      <td>...</td>\n",
       "      <td>...</td>\n",
       "    </tr>\n",
       "    <tr>\n",
       "      <th>95</th>\n",
       "      <td>Cresswell</td>\n",
       "      <td>Black-Multicolor Lifestyle Casual Sports/Train...</td>\n",
       "      <td>₹939</td>\n",
       "      <td>40% off</td>\n",
       "    </tr>\n",
       "    <tr>\n",
       "      <th>96</th>\n",
       "      <td>Skechers</td>\n",
       "      <td>GO WALK 5 - WARWICK Sneakers For Men  (Grey)</td>\n",
       "      <td>₹4,199</td>\n",
       "      <td>63% off</td>\n",
       "    </tr>\n",
       "    <tr>\n",
       "      <th>97</th>\n",
       "      <td>RapidBox</td>\n",
       "      <td>Sneakers For Men  (White)</td>\n",
       "      <td>₹599</td>\n",
       "      <td>70% off</td>\n",
       "    </tr>\n",
       "    <tr>\n",
       "      <th>98</th>\n",
       "      <td>SCATCHITE</td>\n",
       "      <td>Sneakers Sneakers For Men  (White)</td>\n",
       "      <td>₹360</td>\n",
       "      <td>77% off</td>\n",
       "    </tr>\n",
       "    <tr>\n",
       "      <th>99</th>\n",
       "      <td>BRUTON</td>\n",
       "      <td>Canvas shoes for Men Sneakers For Men  (Orange...</td>\n",
       "      <td>₹389</td>\n",
       "      <td>Null</td>\n",
       "    </tr>\n",
       "  </tbody>\n",
       "</table>\n",
       "<p>100 rows × 4 columns</p>\n",
       "</div>"
      ],
      "text/plain": [
       "         Brand                                Product_Description   Price  \\\n",
       "0    WARMFEET                     Fancy Sneakers For Men  (Green)    ₹616   \n",
       "1    WARMFEET                     Fancy Sneakers For Men  (Black)    ₹616   \n",
       "2    RED TAPE                           Sneakers For Men  (White)  ₹1,249   \n",
       "3    RED TAPE                           Sneakers For Men  (Black)  ₹1,349   \n",
       "4      Labbin                           Sneakers For Men  (White)    ₹395   \n",
       "..         ...                                                ...     ...   \n",
       "95  Cresswell   Black-Multicolor Lifestyle Casual Sports/Train...    ₹939   \n",
       "96   Skechers        GO WALK 5 - WARWICK Sneakers For Men  (Grey)  ₹4,199   \n",
       "97   RapidBox                           Sneakers For Men  (White)    ₹599   \n",
       "98  SCATCHITE                  Sneakers Sneakers For Men  (White)    ₹360   \n",
       "99     BRUTON   Canvas shoes for Men Sneakers For Men  (Orange...    ₹389   \n",
       "\n",
       "   Discount  \n",
       "0   52% off  \n",
       "1   43% off  \n",
       "2   75% off  \n",
       "3   75% off  \n",
       "4   60% off  \n",
       "..      ...  \n",
       "95  40% off  \n",
       "96  63% off  \n",
       "97  70% off  \n",
       "98  77% off  \n",
       "99     Null  \n",
       "\n",
       "[100 rows x 4 columns]"
      ]
     },
     "execution_count": 103,
     "metadata": {},
     "output_type": "execute_result"
    }
   ],
   "source": [
    "Sneakers=pd.DataFrame({})\n",
    "Sneakers['Brand']=Brand[:100]\n",
    "Sneakers['Product_Description']=Product_Description[:100]\n",
    "Sneakers['Price']=Price[:100]\n",
    "Sneakers['Discount']=Discount[:100]\n",
    "Sneakers"
   ]
  },
  {
   "cell_type": "markdown",
   "metadata": {},
   "source": [
    "# 7. Go to the link - https://www.myntra.com/shoes Set second Price filter and Color filter to “Black”, as shown inthe below image. And then scrape First 100 shoes data you get. The data should include “Brand” of the shoes, Short Shoe description, price of the shoe as shown in the below image.\n",
    "\n",
    "Note: Applying the filter and scraping the data , everything should be done through code only and there should not be any manual step."
   ]
  },
  {
   "cell_type": "code",
   "execution_count": 36,
   "metadata": {},
   "outputs": [
    {
     "data": {
      "text/plain": [
       "<selenium.webdriver.chrome.webdriver.WebDriver (session=\"12374f5ff8f9dcb23c1aa90f004c7014\")>"
      ]
     },
     "execution_count": 36,
     "metadata": {},
     "output_type": "execute_result"
    }
   ],
   "source": [
    "# Let's first connect to web driver.\n",
    "driver=webdriver.Chrome(r\"H:\\Data_Science\\chromedriver.exe\")\n",
    "driver"
   ]
  },
  {
   "cell_type": "code",
   "execution_count": 37,
   "metadata": {},
   "outputs": [],
   "source": [
    "# Opening myntra.com\n",
    "url ='https://www.myntra.com/shoes'\n",
    "driver.get(url)"
   ]
  },
  {
   "cell_type": "markdown",
   "metadata": {},
   "source": [
    "#### Selecting Price filter and color"
   ]
  },
  {
   "cell_type": "code",
   "execution_count": 38,
   "metadata": {},
   "outputs": [
    {
     "ename": "NoSuchElementException",
     "evalue": "Message: no such element: Unable to locate element: {\"method\":\"xpath\",\"selector\":\"//*[@id=\"mountRoot\"]/div/div[1]/main/div[3]/div[1]/section/div/div[5]/ul/li[2]/label\"}\n  (Session info: chrome=107.0.5304.88)\nStacktrace:\nBacktrace:\n\tOrdinal0 [0x00C1ACD3+2075859]\n\tOrdinal0 [0x00BAEE61+1633889]\n\tOrdinal0 [0x00AAB7BD+571325]\n\tOrdinal0 [0x00ADAC2F+764975]\n\tOrdinal0 [0x00ADAE1B+765467]\n\tOrdinal0 [0x00B0D0F2+970994]\n\tOrdinal0 [0x00AF7364+881508]\n\tOrdinal0 [0x00B0B56A+963946]\n\tOrdinal0 [0x00AF7136+880950]\n\tOrdinal0 [0x00ACFEFD+720637]\n\tOrdinal0 [0x00AD0F3F+724799]\n\tGetHandleVerifier [0x00ECEED2+2769538]\n\tGetHandleVerifier [0x00EC0D95+2711877]\n\tGetHandleVerifier [0x00CAA03A+521194]\n\tGetHandleVerifier [0x00CA8DA0+516432]\n\tOrdinal0 [0x00BB682C+1665068]\n\tOrdinal0 [0x00BBB128+1683752]\n\tOrdinal0 [0x00BBB215+1683989]\n\tOrdinal0 [0x00BC6484+1729668]\n\tBaseThreadInitThunk [0x751DFA29+25]\n\tRtlGetAppContainerNamedObjectPath [0x771C7A9E+286]\n\tRtlGetAppContainerNamedObjectPath [0x771C7A6E+238]\n",
     "output_type": "error",
     "traceback": [
      "\u001b[1;31m---------------------------------------------------------------------------\u001b[0m",
      "\u001b[1;31mNoSuchElementException\u001b[0m                    Traceback (most recent call last)",
      "Input \u001b[1;32mIn [38]\u001b[0m, in \u001b[0;36m<cell line: 1>\u001b[1;34m()\u001b[0m\n\u001b[1;32m----> 1\u001b[0m \u001b[43mdriver\u001b[49m\u001b[38;5;241;43m.\u001b[39;49m\u001b[43mfind_element\u001b[49m\u001b[43m(\u001b[49m\u001b[43mBy\u001b[49m\u001b[38;5;241;43m.\u001b[39;49m\u001b[43mXPATH\u001b[49m\u001b[43m,\u001b[49m\u001b[38;5;124;43m'\u001b[39;49m\u001b[38;5;124;43m//*[@id=\u001b[39;49m\u001b[38;5;124;43m\"\u001b[39;49m\u001b[38;5;124;43mmountRoot\u001b[39;49m\u001b[38;5;124;43m\"\u001b[39;49m\u001b[38;5;124;43m]/div/div[1]/main/div[3]/div[1]/section/div/div[5]/ul/li[2]/label\u001b[39;49m\u001b[38;5;124;43m'\u001b[39;49m\u001b[43m)\u001b[49m\u001b[38;5;241m.\u001b[39mclick()\n\u001b[0;32m      2\u001b[0m driver\u001b[38;5;241m.\u001b[39mfind_element(By\u001b[38;5;241m.\u001b[39mXPATH,\u001b[38;5;124m'\u001b[39m\u001b[38;5;124m//*[@id=\u001b[39m\u001b[38;5;124m\"\u001b[39m\u001b[38;5;124mmountRoot\u001b[39m\u001b[38;5;124m\"\u001b[39m\u001b[38;5;124m]/div/div[1]/main/div[3]/div[1]/section/div/div[6]/ul/li[1]/label\u001b[39m\u001b[38;5;124m'\u001b[39m)\u001b[38;5;241m.\u001b[39mclick()\n",
      "File \u001b[1;32m~\\anaconda3\\lib\\site-packages\\selenium\\webdriver\\remote\\webdriver.py:856\u001b[0m, in \u001b[0;36mWebDriver.find_element\u001b[1;34m(self, by, value)\u001b[0m\n\u001b[0;32m    853\u001b[0m     by \u001b[38;5;241m=\u001b[39m By\u001b[38;5;241m.\u001b[39mCSS_SELECTOR\n\u001b[0;32m    854\u001b[0m     value \u001b[38;5;241m=\u001b[39m \u001b[38;5;124m'\u001b[39m\u001b[38;5;124m[name=\u001b[39m\u001b[38;5;124m\"\u001b[39m\u001b[38;5;132;01m%s\u001b[39;00m\u001b[38;5;124m\"\u001b[39m\u001b[38;5;124m]\u001b[39m\u001b[38;5;124m'\u001b[39m \u001b[38;5;241m%\u001b[39m value\n\u001b[1;32m--> 856\u001b[0m \u001b[38;5;28;01mreturn\u001b[39;00m \u001b[38;5;28;43mself\u001b[39;49m\u001b[38;5;241;43m.\u001b[39;49m\u001b[43mexecute\u001b[49m\u001b[43m(\u001b[49m\u001b[43mCommand\u001b[49m\u001b[38;5;241;43m.\u001b[39;49m\u001b[43mFIND_ELEMENT\u001b[49m\u001b[43m,\u001b[49m\u001b[43m \u001b[49m\u001b[43m{\u001b[49m\n\u001b[0;32m    857\u001b[0m \u001b[43m    \u001b[49m\u001b[38;5;124;43m'\u001b[39;49m\u001b[38;5;124;43musing\u001b[39;49m\u001b[38;5;124;43m'\u001b[39;49m\u001b[43m:\u001b[49m\u001b[43m \u001b[49m\u001b[43mby\u001b[49m\u001b[43m,\u001b[49m\n\u001b[0;32m    858\u001b[0m \u001b[43m    \u001b[49m\u001b[38;5;124;43m'\u001b[39;49m\u001b[38;5;124;43mvalue\u001b[39;49m\u001b[38;5;124;43m'\u001b[39;49m\u001b[43m:\u001b[49m\u001b[43m \u001b[49m\u001b[43mvalue\u001b[49m\u001b[43m}\u001b[49m\u001b[43m)\u001b[49m[\u001b[38;5;124m'\u001b[39m\u001b[38;5;124mvalue\u001b[39m\u001b[38;5;124m'\u001b[39m]\n",
      "File \u001b[1;32m~\\anaconda3\\lib\\site-packages\\selenium\\webdriver\\remote\\webdriver.py:429\u001b[0m, in \u001b[0;36mWebDriver.execute\u001b[1;34m(self, driver_command, params)\u001b[0m\n\u001b[0;32m    427\u001b[0m response \u001b[38;5;241m=\u001b[39m \u001b[38;5;28mself\u001b[39m\u001b[38;5;241m.\u001b[39mcommand_executor\u001b[38;5;241m.\u001b[39mexecute(driver_command, params)\n\u001b[0;32m    428\u001b[0m \u001b[38;5;28;01mif\u001b[39;00m response:\n\u001b[1;32m--> 429\u001b[0m     \u001b[38;5;28;43mself\u001b[39;49m\u001b[38;5;241;43m.\u001b[39;49m\u001b[43merror_handler\u001b[49m\u001b[38;5;241;43m.\u001b[39;49m\u001b[43mcheck_response\u001b[49m\u001b[43m(\u001b[49m\u001b[43mresponse\u001b[49m\u001b[43m)\u001b[49m\n\u001b[0;32m    430\u001b[0m     response[\u001b[38;5;124m'\u001b[39m\u001b[38;5;124mvalue\u001b[39m\u001b[38;5;124m'\u001b[39m] \u001b[38;5;241m=\u001b[39m \u001b[38;5;28mself\u001b[39m\u001b[38;5;241m.\u001b[39m_unwrap_value(\n\u001b[0;32m    431\u001b[0m         response\u001b[38;5;241m.\u001b[39mget(\u001b[38;5;124m'\u001b[39m\u001b[38;5;124mvalue\u001b[39m\u001b[38;5;124m'\u001b[39m, \u001b[38;5;28;01mNone\u001b[39;00m))\n\u001b[0;32m    432\u001b[0m     \u001b[38;5;28;01mreturn\u001b[39;00m response\n",
      "File \u001b[1;32m~\\anaconda3\\lib\\site-packages\\selenium\\webdriver\\remote\\errorhandler.py:243\u001b[0m, in \u001b[0;36mErrorHandler.check_response\u001b[1;34m(self, response)\u001b[0m\n\u001b[0;32m    241\u001b[0m         alert_text \u001b[38;5;241m=\u001b[39m value[\u001b[38;5;124m'\u001b[39m\u001b[38;5;124malert\u001b[39m\u001b[38;5;124m'\u001b[39m]\u001b[38;5;241m.\u001b[39mget(\u001b[38;5;124m'\u001b[39m\u001b[38;5;124mtext\u001b[39m\u001b[38;5;124m'\u001b[39m)\n\u001b[0;32m    242\u001b[0m     \u001b[38;5;28;01mraise\u001b[39;00m exception_class(message, screen, stacktrace, alert_text)  \u001b[38;5;66;03m# type: ignore[call-arg]  # mypy is not smart enough here\u001b[39;00m\n\u001b[1;32m--> 243\u001b[0m \u001b[38;5;28;01mraise\u001b[39;00m exception_class(message, screen, stacktrace)\n",
      "\u001b[1;31mNoSuchElementException\u001b[0m: Message: no such element: Unable to locate element: {\"method\":\"xpath\",\"selector\":\"//*[@id=\"mountRoot\"]/div/div[1]/main/div[3]/div[1]/section/div/div[5]/ul/li[2]/label\"}\n  (Session info: chrome=107.0.5304.88)\nStacktrace:\nBacktrace:\n\tOrdinal0 [0x00C1ACD3+2075859]\n\tOrdinal0 [0x00BAEE61+1633889]\n\tOrdinal0 [0x00AAB7BD+571325]\n\tOrdinal0 [0x00ADAC2F+764975]\n\tOrdinal0 [0x00ADAE1B+765467]\n\tOrdinal0 [0x00B0D0F2+970994]\n\tOrdinal0 [0x00AF7364+881508]\n\tOrdinal0 [0x00B0B56A+963946]\n\tOrdinal0 [0x00AF7136+880950]\n\tOrdinal0 [0x00ACFEFD+720637]\n\tOrdinal0 [0x00AD0F3F+724799]\n\tGetHandleVerifier [0x00ECEED2+2769538]\n\tGetHandleVerifier [0x00EC0D95+2711877]\n\tGetHandleVerifier [0x00CAA03A+521194]\n\tGetHandleVerifier [0x00CA8DA0+516432]\n\tOrdinal0 [0x00BB682C+1665068]\n\tOrdinal0 [0x00BBB128+1683752]\n\tOrdinal0 [0x00BBB215+1683989]\n\tOrdinal0 [0x00BC6484+1729668]\n\tBaseThreadInitThunk [0x751DFA29+25]\n\tRtlGetAppContainerNamedObjectPath [0x771C7A9E+286]\n\tRtlGetAppContainerNamedObjectPath [0x771C7A6E+238]\n"
     ]
    }
   ],
   "source": [
    "driver.find_element(By.XPATH,'//*[@id=\"mountRoot\"]/div/div[1]/main/div[3]/div[1]/section/div/div[5]/ul/li[2]/label').click()\n",
    "driver.find_element(By.XPATH,'//*[@id=\"mountRoot\"]/div/div[1]/main/div[3]/div[1]/section/div/div[6]/ul/li[1]/label').click()"
   ]
  },
  {
   "cell_type": "code",
   "execution_count": 39,
   "metadata": {},
   "outputs": [],
   "source": [
    "#creating the empty lists\n",
    "Brand=[]\n",
    "Product_Description=[]\n",
    "Price=[]"
   ]
  },
  {
   "cell_type": "code",
   "execution_count": 40,
   "metadata": {},
   "outputs": [],
   "source": [
    "URL=[]\n",
    "for i in range(0,2):\n",
    "    shoes=driver.find_elements(By.XPATH,\"//li[@class='product-base']\")\n",
    "    for i in shoes:\n",
    "        shoes3=i.find_element(By.TAG_NAME,\"a\")\n",
    "        URL.append(shoes3.get_attribute('href'))\n",
    "    driver.find_element(By.XPATH,'//*[@id=\"desktopSearchResults\"]/div[2]/section/div[2]/ul/li[3]').click()\n",
    "    time.sleep(3)"
   ]
  },
  {
   "cell_type": "code",
   "execution_count": 41,
   "metadata": {},
   "outputs": [
    {
     "data": {
      "text/plain": [
       "100"
      ]
     },
     "execution_count": 41,
     "metadata": {},
     "output_type": "execute_result"
    }
   ],
   "source": [
    "len(URL)"
   ]
  },
  {
   "cell_type": "code",
   "execution_count": 42,
   "metadata": {},
   "outputs": [
    {
     "data": {
      "text/html": [
       "<div>\n",
       "<style scoped>\n",
       "    .dataframe tbody tr th:only-of-type {\n",
       "        vertical-align: middle;\n",
       "    }\n",
       "\n",
       "    .dataframe tbody tr th {\n",
       "        vertical-align: top;\n",
       "    }\n",
       "\n",
       "    .dataframe thead th {\n",
       "        text-align: right;\n",
       "    }\n",
       "</style>\n",
       "<table border=\"1\" class=\"dataframe\">\n",
       "  <thead>\n",
       "    <tr style=\"text-align: right;\">\n",
       "      <th></th>\n",
       "      <th>Brand Name</th>\n",
       "      <th>Short Description</th>\n",
       "      <th>Price</th>\n",
       "    </tr>\n",
       "  </thead>\n",
       "  <tbody>\n",
       "    <tr>\n",
       "      <th>0</th>\n",
       "      <td>U.S. Polo Assn.</td>\n",
       "      <td>Men Clarkin Sneakers</td>\n",
       "      <td>Rs. 1649Rs. 2999(45% OFF)</td>\n",
       "    </tr>\n",
       "    <tr>\n",
       "      <th>1</th>\n",
       "      <td>Eego Italy</td>\n",
       "      <td>Men Trekking Shoes</td>\n",
       "      <td>Rs. 987Rs. 2599(62% OFF)</td>\n",
       "    </tr>\n",
       "    <tr>\n",
       "      <th>2</th>\n",
       "      <td>Red Tape</td>\n",
       "      <td>Men Black Mesh Walking Shoes</td>\n",
       "      <td>Rs. 1295Rs. 4799(73% OFF)</td>\n",
       "    </tr>\n",
       "    <tr>\n",
       "      <th>3</th>\n",
       "      <td>Roadster</td>\n",
       "      <td>Men Sneakers</td>\n",
       "      <td>Rs. 872Rs. 3795(77% OFF)</td>\n",
       "    </tr>\n",
       "    <tr>\n",
       "      <th>4</th>\n",
       "      <td>Mast &amp; Harbour</td>\n",
       "      <td>Men Striped Sneakers</td>\n",
       "      <td>Rs. 944Rs. 2699(65% OFF)</td>\n",
       "    </tr>\n",
       "    <tr>\n",
       "      <th>...</th>\n",
       "      <td>...</td>\n",
       "      <td>...</td>\n",
       "      <td>...</td>\n",
       "    </tr>\n",
       "    <tr>\n",
       "      <th>95</th>\n",
       "      <td>ADIDAS</td>\n",
       "      <td>Women Vertago Running Shoes</td>\n",
       "      <td>Rs. 1949Rs. 2999(35% OFF)</td>\n",
       "    </tr>\n",
       "    <tr>\n",
       "      <th>96</th>\n",
       "      <td>Red Tape</td>\n",
       "      <td>Men Walking Shoes</td>\n",
       "      <td>Rs. 1511Rs. 5599(73% OFF)</td>\n",
       "    </tr>\n",
       "    <tr>\n",
       "      <th>97</th>\n",
       "      <td>Roadster</td>\n",
       "      <td>Women Sneakers</td>\n",
       "      <td>Rs. 1599Rs. 2499(Rs. 900 OFF)</td>\n",
       "    </tr>\n",
       "    <tr>\n",
       "      <th>98</th>\n",
       "      <td>U.S. Polo Assn.</td>\n",
       "      <td>Men Solid Horsebit Loafers</td>\n",
       "      <td>Rs. 2279Rs. 3799(40% OFF)</td>\n",
       "    </tr>\n",
       "    <tr>\n",
       "      <th>99</th>\n",
       "      <td>Mactree</td>\n",
       "      <td>Men Textured Suede Fashion</td>\n",
       "      <td>Rs. 840Rs. 4200(80% OFF)</td>\n",
       "    </tr>\n",
       "  </tbody>\n",
       "</table>\n",
       "<p>100 rows × 3 columns</p>\n",
       "</div>"
      ],
      "text/plain": [
       "         Brand Name             Short Description  \\\n",
       "0   U.S. Polo Assn.          Men Clarkin Sneakers   \n",
       "1        Eego Italy            Men Trekking Shoes   \n",
       "2          Red Tape  Men Black Mesh Walking Shoes   \n",
       "3          Roadster                  Men Sneakers   \n",
       "4    Mast & Harbour          Men Striped Sneakers   \n",
       "..              ...                           ...   \n",
       "95           ADIDAS   Women Vertago Running Shoes   \n",
       "96         Red Tape             Men Walking Shoes   \n",
       "97         Roadster                Women Sneakers   \n",
       "98  U.S. Polo Assn.    Men Solid Horsebit Loafers   \n",
       "99          Mactree    Men Textured Suede Fashion   \n",
       "\n",
       "                            Price  \n",
       "0       Rs. 1649Rs. 2999(45% OFF)  \n",
       "1        Rs. 987Rs. 2599(62% OFF)  \n",
       "2       Rs. 1295Rs. 4799(73% OFF)  \n",
       "3        Rs. 872Rs. 3795(77% OFF)  \n",
       "4        Rs. 944Rs. 2699(65% OFF)  \n",
       "..                            ...  \n",
       "95      Rs. 1949Rs. 2999(35% OFF)  \n",
       "96      Rs. 1511Rs. 5599(73% OFF)  \n",
       "97  Rs. 1599Rs. 2499(Rs. 900 OFF)  \n",
       "98      Rs. 2279Rs. 3799(40% OFF)  \n",
       "99       Rs. 840Rs. 4200(80% OFF)  \n",
       "\n",
       "[100 rows x 3 columns]"
      ]
     },
     "execution_count": 42,
     "metadata": {},
     "output_type": "execute_result"
    }
   ],
   "source": [
    "name=[]\n",
    "des=[]\n",
    "price=[]\n",
    "for i in range(2):\n",
    "    \n",
    "    brand=driver.find_elements(By.CLASS_NAME,'product-brand')\n",
    "    for i in brand:\n",
    "        name.append(i.text)\n",
    "        \n",
    "    desc=driver.find_elements(By.CLASS_NAME,'product-product')\n",
    "    for i in desc:\n",
    "        des.append(i.text)\n",
    "        \n",
    "    pr=driver.find_elements(By.CLASS_NAME,'product-price')\n",
    "    for i in pr:\n",
    "        price.append(i.text)\n",
    "        \n",
    "    Next=driver.find_element(By.XPATH,'//a[@rel=\"next\"]')\n",
    "    Next.click\n",
    "    \n",
    "    \n",
    "que7=pd.DataFrame({'Brand Name':name,'Short Description':des,'Price':price})\n",
    "que7"
   ]
  },
  {
   "cell_type": "markdown",
   "metadata": {},
   "source": [
    "# 8. Go to webpage https://www.amazon.in/ Enter “Laptop” in the search field and then click the search icon.Then set CPU Type filter to “Intel Core i7” and “Intel Core i9” as shown in the below image:\n",
    "    \n",
    "After setting the filters scrape first 10 laptops data. You have to scrape 3 attributes for each laptop:\n",
    "1. title\n",
    "2. Ratings\n",
    "3. Price\n",
    "\n",
    "Note: All the steps required during scrapig should be done through code only and not manually."
   ]
  },
  {
   "cell_type": "code",
   "execution_count": 113,
   "metadata": {},
   "outputs": [
    {
     "data": {
      "text/plain": [
       "<selenium.webdriver.chrome.webdriver.WebDriver (session=\"a1c0f9553c05f037d8c5db2fd7836105\")>"
      ]
     },
     "execution_count": 113,
     "metadata": {},
     "output_type": "execute_result"
    }
   ],
   "source": [
    "# Let's first connect to web driver.\n",
    "driver=webdriver.Chrome(r\"H:\\Data_Science\\chromedriver.exe\")\n",
    "driver"
   ]
  },
  {
   "cell_type": "code",
   "execution_count": 114,
   "metadata": {},
   "outputs": [],
   "source": [
    "# Opening amazon.com\n",
    "url ='https://www.amazon.in/'\n",
    "driver.get(url)"
   ]
  },
  {
   "cell_type": "code",
   "execution_count": 115,
   "metadata": {},
   "outputs": [],
   "source": [
    "driver.find_element(By.XPATH,'//*[@id=\"twotabsearchtextbox\"]').send_keys('laptop')\n",
    "driver.find_element(By.XPATH,'//*[@id=\"nav-search-submit-button\"]').click()"
   ]
  },
  {
   "cell_type": "code",
   "execution_count": 116,
   "metadata": {},
   "outputs": [],
   "source": [
    "driver.find_element(By.XPATH,'//*[@id=\"p_n_feature_thirteen_browse-bin/12598163031\"]/span/a/div').click()\n",
    "driver.find_element(By.XPATH,'//*[@id=\"p_n_feature_thirteen_browse-bin/16757432031\"]/span').click()"
   ]
  },
  {
   "cell_type": "code",
   "execution_count": 118,
   "metadata": {},
   "outputs": [
    {
     "data": {
      "text/html": [
       "<div>\n",
       "<style scoped>\n",
       "    .dataframe tbody tr th:only-of-type {\n",
       "        vertical-align: middle;\n",
       "    }\n",
       "\n",
       "    .dataframe tbody tr th {\n",
       "        vertical-align: top;\n",
       "    }\n",
       "\n",
       "    .dataframe thead th {\n",
       "        text-align: right;\n",
       "    }\n",
       "</style>\n",
       "<table border=\"1\" class=\"dataframe\">\n",
       "  <thead>\n",
       "    <tr style=\"text-align: right;\">\n",
       "      <th></th>\n",
       "      <th>Title</th>\n",
       "      <th>Rating</th>\n",
       "      <th>Price</th>\n",
       "    </tr>\n",
       "  </thead>\n",
       "  <tbody>\n",
       "    <tr>\n",
       "      <th>0</th>\n",
       "      <td>Acer Predator Helios 300 Gaming Laptop Intel C...</td>\n",
       "      <td>3.8 out of 5 stars</td>\n",
       "      <td>1,24,990</td>\n",
       "    </tr>\n",
       "    <tr>\n",
       "      <th>1</th>\n",
       "      <td>Lenovo ThinkBook 15 Intel 11th Gen Core i7 15....</td>\n",
       "      <td>3.6 out of 5 stars</td>\n",
       "      <td>77,500</td>\n",
       "    </tr>\n",
       "    <tr>\n",
       "      <th>2</th>\n",
       "      <td>Acer Predator Helios 500 Gaming Laptop (11Th G...</td>\n",
       "      <td>5.0 out of 5 stars</td>\n",
       "      <td>4,32,435</td>\n",
       "    </tr>\n",
       "    <tr>\n",
       "      <th>3</th>\n",
       "      <td>Lenovo ThinkBook 15 Intel 11th Gen Core i7 15....</td>\n",
       "      <td>3.6 out of 5 stars</td>\n",
       "      <td>77,500</td>\n",
       "    </tr>\n",
       "    <tr>\n",
       "      <th>4</th>\n",
       "      <td>HP Pavilion x360 11th Gen Intel Core i7 14 inc...</td>\n",
       "      <td>4.5 out of 5 stars</td>\n",
       "      <td>80,490</td>\n",
       "    </tr>\n",
       "    <tr>\n",
       "      <th>5</th>\n",
       "      <td>Lenovo IdeaPad Slim 5 12th Gen Intel Core i7 1...</td>\n",
       "      <td>4.3 out of 5 stars</td>\n",
       "      <td>83,990</td>\n",
       "    </tr>\n",
       "    <tr>\n",
       "      <th>6</th>\n",
       "      <td>Acer Predator Helios 300 Gaming Laptop Intel C...</td>\n",
       "      <td>3.8 out of 5 stars</td>\n",
       "      <td>1,24,990</td>\n",
       "    </tr>\n",
       "    <tr>\n",
       "      <th>7</th>\n",
       "      <td>(Renewed) HP ProBook 430 G3 6th Gen Intel Core...</td>\n",
       "      <td>3.5 out of 5 stars</td>\n",
       "      <td>25,895</td>\n",
       "    </tr>\n",
       "    <tr>\n",
       "      <th>8</th>\n",
       "      <td>Samsung Galaxy Book2 Intel 12th Gen core i7 39...</td>\n",
       "      <td>3.6 out of 5 stars</td>\n",
       "      <td>86,956</td>\n",
       "    </tr>\n",
       "    <tr>\n",
       "      <th>9</th>\n",
       "      <td>HP Pavilion Plus, 12th Gen Intel Core i7 16GB ...</td>\n",
       "      <td>4.1 out of 5 stars</td>\n",
       "      <td>93,999</td>\n",
       "    </tr>\n",
       "  </tbody>\n",
       "</table>\n",
       "</div>"
      ],
      "text/plain": [
       "                                               Title              Rating  \\\n",
       "0  Acer Predator Helios 300 Gaming Laptop Intel C...  3.8 out of 5 stars   \n",
       "1  Lenovo ThinkBook 15 Intel 11th Gen Core i7 15....  3.6 out of 5 stars   \n",
       "2  Acer Predator Helios 500 Gaming Laptop (11Th G...  5.0 out of 5 stars   \n",
       "3  Lenovo ThinkBook 15 Intel 11th Gen Core i7 15....  3.6 out of 5 stars   \n",
       "4  HP Pavilion x360 11th Gen Intel Core i7 14 inc...  4.5 out of 5 stars   \n",
       "5  Lenovo IdeaPad Slim 5 12th Gen Intel Core i7 1...  4.3 out of 5 stars   \n",
       "6  Acer Predator Helios 300 Gaming Laptop Intel C...  3.8 out of 5 stars   \n",
       "7  (Renewed) HP ProBook 430 G3 6th Gen Intel Core...  3.5 out of 5 stars   \n",
       "8  Samsung Galaxy Book2 Intel 12th Gen core i7 39...  3.6 out of 5 stars   \n",
       "9  HP Pavilion Plus, 12th Gen Intel Core i7 16GB ...  4.1 out of 5 stars   \n",
       "\n",
       "      Price  \n",
       "0  1,24,990  \n",
       "1    77,500  \n",
       "2  4,32,435  \n",
       "3    77,500  \n",
       "4    80,490  \n",
       "5    83,990  \n",
       "6  1,24,990  \n",
       "7    25,895  \n",
       "8    86,956  \n",
       "9    93,999  "
      ]
     },
     "execution_count": 118,
     "metadata": {},
     "output_type": "execute_result"
    }
   ],
   "source": [
    "title=[]\n",
    "rating=[]\n",
    "price=[]\n",
    "tt=driver.find_elements(By.XPATH,'//span[@class=\"a-size-medium a-color-base a-text-normal\"]')\n",
    "for i in tt:\n",
    "    title.append(i.text)\n",
    "    \n",
    "title=title[0:10]\n",
    "\n",
    "rat=driver.find_elements(By.CLASS_NAME,'a-icon-alt')\n",
    "for i in rat:\n",
    "    rating.append(i.get_attribute('textContent'))\n",
    "    \n",
    "rating=rating[0:10]\n",
    "\n",
    "pr=driver.find_elements(By.XPATH,'//span[@class=\"a-price-whole\"]')\n",
    "for i in pr:\n",
    "    price.append(i.text)\n",
    "    \n",
    "price=price[0:10]\n",
    "\n",
    "que8=pd.DataFrame({'Title':title,'Rating':rating,'Price':price})\n",
    "que8"
   ]
  },
  {
   "cell_type": "markdown",
   "metadata": {},
   "source": [
    "# 9. Write a python program to scrape data for Top 1000 Quotes of all Time. The above task will be done in the following steps:"
   ]
  },
  {
   "cell_type": "markdown",
   "metadata": {},
   "source": [
    " 1. First get the webpage https://azquotes.com/\n",
    " 2. Click on Top Quotes\n",
    " 3. Than scrap a) Quotes b) Author c) Type of Quote"
   ]
  },
  {
   "cell_type": "code",
   "execution_count": 12,
   "metadata": {},
   "outputs": [
    {
     "data": {
      "text/plain": [
       "<selenium.webdriver.chrome.webdriver.WebDriver (session=\"700ed91d31e3ff711c0f78c048eacca9\")>"
      ]
     },
     "execution_count": 12,
     "metadata": {},
     "output_type": "execute_result"
    }
   ],
   "source": [
    "# Let's first connect to web driver.\n",
    "driver=webdriver.Chrome(r\"H:\\Data_Science\\chromedriver.exe\")\n",
    "driver"
   ]
  },
  {
   "cell_type": "code",
   "execution_count": 14,
   "metadata": {},
   "outputs": [],
   "source": [
    "# Opening naukri.com.\n",
    "url ='https://www.azquotes.com/'\n",
    "driver.get(url)"
   ]
  },
  {
   "cell_type": "code",
   "execution_count": null,
   "metadata": {},
   "outputs": [],
   "source": []
  },
  {
   "cell_type": "markdown",
   "metadata": {},
   "source": [
    "# 10. Write a python program to display list of respected former Prime Ministers of India(i.e. Name, Born-Dead, Term of office, Remarks) from https://www.jagranjosh.com/. This task will be done in following steps:\n",
    "1. First get the webpage https://www.jagranjosh.com/\n",
    "2. Then you have to click on the GK option\n",
    "3. Then click on the List of all Prime Ministers of India\n",
    "4. Then scrap the mentioned data and make the DataFrame"
   ]
  },
  {
   "cell_type": "code",
   "execution_count": 35,
   "metadata": {},
   "outputs": [
    {
     "data": {
      "text/plain": [
       "<selenium.webdriver.chrome.webdriver.WebDriver (session=\"bd9c619680c85b92f6701f340f188153\")>"
      ]
     },
     "execution_count": 35,
     "metadata": {},
     "output_type": "execute_result"
    }
   ],
   "source": [
    "# Let's first connect to web driver.\n",
    "driver=webdriver.Chrome(r\"H:\\Data_Science\\chromedriver.exe\")\n",
    "driver"
   ]
  },
  {
   "cell_type": "code",
   "execution_count": 36,
   "metadata": {},
   "outputs": [],
   "source": [
    "# Opening naukri.com.\n",
    "url ='https://www.jagranjosh.com/'\n",
    "driver.get(url)"
   ]
  },
  {
   "cell_type": "code",
   "execution_count": null,
   "metadata": {},
   "outputs": [],
   "source": []
  }
 ],
 "metadata": {
  "kernelspec": {
   "display_name": "Python 3 (ipykernel)",
   "language": "python",
   "name": "python3"
  },
  "language_info": {
   "codemirror_mode": {
    "name": "ipython",
    "version": 3
   },
   "file_extension": ".py",
   "mimetype": "text/x-python",
   "name": "python",
   "nbconvert_exporter": "python",
   "pygments_lexer": "ipython3",
   "version": "3.9.12"
  }
 },
 "nbformat": 4,
 "nbformat_minor": 4
}
